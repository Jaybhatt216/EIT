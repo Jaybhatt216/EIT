{
  "nbformat": 4,
  "nbformat_minor": 0,
  "metadata": {
    "colab": {
      "name": "Blackjack-v0.ipynb",
      "provenance": [],
      "authorship_tag": "ABX9TyPbM2+aTTlGcDxPtn6XM9Jk",
      "include_colab_link": true
    },
    "kernelspec": {
      "name": "python3",
      "display_name": "Python 3"
    },
    "language_info": {
      "name": "python"
    }
  },
  "cells": [
    {
      "cell_type": "markdown",
      "metadata": {
        "id": "view-in-github",
        "colab_type": "text"
      },
      "source": [
        "<a href=\"https://colab.research.google.com/github/Jaybhatt216/EIT/blob/main/Blackjack_v0.ipynb\" target=\"_parent\"><img src=\"https://colab.research.google.com/assets/colab-badge.svg\" alt=\"Open In Colab\"/></a>"
      ]
    },
    {
      "cell_type": "code",
      "metadata": {
        "colab": {
          "base_uri": "https://localhost:8080/",
          "height": 473
        },
        "id": "AH7Xf28UPb28",
        "outputId": "72100ab3-0b45-42b4-e338-47795fb825b5"
      },
      "source": [
        "import gym\n",
        "import numpy as np\n",
        "import matplotlib.pyplot as plt\n",
        "\n",
        "if __name__ == '__main__':\n",
        "    env = gym.make('Blackjack-v0')\n",
        "    EPS = 0.05\n",
        "    GAMMA = 1.0\n",
        "\n",
        "    Q = {}\n",
        "    agentSumSpace = [i for i in range(4, 22)]\n",
        "    dealerShowCardSpace = [i+1 for i in range(10)]\n",
        "    agentAceSpace = [False, True]\n",
        "    actionSpace = [0, 1] # stick or hit\n",
        "\n",
        "    stateSpace = []\n",
        "    returns = {}\n",
        "    pairsVisited = {}\n",
        "    for total in agentSumSpace:\n",
        "        for card in dealerShowCardSpace:\n",
        "            for ace in agentAceSpace:\n",
        "                for action in actionSpace:\n",
        "                    Q[((total, card, ace), action)] = 0\n",
        "                    returns[((total, card, ace), action)] = 0\n",
        "                    pairsVisited[((total, card, ace), action)] = 0\n",
        "                stateSpace.append((total, card, ace))\n",
        "    \n",
        "    policy = {}\n",
        "    for state in stateSpace:\n",
        "        policy[state] = np.random.choice(actionSpace)\n",
        "\n",
        "    numEpisodes = 1000000\n",
        "    for i in range(numEpisodes):\n",
        "        statesActionsReturns = []\n",
        "        memory = []\n",
        "        if i % 100000 == 0:\n",
        "            print('starting episode', i)\n",
        "        observation = env.reset()\n",
        "        done = False\n",
        "        while not done:\n",
        "            action = policy[observation]\n",
        "            observation_, reward, done, info = env.step(action)\n",
        "            memory.append((observation[0], observation[1], observation[2], action, reward))\n",
        "            observation = observation_\n",
        "        memory.append((observation[0], observation[1], observation[2], action, reward))    \n",
        "\n",
        "        G = 0\n",
        "        last = True\n",
        "        for playerSum, dealerCard, usableAce, action, reward in reversed(memory):\n",
        "            if last:\n",
        "                last = False\n",
        "            else:\n",
        "                statesActionsReturns.append((playerSum, dealerCard, usableAce, action, G))\n",
        "            G = GAMMA*G + reward\n",
        "\n",
        "        statesActionsReturns.reverse()\n",
        "        statesActionsVisited = []\n",
        "\n",
        "        for playerSum, dealerCard, usableAce, action, G in statesActionsReturns:\n",
        "            sa = ((playerSum, dealerCard, usableAce), action)\n",
        "            if sa not in statesActionsVisited:\n",
        "                pairsVisited[sa] += 1\n",
        "                # incremental implementation\n",
        "                # new estimate = 1 / N * [sample - old estimate]\n",
        "                returns[(sa)] += (1 / pairsVisited[(sa)])*(G-returns[(sa)])\n",
        "                Q[sa] = returns[sa]\n",
        "                rand = np.random.random()\n",
        "                if rand < 1 - EPS:\n",
        "                    state = (playerSum, dealerCard, usableAce)\n",
        "                    values = np.array([Q[(state, a)] for a in actionSpace ])\n",
        "                    best = np.random.choice(np.where(values==values.max())[0])\n",
        "                    policy[state] = actionSpace[best]\n",
        "                else:\n",
        "                    policy[state] = np.random.choice(actionSpace)\n",
        "                statesActionsVisited.append(sa)\n",
        "        if EPS - 1e-7 > 0:\n",
        "            EPS -= 1e-7\n",
        "        else:\n",
        "            EPS = 0\n",
        "\n",
        "    numEpisodes = 1000\n",
        "    rewards = np.zeros(numEpisodes)\n",
        "    totalReward = 0\n",
        "    wins = 0\n",
        "    losses = 0\n",
        "    draws = 0\n",
        "    print('getting ready to test policy')   \n",
        "    for i in range(numEpisodes):\n",
        "        observation = env.reset()\n",
        "        done = False\n",
        "        while not done:\n",
        "            action = policy[observation]\n",
        "            observation_, reward, done, info = env.step(action)            \n",
        "            observation = observation_\n",
        "        totalReward += reward\n",
        "        rewards[i] = totalReward\n",
        "\n",
        "        if reward >= 1:\n",
        "            wins += 1\n",
        "        elif reward == 0:\n",
        "            draws += 1\n",
        "        elif reward == -1:\n",
        "            losses += 1\n",
        "    \n",
        "    wins /= numEpisodes\n",
        "    losses /= numEpisodes\n",
        "    draws /= numEpisodes\n",
        "    print('win rate', wins, 'loss rate', losses, 'draw rate', draws)\n",
        "    plt.plot(rewards)\n",
        "    plt.show()   "
      ],
      "execution_count": 4,
      "outputs": [
        {
          "output_type": "stream",
          "name": "stdout",
          "text": [
            "starting episode 0\n",
            "starting episode 100000\n",
            "starting episode 200000\n",
            "starting episode 300000\n",
            "starting episode 400000\n",
            "starting episode 500000\n",
            "starting episode 600000\n",
            "starting episode 700000\n",
            "starting episode 800000\n",
            "starting episode 900000\n",
            "getting ready to test policy\n",
            "win rate 0.4 loss rate 0.531 draw rate 0.069\n"
          ]
        },
        {
          "output_type": "display_data",
          "data": {
            "image/png": "[encoded data removed]",
            "text/plain": [
              "<Figure size 432x288 with 1 Axes>"
            ]
          },
          "metadata": {
            "needs_background": "light"
          }
        }
      ]
    },
    {
      "cell_type": "code",
      "metadata": {
        "id": "8ldiZXyEPcxb"
      },
      "source": [
        ""
      ],
      "execution_count": null,
      "outputs": []
    }
  ]
}