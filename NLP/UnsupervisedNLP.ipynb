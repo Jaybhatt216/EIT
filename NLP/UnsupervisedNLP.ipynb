{
  "nbformat": 4,
  "nbformat_minor": 0,
  "metadata": {
    "colab": {
      "name": "UnsupervisedNLP.ipynb",
      "provenance": [],
      "collapsed_sections": []
    },
    "kernelspec": {
      "name": "python3",
      "display_name": "Python 3"
    }
  },
  "cells": [
    {
      "cell_type": "code",
      "metadata": {
        "id": "xVw48JoPe1r5",
        "colab": {
          "base_uri": "https://localhost:8080/"
        },
        "outputId": "df4acb7b-c416-4908-8b86-1ed35b3fe420"
      },
      "source": [
        "# Essentials\r\n",
        "import numpy as np\r\n",
        "import numpy.linalg as lg\r\n",
        "import pandas as pd\r\n",
        "import matplotlib.pyplot as plt\r\n",
        "import seaborn as sns\r\n",
        "import string\r\n",
        "import os\r\n",
        "import re #########\r\n",
        "\r\n",
        "# Tensor\r\n",
        "import tensorflow as tf\r\n",
        "import tensorflow_hub as hub\r\n",
        "\r\n",
        "# NLTK\r\n",
        "import nltk\r\n",
        "from nltk import word_tokenize\r\n",
        "from nltk.corpus import stopwords\r\n",
        "from nltk.stem.porter import PorterStemmer \r\n",
        "from nltk import pos_tag\r\n",
        "nltk.download(\"stopwords\")\r\n",
        "nltk.download('punkt')\r\n",
        "nltk.download(\"averaged_perceptron_tagger\")\r\n",
        "\r\n"
      ],
      "execution_count": null,
      "outputs": [
        {
          "output_type": "stream",
          "text": [
            "[nltk_data] Downloading package stopwords to /root/nltk_data...\n",
            "[nltk_data]   Package stopwords is already up-to-date!\n",
            "[nltk_data] Downloading package punkt to /root/nltk_data...\n",
            "[nltk_data]   Package punkt is already up-to-date!\n",
            "[nltk_data] Downloading package averaged_perceptron_tagger to\n",
            "[nltk_data]     /root/nltk_data...\n",
            "[nltk_data]   Package averaged_perceptron_tagger is already up-to-\n",
            "[nltk_data]       date!\n"
          ],
          "name": "stdout"
        },
        {
          "output_type": "execute_result",
          "data": {
            "text/plain": [
              "True"
            ]
          },
          "metadata": {
            "tags": []
          },
          "execution_count": 18
        }
      ]
    },
    {
      "cell_type": "code",
      "metadata": {
        "id": "UJF48ZQUfGpQ"
      },
      "source": [
        "module_url = 'https://tfhub.dev/google/universal-sentence-encoder/4'"
      ],
      "execution_count": null,
      "outputs": []
    },
    {
      "cell_type": "code",
      "metadata": {
        "id": "lrdzAsZpxZwz"
      },
      "source": [
        ""
      ],
      "execution_count": null,
      "outputs": []
    },
    {
      "cell_type": "code",
      "metadata": {
        "id": "e6CRx_zFfQCp"
      },
      "source": [
        "embedder = hub.load(module_url)\r\n",
        "\r\n"
      ],
      "execution_count": null,
      "outputs": []
    },
    {
      "cell_type": "code",
      "metadata": {
        "id": "aMr_hQgce-N0"
      },
      "source": [
        "def TextPreprocesor(sentence):\r\n",
        "\r\n",
        "  text = sentence.lower()\r\n",
        "  text_p = \"\".join([char for char in text if char not in string.punctuation])\r\n",
        "  clean_sentence = re.sub(r'http\\S+', '', text_p)\r\n",
        "  return clean_sentence\r\n",
        "        "
      ],
      "execution_count": null,
      "outputs": []
    },
    {
      "cell_type": "code",
      "metadata": {
        "id": "V1ZRjzmSi1bh"
      },
      "source": [
        "def embed(sentence):\r\n",
        "  sentence_in = [sentence]\r\n",
        "  return embedder(sentence_in)"
      ],
      "execution_count": null,
      "outputs": []
    },
    {
      "cell_type": "code",
      "metadata": {
        "id": "niNUy-uh29lE"
      },
      "source": [
        "def data_Load(file):\r\n",
        "  data = pd.read_csv(file, header = 0,encoding= 'iso-8859-1')\r\n",
        "  X = data.Tweet\r\n",
        "  return X\r\n"
      ],
      "execution_count": null,
      "outputs": []
    },
    {
      "cell_type": "code",
      "metadata": {
        "id": "fqqEnwkhzfT8"
      },
      "source": [
        "X = data_Load('/content/data_elonmusk.csv')"
      ],
      "execution_count": null,
      "outputs": []
    },
    {
      "cell_type": "code",
      "metadata": {
        "colab": {
          "base_uri": "https://localhost:8080/",
          "height": 204
        },
        "id": "W8daj35B9tQL",
        "outputId": "621505da-b979-4f06-d742-5a677a247d17"
      },
      "source": [
        "X.head()"
      ],
      "execution_count": null,
      "outputs": [
        {
          "output_type": "execute_result",
          "data": {
            "text/html": [
              "<div>\n",
              "<style scoped>\n",
              "    .dataframe tbody tr th:only-of-type {\n",
              "        vertical-align: middle;\n",
              "    }\n",
              "\n",
              "    .dataframe tbody tr th {\n",
              "        vertical-align: top;\n",
              "    }\n",
              "\n",
              "    .dataframe thead th {\n",
              "        text-align: right;\n",
              "    }\n",
              "</style>\n",
              "<table border=\"1\" class=\"dataframe\">\n",
              "  <thead>\n",
              "    <tr style=\"text-align: right;\">\n",
              "      <th></th>\n",
              "      <th>row ID</th>\n",
              "      <th>Tweet</th>\n",
              "      <th>Time</th>\n",
              "      <th>Retweet from</th>\n",
              "      <th>User</th>\n",
              "    </tr>\n",
              "  </thead>\n",
              "  <tbody>\n",
              "    <tr>\n",
              "      <th>0</th>\n",
              "      <td>Row0</td>\n",
              "      <td>@MeltingIce Assuming max acceleration of 2 to ...</td>\n",
              "      <td>2017-09-29 17:39:19</td>\n",
              "      <td>NaN</td>\n",
              "      <td>elonmusk</td>\n",
              "    </tr>\n",
              "    <tr>\n",
              "      <th>1</th>\n",
              "      <td>Row1</td>\n",
              "      <td>RT @SpaceX: BFR is capable of transporting sat...</td>\n",
              "      <td>2017-09-29 10:44:54</td>\n",
              "      <td>SpaceX</td>\n",
              "      <td>elonmusk</td>\n",
              "    </tr>\n",
              "    <tr>\n",
              "      <th>2</th>\n",
              "      <td>Row2</td>\n",
              "      <td>@bigajm Yup :)</td>\n",
              "      <td>2017-09-29 10:39:57</td>\n",
              "      <td>NaN</td>\n",
              "      <td>elonmusk</td>\n",
              "    </tr>\n",
              "    <tr>\n",
              "      <th>3</th>\n",
              "      <td>Row3</td>\n",
              "      <td>Part 2 https://t.co/8Fvu57muhM</td>\n",
              "      <td>2017-09-29 09:56:12</td>\n",
              "      <td>NaN</td>\n",
              "      <td>elonmusk</td>\n",
              "    </tr>\n",
              "    <tr>\n",
              "      <th>4</th>\n",
              "      <td>Row4</td>\n",
              "      <td>Fly to most places on Earth in under 30 mins a...</td>\n",
              "      <td>2017-09-29 09:19:21</td>\n",
              "      <td>NaN</td>\n",
              "      <td>elonmusk</td>\n",
              "    </tr>\n",
              "  </tbody>\n",
              "</table>\n",
              "</div>"
            ],
            "text/plain": [
              "  row ID  ...      User\n",
              "0   Row0  ...  elonmusk\n",
              "1   Row1  ...  elonmusk\n",
              "2   Row2  ...  elonmusk\n",
              "3   Row3  ...  elonmusk\n",
              "4   Row4  ...  elonmusk\n",
              "\n",
              "[5 rows x 5 columns]"
            ]
          },
          "metadata": {
            "tags": []
          },
          "execution_count": 99
        }
      ]
    },
    {
      "cell_type": "code",
      "metadata": {
        "id": "BtFbolNk1Uj0"
      },
      "source": [
        "def LoadVectors(X):\r\n",
        "  Dict_of_sent = dict() #or use {} intead\r\n",
        "  for i in range(len(X)):  \r\n",
        "    Dict_of_sent[i] = {\"sentence\":X[i],\"vector\": embed(TextPreprocesor(X[i]))}\r\n",
        "  return Dict_of_sent\r\n"
      ],
      "execution_count": null,
      "outputs": []
    },
    {
      "cell_type": "code",
      "metadata": {
        "id": "m66Pxqx-rxQu"
      },
      "source": [
        "MyNLP_dictionary = LoadVectors(X)"
      ],
      "execution_count": null,
      "outputs": []
    },
    {
      "cell_type": "code",
      "metadata": {
        "colab": {
          "base_uri": "https://localhost:8080/",
          "height": 52
        },
        "id": "5nTl4J9yAd-n",
        "outputId": "16abb921-04b3-49bc-a9a0-2052ba1e5437"
      },
      "source": [
        "MyNLP_dictionary[1]['sentence']"
      ],
      "execution_count": null,
      "outputs": [
        {
          "output_type": "execute_result",
          "data": {
            "application/vnd.google.colaboratory.intrinsic+json": {
              "type": "string"
            },
            "text/plain": [
              "'RT @SpaceX: BFR is capable of transporting satellites to orbit, crew and cargo to the @Space_Station and completing missions to the Moon an?'"
            ]
          },
          "metadata": {
            "tags": []
          },
          "execution_count": 119
        }
      ]
    },
    {
      "cell_type": "code",
      "metadata": {
        "id": "E3g-ocwj6_C6"
      },
      "source": [
        "my_tweets =[]"
      ],
      "execution_count": null,
      "outputs": []
    },
    {
      "cell_type": "code",
      "metadata": {
        "id": "0RENmdKq0JQz"
      },
      "source": [
        "for i in range(len(X)):\r\n",
        "  my_tweets.append(np.hstack(MyNLP_dictionary[1][\"vector\"].numpy()))"
      ],
      "execution_count": null,
      "outputs": []
    },
    {
      "cell_type": "code",
      "metadata": {
        "colab": {
          "base_uri": "https://localhost:8080/"
        },
        "id": "Ouwl4WJLAPL8",
        "outputId": "bfb9cd12-fe5b-4942-cca6-ff38a1daca4d"
      },
      "source": [
        "my_tweets[1]"
      ],
      "execution_count": null,
      "outputs": [
        {
          "output_type": "execute_result",
          "data": {
            "text/plain": [
              "array([ 0.01734015, -0.06106213, -0.06993027, -0.02294972,  0.05615214,\n",
              "       -0.07459833, -0.05954868, -0.01459511, -0.02135428, -0.05368631,\n",
              "        0.04651807,  0.05609907, -0.06865942, -0.04558478, -0.02427234,\n",
              "       -0.04405522,  0.03987061,  0.04112512,  0.00963938,  0.06971433,\n",
              "       -0.01230996, -0.00133641,  0.04094636,  0.07408419,  0.0419018 ,\n",
              "       -0.00599726,  0.03401946, -0.02129944, -0.05508552, -0.0533784 ,\n",
              "       -0.06532577,  0.02602362, -0.07273452, -0.04353828,  0.05333288,\n",
              "       -0.06601047,  0.01036436,  0.04734929,  0.05103682,  0.00048286,\n",
              "        0.0617723 ,  0.02654728, -0.06029916, -0.00557695, -0.06749777,\n",
              "        0.06509016,  0.04440732, -0.02439546, -0.04603451,  0.07415035,\n",
              "       -0.05738207, -0.01222602, -0.02206281,  0.06495102, -0.07289523,\n",
              "        0.07212436, -0.03919563,  0.04354513,  0.01237272,  0.04284554,\n",
              "        0.02290025, -0.07287591,  0.05132308,  0.01019896, -0.02939525,\n",
              "       -0.00577107,  0.00889853,  0.04060297, -0.05848072,  0.06775846,\n",
              "       -0.07149669, -0.03346189, -0.04088037, -0.06496165,  0.02448668,\n",
              "       -0.02688468,  0.04203619,  0.05236671,  0.04902174,  0.04918858,\n",
              "        0.07463201, -0.01801714,  0.00420544,  0.05559075, -0.04663164,\n",
              "        0.01817177, -0.07256753, -0.0400507 , -0.04136186, -0.05068243,\n",
              "       -0.00031253,  0.01487618,  0.02491588,  0.06341469,  0.00500249,\n",
              "       -0.05428963, -0.00049694, -0.01081724,  0.06973734, -0.04205289,\n",
              "       -0.01196395, -0.06058217, -0.04497078, -0.03512283, -0.05619032,\n",
              "        0.05847093, -0.04406549,  0.01597808, -0.04306822, -0.00804898,\n",
              "       -0.01447403,  0.01156459, -0.00668909,  0.03461326, -0.06402639,\n",
              "       -0.04861622, -0.07113745,  0.01311965, -0.0746502 , -0.0611147 ,\n",
              "       -0.0278705 , -0.03477256,  0.0636965 ,  0.02215712,  0.06124604,\n",
              "        0.00357571,  0.06818265, -0.06767474,  0.00931477, -0.06870192,\n",
              "       -0.02339157,  0.07089096, -0.00776534, -0.03873597, -0.04241285,\n",
              "       -0.03779654,  0.02957087,  0.04615307,  0.04120811,  0.03490259,\n",
              "       -0.05139948,  0.04390289, -0.00495038,  0.04799492,  0.06678814,\n",
              "       -0.06845335, -0.02449986, -0.06562256, -0.01957847, -0.02915227,\n",
              "        0.05951508, -0.06068684, -0.00486136, -0.00167848, -0.07282665,\n",
              "       -0.04801449, -0.07012643,  0.02936497, -0.03083088,  0.04775971,\n",
              "        0.02463969,  0.05783057, -0.02535037,  0.05889148,  0.00074712,\n",
              "        0.0323028 ,  0.01708845,  0.01163381,  0.04001184, -0.01120373,\n",
              "        0.00755411,  0.04132655, -0.01763236,  0.00782368, -0.00033923,\n",
              "       -0.00311648,  0.0269124 , -0.05293873,  0.00054625,  0.01223665,\n",
              "       -0.04027344, -0.00126362,  0.02187672,  0.02345016,  0.07128427,\n",
              "        0.01634903,  0.069474  , -0.05064474,  0.01939591, -0.03566372,\n",
              "       -0.05584624,  0.01207884,  0.01543694,  0.04454954,  0.03753369,\n",
              "       -0.03691137,  0.05756465,  0.03192054, -0.04600029,  0.0527008 ,\n",
              "        0.06224503, -0.06444882, -0.06026724, -0.0384075 ,  0.00710064,\n",
              "        0.05988724,  0.06478748, -0.00516004, -0.04784867, -0.07297333,\n",
              "        0.00659579, -0.03074645, -0.01508319, -0.03741672, -0.06200791,\n",
              "        0.02712838, -0.04091183,  0.01751746, -0.04801551, -0.01713284,\n",
              "        0.05019459,  0.00217412,  0.06962521, -0.02108592, -0.00502789,\n",
              "        0.00042411,  0.04082376, -0.05671346, -0.05156613,  0.0494611 ,\n",
              "        0.03113115, -0.02680104,  0.03790556, -0.07012797,  0.06880124,\n",
              "       -0.03445607, -0.03491836, -0.04906765,  0.04892521,  0.02515525,\n",
              "        0.01877817,  0.00096   ,  0.00048145, -0.0050376 , -0.03754188,\n",
              "       -0.03383242,  0.03724269,  0.01640647,  0.0450594 ,  0.02859718,\n",
              "       -0.02909024,  0.05063969,  0.05682594, -0.03381278,  0.00363723,\n",
              "        0.0460388 , -0.02452093,  0.04389698,  0.06902776,  0.00185509,\n",
              "        0.04915216,  0.05459886, -0.04702796,  0.03605592,  0.06877763,\n",
              "       -0.03904769,  0.04372715,  0.02829561,  0.05449782,  0.02344126,\n",
              "       -0.02670027, -0.03059404,  0.03867007,  0.01915492,  0.04529826,\n",
              "        0.07458493,  0.02266507,  0.00696235,  0.07205534, -0.04692609,\n",
              "        0.05669241, -0.04778358,  0.00272212,  0.00902849,  0.05155238,\n",
              "       -0.04901041, -0.05381147,  0.02687787, -0.04905457, -0.05735211,\n",
              "       -0.05022127, -0.05672272,  0.07299025, -0.07247818,  0.04018662,\n",
              "       -0.04185217, -0.02225411,  0.01656879, -0.05200244,  0.0464878 ,\n",
              "       -0.0270825 ,  0.00915617,  0.0227038 , -0.00565739, -0.04574204,\n",
              "       -0.03876508,  0.01328363,  0.06541189, -0.02761081, -0.02766073,\n",
              "        0.07326335, -0.05409255,  0.03317789,  0.03987572, -0.02029362,\n",
              "        0.00724336,  0.0412812 ,  0.06446536,  0.02719049,  0.04473716,\n",
              "        0.05568231, -0.0475684 , -0.0580114 , -0.07292271, -0.01213014,\n",
              "        0.00413999, -0.05066631,  0.0398522 ,  0.06451865, -0.07097705,\n",
              "       -0.0280696 , -0.05952534, -0.02997456,  0.02454109, -0.02544231,\n",
              "       -0.00096084, -0.01268718,  0.07436199, -0.02863777,  0.06116234,\n",
              "        0.03970565,  0.00388595, -0.02979494,  0.01638359, -0.02226767,\n",
              "       -0.00323891, -0.03504352, -0.03767639, -0.04629561, -0.06831839,\n",
              "        0.03313669,  0.06515463,  0.05935479,  0.04877906, -0.00226509,\n",
              "        0.04275339, -0.06678414,  0.0505225 ,  0.00714237,  0.03325642,\n",
              "       -0.01803251,  0.00408151, -0.01610526, -0.06718393, -0.01096735,\n",
              "        0.04183235,  0.046273  , -0.0461088 ,  0.03469915,  0.06862367,\n",
              "       -0.01583277,  0.06392051,  0.06124077, -0.0586719 , -0.03912428,\n",
              "       -0.04482531,  0.0369972 ,  0.01547293,  0.06039083, -0.06299458,\n",
              "        0.04991293,  0.01187755, -0.0084704 ,  0.02170147, -0.06247845,\n",
              "       -0.02411525, -0.002351  , -0.07163233,  0.05001113,  0.07466178,\n",
              "       -0.03567544, -0.00931709,  0.04695142,  0.01447838, -0.07440045,\n",
              "        0.01928548, -0.01337794,  0.01645265,  0.06630398,  0.04953895,\n",
              "        0.0010469 ,  0.06716058, -0.04560847, -0.02122817, -0.02960892,\n",
              "        0.02364221,  0.02475742, -0.01056867,  0.04766848,  0.0549137 ,\n",
              "       -0.00557405,  0.06131696,  0.02149413,  0.01817471, -0.0514247 ,\n",
              "        0.02888803,  0.02920094, -0.01958003,  0.0647121 ,  0.07464491,\n",
              "        0.06129741,  0.01343843, -0.00040961,  0.01145637,  0.01036123,\n",
              "       -0.03086459,  0.01423904,  0.03399915, -0.01701609,  0.05417884,\n",
              "       -0.02177289, -0.04141744, -0.01059762,  0.06810062,  0.02493051,\n",
              "        0.03898001,  0.04843507, -0.05084738, -0.05247674, -0.02541298,\n",
              "        0.03141006, -0.01856684, -0.05777531, -0.02233299, -0.01376717,\n",
              "       -0.06810214, -0.0314613 ,  0.07133082, -0.06829701, -0.0482123 ,\n",
              "       -0.02304261,  0.06615485, -0.06942475,  0.00853211,  0.05232893,\n",
              "       -0.06071959,  0.06251325,  0.02923359,  0.06568615, -0.00857212,\n",
              "        0.03474541,  0.04606567,  0.06306978,  0.03862217, -0.07391778,\n",
              "        0.04872935, -0.05745382,  0.03041825,  0.00235993,  0.05640829,\n",
              "        0.03315169,  0.03544242, -0.0419466 , -0.0744964 ,  0.06825404,\n",
              "        0.06780639,  0.03248613,  0.05866608, -0.05372094, -0.06425203,\n",
              "       -0.07404865,  0.05591575,  0.02238261, -0.03102533,  0.06909907,\n",
              "       -0.07161643, -0.04474322,  0.03593225,  0.02005877, -0.01617081,\n",
              "        0.02988342,  0.06089253,  0.04990944,  0.00658292,  0.05260298,\n",
              "        0.04526389,  0.0297619 , -0.07096767,  0.03474945, -0.00130536,\n",
              "        0.03779789, -0.06852686, -0.01278128,  0.0014485 ,  0.02614403,\n",
              "        0.04337205,  0.06235894, -0.06115196,  0.00063682,  0.02043619,\n",
              "       -0.01934779, -0.01334572], dtype=float32)"
            ]
          },
          "metadata": {
            "tags": []
          },
          "execution_count": 118
        }
      ]
    },
    {
      "cell_type": "code",
      "metadata": {
        "id": "VuPH26jFAr4I"
      },
      "source": [
        "def Distance(x,means,*args,**kwargs):\r\n",
        "  diff = []\r\n",
        "  dists = []\r\n",
        "  for mean in means:\r\n",
        "    diff = x - mean\r\n",
        "    dist =(np.sum(diff**2,axis=1,keepdims=True))\r\n",
        "    dists.append(dist)\r\n",
        "  \r\n",
        "  \r\n",
        "  return np.hstack(dists)"
      ],
      "execution_count": null,
      "outputs": []
    },
    {
      "cell_type": "code",
      "metadata": {
        "id": "Md_XJDD5Ax9g"
      },
      "source": [
        "def Responsibility(X,means,beta=1e-3,*args,**kwargs):\r\n",
        "  diff = []\r\n",
        "  responsibilities = []\r\n",
        "\r\n",
        "  for mean in means:\r\n",
        "    diff= X - mean\r\n",
        "    dist =  (np.sum(diff **2,axis=1, keepdims=True   ))\r\n",
        "    numerator = np.exp(-beta*dist)\r\n",
        "    denominator = np.sum(numerator)\r\n",
        "\r\n",
        "    responsibility = -numerator/denominator\r\n",
        "\r\n",
        "    responsibilities.append(responsibility)\r\n",
        "  return np.hstack(responsibilities)"
      ],
      "execution_count": null,
      "outputs": []
    },
    {
      "cell_type": "code",
      "metadata": {
        "id": "-wMSb-DNAyD-"
      },
      "source": [
        "class K_means:\r\n",
        "  def __init__(self ,k, distance_func = Distance, beta=None):\r\n",
        "\r\n",
        "    self.k = k\r\n",
        "    self.distance_func = distance_func\r\n",
        "    self.beta = beta\r\n",
        "  \r\n",
        "  def Fit(self,X,iterations=5):\r\n",
        "    indices = np.arange(X.shape[0])\r\n",
        "    sample_indices = np.random.choice(indices,size=self.k,replace=False)\r\n",
        "    self.means = X[sample_indices]\r\n",
        "\r\n",
        "    for i in range(iterations):\r\n",
        "      y_hat = self.Predict(X)\r\n",
        "      self.means = []\r\n",
        "      for j in range(self.k):\r\n",
        "        mean = np.mean(X[y_hat==j],axis=0)\r\n",
        "        self.means.append(mean)\r\n",
        "      self.means = np.vstack(self.means)\r\n",
        "\r\n",
        "    y_hat = self.Predict(X)\r\n",
        "    plt.figure(figsize=(10,8))\r\n",
        "    plt.scatter(X[:,0],X[:,1],s=1,c=y_hat             )\r\n",
        "    plt.scatter(self.means[:,0],self.means[:,1],c=\"r\",s=10                      )\r\n",
        "\r\n",
        "\r\n",
        "    fig = plt.figure(figsize=(15,15))\r\n",
        "    ax = fig.add_subplot(111, projection='3d')\r\n",
        "    plt.scatter(X[:,0],X[:,1],s=1, c = y_hat)\r\n",
        "    plt.scatter(self.means[:,0],self.means[:,1], c='r',s=15)\r\n",
        "    return y_hat\r\n",
        "\r\n",
        "  def Predict(self,X):\r\n",
        "    dist=self.distance_func(X,self.means,self.beta )\r\n",
        "    y_hat = np.argmin(dist,axis=1  )\r\n",
        "    return y_hat\r\n",
        "\r\n",
        "\r\n",
        "\r\n"
      ],
      "execution_count": null,
      "outputs": []
    },
    {
      "cell_type": "code",
      "metadata": {
        "id": "dAkQa7dpAyHJ"
      },
      "source": [
        "elonizer2000 = K_means(k=6)"
      ],
      "execution_count": null,
      "outputs": []
    },
    {
      "cell_type": "code",
      "metadata": {
        "id": "nAwh1fKMGRIG"
      },
      "source": [
        "my_tweets2 = np.vstack(my_tweets)"
      ],
      "execution_count": null,
      "outputs": []
    },
    {
      "cell_type": "code",
      "metadata": {
        "colab": {
          "base_uri": "https://localhost:8080/"
        },
        "id": "EbzstkZ8JH7y",
        "outputId": "9e9bdd53-d375-4f10-b21f-f2c493eb483e"
      },
      "source": [
        "my_tweets2"
      ],
      "execution_count": null,
      "outputs": [
        {
          "output_type": "execute_result",
          "data": {
            "text/plain": [
              "array([[ 0.01734015, -0.06106213, -0.06993027, ...,  0.02043619,\n",
              "        -0.01934779, -0.01334572],\n",
              "       [ 0.01734015, -0.06106213, -0.06993027, ...,  0.02043619,\n",
              "        -0.01934779, -0.01334572],\n",
              "       [ 0.01734015, -0.06106213, -0.06993027, ...,  0.02043619,\n",
              "        -0.01934779, -0.01334572],\n",
              "       ...,\n",
              "       [ 0.01734015, -0.06106213, -0.06993027, ...,  0.02043619,\n",
              "        -0.01934779, -0.01334572],\n",
              "       [ 0.01734015, -0.06106213, -0.06993027, ...,  0.02043619,\n",
              "        -0.01934779, -0.01334572],\n",
              "       [ 0.01734015, -0.06106213, -0.06993027, ...,  0.02043619,\n",
              "        -0.01934779, -0.01334572]], dtype=float32)"
            ]
          },
          "metadata": {
            "tags": []
          },
          "execution_count": 193
        }
      ]
    },
    {
      "cell_type": "code",
      "metadata": {
        "colab": {
          "base_uri": "https://localhost:8080/",
          "height": 1000
        },
        "id": "h3dA2rSmAyJ-",
        "outputId": "07076058-57bc-41cd-aa50-f67ab45c9c70"
      },
      "source": [
        "elonizer2000.Fit(my_tweets2)"
      ],
      "execution_count": null,
      "outputs": [
        {
          "output_type": "execute_result",
          "data": {
            "text/plain": [
              "array([1, 1, 1, ..., 1, 1, 1])"
            ]
          },
          "metadata": {
            "tags": []
          },
          "execution_count": 192
        },
        {
          "output_type": "display_data",
          "data": {
            "image/png": "[encoded data removed]",
            "text/plain": [
              "<Figure size 720x576 with 1 Axes>"
            ]
          },
          "metadata": {
            "tags": []
          }
        },
        {
          "output_type": "display_data",
          "data": {
            "image/png": "[encoded data removed]",
            "text/plain": [
              "<Figure size 1080x1080 with 1 Axes>"
            ]
          },
          "metadata": {
            "tags": []
          }
        }
      ]
    },
    {
      "cell_type": "code",
      "metadata": {
        "colab": {
          "base_uri": "https://localhost:8080/"
        },
        "id": "m3AnCro7AyMX",
        "outputId": "cfe49964-e5f0-4073-8850-99e756d7f2b6"
      },
      "source": [
        "elonizer2000.Predict(my_tweets2)"
      ],
      "execution_count": null,
      "outputs": [
        {
          "output_type": "execute_result",
          "data": {
            "text/plain": [
              "array([1, 1, 1, ..., 1, 1, 1])"
            ]
          },
          "metadata": {
            "tags": []
          },
          "execution_count": 177
        }
      ]
    },
    {
      "cell_type": "code",
      "metadata": {
        "id": "8Mkb6FBVAyPE"
      },
      "source": [
        ""
      ],
      "execution_count": null,
      "outputs": []
    },
    {
      "cell_type": "code",
      "metadata": {
        "id": "cu6g8-5bAyRy"
      },
      "source": [
        ""
      ],
      "execution_count": null,
      "outputs": []
    },
    {
      "cell_type": "code",
      "metadata": {
        "id": "vYp7Y4e4AyUf"
      },
      "source": [
        ""
      ],
      "execution_count": null,
      "outputs": []
    },
    {
      "cell_type": "code",
      "metadata": {
        "id": "sCZPARpXhkSW"
      },
      "source": [
        ""
      ],
      "execution_count": null,
      "outputs": []
    },
    {
      "cell_type": "code",
      "metadata": {
        "id": "ml_GGs4viAM9"
      },
      "source": [
        ""
      ],
      "execution_count": null,
      "outputs": []
    },
    {
      "cell_type": "code",
      "metadata": {
        "id": "qdP0jVdXrjUx"
      },
      "source": [
        ""
      ],
      "execution_count": null,
      "outputs": []
    },
    {
      "cell_type": "code",
      "metadata": {
        "id": "aBWWXiR6rpni"
      },
      "source": [
        ""
      ],
      "execution_count": null,
      "outputs": []
    },
    {
      "cell_type": "code",
      "metadata": {
        "id": "-_bF5et-7mHK"
      },
      "source": [
        ""
      ],
      "execution_count": null,
      "outputs": []
    }
  ]
}