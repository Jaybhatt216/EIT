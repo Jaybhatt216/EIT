{
  "nbformat": 4,
  "nbformat_minor": 0,
  "metadata": {
    "colab": {
      "name": "actor_critic_rl.ipynb",
      "provenance": [],
      "authorship_tag": "ABX9TyPQHG/vFdz4in8mjZpfQE01",
      "include_colab_link": true
    },
    "kernelspec": {
      "name": "python3",
      "display_name": "Python 3"
    },
    "language_info": {
      "name": "python"
    }
  },
  "cells": [
    {
      "cell_type": "markdown",
      "metadata": {
        "id": "view-in-github",
        "colab_type": "text"
      },
      "source": [
        "<a href=\"https://colab.research.google.com/github/Jaybhatt216/EIT/blob/main/actor_critic_rl.ipynb\" target=\"_parent\"><img src=\"https://colab.research.google.com/assets/colab-badge.svg\" alt=\"Open In Colab\"/></a>"
      ]
    },
    {
      "cell_type": "code",
      "metadata": {
        "id": "BC0GDVG41muU"
      },
      "source": [
        "\n",
        "\n",
        "import gym\n",
        "import numpy as np\n",
        "import tensorflow as tf\n",
        "from tensorflow import keras\n",
        "from tensorflow.keras import layers"
      ],
      "execution_count": 1,
      "outputs": []
    },
    {
      "cell_type": "code",
      "metadata": {
        "id": "ez9Ga9u114-s"
      },
      "source": [
        "\n",
        "# configuration parameters for the whole setup\n",
        "seed = 42\n",
        "gamma = 0.99 # discount factor for pas rewards\n",
        "max_steps_per_episode = 10000\n",
        "env = gym.make('CartPole-v0') # create the environment \n",
        "env.seed(seed)\n",
        "eps = np.finfo(np.float32).eps.item() # smallest number such that 1.0 + eps != 1.0 "
      ],
      "execution_count": 2,
      "outputs": []
    },
    {
      "cell_type": "markdown",
      "metadata": {
        "id": "4Bhc4Zi92lSk"
      },
      "source": [
        "Implement Actor Critic network\n",
        "This network learns two functions:\n",
        "\n",
        "Actor: This takes as input the state of our environment and returns a probability value for each action in its action space.\n",
        "Critic: This takes as input the state of our environment and returns an estimate of total rewards in the future.\n",
        "In our implementation, they share the initial layer."
      ]
    },
    {
      "cell_type": "code",
      "metadata": {
        "id": "1ToO76LR2h49"
      },
      "source": [
        "\n",
        "num_inputs = 4\n",
        "num_actions = 2\n",
        "num_hidden = 128\n",
        "\n",
        "inputs = layers.Input(shape=(num_inputs,))\n",
        "common = layers.Dense(num_hidden, activation='relu')(inputs)\n",
        "action = layers.Dense(num_actions, activation='softmax')(common)\n",
        "critic = layers.Dense(1)(common)\n",
        "\n",
        "model = keras.Model(inputs=inputs, outputs=[action,critic])"
      ],
      "execution_count": 6,
      "outputs": []
    },
    {
      "cell_type": "markdown",
      "metadata": {
        "id": "crv5T6PO4KmM"
      },
      "source": [
        "Train"
      ]
    },
    {
      "cell_type": "code",
      "metadata": {
        "id": "DwiXwMq83vaQ"
      },
      "source": [
        "\n",
        "optimizer = keras.optimizers.Adam(learning_rate=0.01)\n",
        "huber_loss = keras.losses.Huber()\n",
        "action_probs_history = []\n",
        "critic_value_history = []\n",
        "rewards_history = []\n",
        "running_reward = 0\n",
        "episode_count = 0\n"
      ],
      "execution_count": 7,
      "outputs": []
    },
    {
      "cell_type": "code",
      "metadata": {
        "colab": {
          "base_uri": "https://localhost:8080/"
        },
        "id": "GGPv1f5U4yQ1",
        "outputId": "a71dd60c-4cba-4f67-b92d-e2f925313a81"
      },
      "source": [
        "while True:  # Run until solved\n",
        "    state = env.reset()\n",
        "    episode_reward = 0\n",
        "    with tf.GradientTape() as tape:\n",
        "        for timestep in range(1, max_steps_per_episode):\n",
        "            # env.render(); Adding this line would show the attempts\n",
        "            # of the agent in a pop up window.\n",
        "\n",
        "            state = tf.convert_to_tensor(state)\n",
        "            state = tf.expand_dims(state, 0)\n",
        "\n",
        "            # Predict action probabilities and estimated future rewards\n",
        "            # from environment state\n",
        "            action_probs, critic_value = model(state)\n",
        "            critic_value_history.append(critic_value[0, 0])\n",
        "\n",
        "            # Sample action from action probability distribution\n",
        "            action = np.random.choice(num_actions, p=np.squeeze(action_probs))\n",
        "            action_probs_history.append(tf.math.log(action_probs[0, action]))\n",
        "\n",
        "            # Apply the sampled action in our environment\n",
        "            state, reward, done, _ = env.step(action)\n",
        "            rewards_history.append(reward)\n",
        "            episode_reward += reward\n",
        "\n",
        "            if done:\n",
        "                break\n",
        "\n",
        "        # Update running reward to check condition for solving\n",
        "        running_reward = 0.05 * episode_reward + (1 - 0.05) * running_reward\n",
        "\n",
        "        # Calculate expected value from rewards\n",
        "        # - At each timestep what was the total reward received after that timestep\n",
        "        # - Rewards in the past are discounted by multiplying them with gamma\n",
        "        # - These are the labels for our critic\n",
        "        returns = []\n",
        "        discounted_sum = 0\n",
        "        for r in rewards_history[::-1]:\n",
        "            discounted_sum = r + gamma * discounted_sum\n",
        "            returns.insert(0, discounted_sum)\n",
        "\n",
        "        # Normalize\n",
        "        returns = np.array(returns)\n",
        "        returns = (returns - np.mean(returns)) / (np.std(returns) + eps)\n",
        "        returns = returns.tolist()\n",
        "\n",
        "        # Calculating loss values to update our network\n",
        "        history = zip(action_probs_history, critic_value_history, returns)\n",
        "        actor_losses = []\n",
        "        critic_losses = []\n",
        "        for log_prob, value, ret in history:\n",
        "            # At this point in history, the critic estimated that we would get a\n",
        "            # total reward = `value` in the future. We took an action with log probability\n",
        "            # of `log_prob` and ended up recieving a total reward = `ret`.\n",
        "            # The actor must be updated so that it predicts an action that leads to\n",
        "            # high rewards (compared to critic's estimate) with high probability.\n",
        "            diff = ret - value\n",
        "            actor_losses.append(-log_prob * diff)  # actor loss\n",
        "\n",
        "            # The critic must be updated so that it predicts a better estimate of\n",
        "            # the future rewards.\n",
        "            critic_losses.append(\n",
        "                huber_loss(tf.expand_dims(value, 0), tf.expand_dims(ret, 0))\n",
        "            )\n",
        "\n",
        "        # Backpropagation\n",
        "        loss_value = sum(actor_losses) + sum(critic_losses)\n",
        "        grads = tape.gradient(loss_value, model.trainable_variables)\n",
        "        optimizer.apply_gradients(zip(grads, model.trainable_variables))\n",
        "\n",
        "        # Clear the loss and reward history\n",
        "        action_probs_history.clear()\n",
        "        critic_value_history.clear()\n",
        "        rewards_history.clear()\n",
        "\n",
        "    # Log details\n",
        "    episode_count += 1\n",
        "    if episode_count % 10 == 0:\n",
        "        template = \"running reward: {:.2f} at episode {}\"\n",
        "        print(template.format(running_reward, episode_count))\n",
        "\n",
        "    if running_reward > 195:  # Condition to consider the task solved\n",
        "        print(\"Solved at episode {}!\".format(episode_count))\n",
        "        break"
      ],
      "execution_count": 9,
      "outputs": [
        {
          "output_type": "stream",
          "name": "stdout",
          "text": [
            "running reward: 8.41 at episode 10\n",
            "running reward: 14.26 at episode 20\n",
            "running reward: 20.18 at episode 30\n",
            "running reward: 27.91 at episode 40\n",
            "running reward: 43.06 at episode 50\n",
            "running reward: 33.72 at episode 60\n",
            "running reward: 43.37 at episode 70\n",
            "running reward: 54.05 at episode 80\n",
            "running reward: 52.60 at episode 90\n",
            "running reward: 64.47 at episode 100\n",
            "running reward: 94.74 at episode 110\n",
            "running reward: 114.74 at episode 120\n",
            "running reward: 113.94 at episode 130\n",
            "running reward: 118.68 at episode 140\n",
            "running reward: 130.57 at episode 150\n",
            "running reward: 150.78 at episode 160\n",
            "running reward: 170.53 at episode 170\n",
            "running reward: 177.06 at episode 180\n",
            "running reward: 162.29 at episode 190\n",
            "running reward: 135.48 at episode 200\n",
            "running reward: 114.29 at episode 210\n",
            "running reward: 102.28 at episode 220\n",
            "running reward: 125.10 at episode 230\n",
            "running reward: 141.26 at episode 240\n",
            "running reward: 119.55 at episode 250\n",
            "running reward: 109.75 at episode 260\n",
            "running reward: 130.07 at episode 270\n",
            "running reward: 139.69 at episode 280\n",
            "running reward: 129.19 at episode 290\n",
            "running reward: 144.60 at episode 300\n",
            "running reward: 166.83 at episode 310\n",
            "running reward: 180.14 at episode 320\n",
            "running reward: 172.52 at episode 330\n",
            "running reward: 165.60 at episode 340\n",
            "running reward: 179.40 at episode 350\n",
            "running reward: 187.67 at episode 360\n",
            "running reward: 176.02 at episode 370\n",
            "running reward: 142.75 at episode 380\n",
            "running reward: 135.40 at episode 390\n",
            "running reward: 95.89 at episode 400\n",
            "running reward: 73.00 at episode 410\n",
            "running reward: 58.99 at episode 420\n",
            "running reward: 56.51 at episode 430\n",
            "running reward: 66.64 at episode 440\n",
            "running reward: 114.32 at episode 450\n",
            "running reward: 148.70 at episode 460\n",
            "running reward: 169.29 at episode 470\n",
            "running reward: 181.61 at episode 480\n",
            "running reward: 188.99 at episode 490\n",
            "running reward: 193.41 at episode 500\n",
            "Solved at episode 506!\n"
          ]
        }
      ]
    },
    {
      "cell_type": "code",
      "metadata": {
        "id": "21cnIQjV50-h"
      },
      "source": [
        ""
      ],
      "execution_count": null,
      "outputs": []
    }
  ]
}