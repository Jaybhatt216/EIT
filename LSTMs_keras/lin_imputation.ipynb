{
 "cells": [
  {
   "cell_type": "code",
   "execution_count": null,
   "metadata": {},
   "outputs": [],
   "source": [
    "# Imputation by linear interpolation. This needs a df that is sorted based on column 'aa_000'.\n",
    "# Keep a deep copy of your dataframe before using this function to avoid any data loss.\n",
    "def lin_imputation(mydf):\n",
    "    col_count = len(mydf.columns)\n",
    "    row_count = mydf.shape[0]\n",
    "    first_col = mydf['aa_000']\n",
    "    for col in range(3, col_count):\n",
    "        current_col_name = mydf.columns[col]\n",
    "        current_col = mydf[['my_index', current_col_name]]\n",
    "        current_col = current_col[current_col[current_col_name].notnull()]\n",
    "        print('Imputing column[' + str(col) + ']: ' + current_col_name + \n",
    "              ', current_col size= ' + str(current_col.shape[0]))\n",
    "\n",
    "        for i in range(1, current_col.shape[0]):\n",
    "            if current_col.iloc[i, 0] != current_col.iloc[i - 1, 0] + 1:\n",
    "                prev_index = current_col.iloc[i - 1, 0]\n",
    "                next_index = current_col.iloc[i, 0]\n",
    "                # Impute missing values.\n",
    "                prev_row_1 = first_col.iloc[prev_index]\n",
    "                next_row_1 = first_col.iloc[next_index]\n",
    "                prev_row_col = mydf.iloc[prev_index, col]\n",
    "                next_row_col = mydf.iloc[next_index, col]\n",
    "                fixed_part = (next_row_col - prev_row_col) / (next_row_1 - prev_row_1)\n",
    "                for j in range(prev_index + 1, next_index):\n",
    "                    mydf.iat[j, col] = prev_row_col + ((first_col.iloc[j] - prev_row_1) * fixed_part)\n",
    "    return mydf"
   ]
  },
  {
   "cell_type": "code",
   "execution_count": null,
   "metadata": {},
   "outputs": [],
   "source": [
    "# dropping the original index column, sorting the data frame based\n",
    "# on column 'aa_000' and adding another index column after that.\n",
    "df.sort_values('aa_000', inplace = True)\n",
    "df = df.drop(['index'], axis=1)\n",
    "indexes = np.linspace(0, df.shape[0] - 1, df.shape[0]).astype(int)\n",
    "df.insert(0, \"my_index\", indexes, True)\n",
    "\n",
    "test_df.sort_values('aa_000', inplace = True)\n",
    "test_df = test_df.drop(['index'], axis=1)\n",
    "indexes = np.linspace(0, test_df.shape[0] - 1, test_df.shape[0]).astype(int)\n",
    "test_df.insert(0, \"my_index\", indexes, True)\n",
    "\n",
    "# Linear Interpolation\n",
    "df = lin_imputation(df)\n",
    "test_df = lin_imputation(test_df)\n",
    "\n",
    "\n",
    "# Removing extra columns\n",
    "new_df.drop(new_df.columns[0:2], axis = 1, inplace = True)\n",
    "new_test_df.drop(new_test_df.columns[0:2], axis = 1, inplace = True)\n",
    "\n",
    "# There might still be some na values left because the lin_imputation function does not extrapolate.\n",
    "# You need to replace them with mean, median, mode, or whatever you choose."
   ]
  }
 ],
 "metadata": {
  "kernelspec": {
   "display_name": "Python 3",
   "language": "python",
   "name": "python3"
  },
  "language_info": {
   "codemirror_mode": {
    "name": "ipython",
    "version": 3
   },
   "file_extension": ".py",
   "mimetype": "text/x-python",
   "name": "python",
   "nbconvert_exporter": "python",
   "pygments_lexer": "ipython3",
   "version": "3.8.5"
  }
 },
 "nbformat": 4,
 "nbformat_minor": 4
}
