{
  "nbformat": 4,
  "nbformat_minor": 0,
  "metadata": {
    "colab": {
      "name": "Deeper ANN.ipynb",
      "provenance": [],
      "collapsed_sections": []
    },
    "kernelspec": {
      "name": "python3",
      "display_name": "Python 3"
    }
  },
  "cells": [
    {
      "cell_type": "markdown",
      "metadata": {
        "id": "1YCJzHdrf9TM"
      },
      "source": [
        "modifying neural net"
      ]
    },
    {
      "cell_type": "code",
      "metadata": {
        "id": "K5n0__2_nsEk"
      },
      "source": [
        "import numpy as np\r\n",
        "import pandas as pd\r\n",
        "import matplotlib.pyplot as plt\r\n",
        "from matplotlib.colors import ListedColormap\r\n",
        "from IPython.display import clear_output\r\n",
        "from time import sleep\r\n"
      ],
      "execution_count": 5,
      "outputs": []
    },
    {
      "cell_type": "code",
      "metadata": {
        "id": "Tl242PLQn59q"
      },
      "source": [
        "cmap_bold = ListedColormap([\"#FF0000\", \"#00FF00\", \"#0000FF\"])\r\n",
        "cmap_light = ListedColormap([\"#FFBBBB\", \"#BBFFBB\", \"#BBBBFF\"])\r\n"
      ],
      "execution_count": 6,
      "outputs": []
    },
    {
      "cell_type": "markdown",
      "metadata": {
        "id": "GqVWju1ApdtT"
      },
      "source": [
        "Activation and Helper functions"
      ]
    },
    {
      "cell_type": "code",
      "metadata": {
        "id": "QxNKumfgoD8N"
      },
      "source": [
        "#H means hypothesis\r\n",
        "def linear(H):\r\n",
        "  return H\r\n",
        "\r\n",
        "def ReLu(H):\r\n",
        "  return H*(H>0)\r\n",
        "\r\n",
        "def sigmoid(H):\r\n",
        "  return 1/(1+np.exp(-H))\r\n",
        "\r\n",
        "\r\n",
        "def softmax(H):\r\n",
        "  eH = np.exp(H)\r\n",
        "  return eH/eH.sum(axis = 1, keepdims = True)  \r\n",
        "\r\n",
        "\r\n",
        "def cross_entropy(Y, P_hat):\r\n",
        "    return -(1/len(Y))*np.sum(Y*np.log(P_hat))\r\n",
        "\r\n",
        "def one_hot_encode(y):\r\n",
        "    N=len(y)\r\n",
        "    K = len(set(y))\r\n",
        "    Y=np.zeros((N,K))\r\n",
        "    \r\n",
        "    for i in range(N):\r\n",
        "        Y[i,y[i]]=1\r\n",
        "        \r\n",
        "    return Y\r\n",
        "    \r\n",
        "def accuracy(y, y_hat): \r\n",
        "    return np.mean(y==y_hat)\r\n",
        "\r\n",
        "def OLS(Y,Y_hat): \r\n",
        "    return (1/(2*len(Y)))*np.sum((Y-Y_hat)**2)\r\n",
        "\r\n",
        "def R2(y,y_hat):  \r\n",
        "    return 1 - np.sum((y - y_hat)**2)/np.sum((y - y.mean())**2)  \r\n",
        "\r\n",
        "\r\n",
        "\r\n",
        "def derivatives(Z,a): #a is activation function, Z is result of layers\r\n",
        "#give me the derivaties of Z \r\n",
        "  if a == linear:\r\n",
        "    return 1\r\n",
        "\r\n",
        "  elif a == sigmoid:\r\n",
        "    return Z*(1-Z)\r\n",
        "  \r\n",
        "  elif a == np.tanh:\r\n",
        "    return 1 - Z*Z\r\n",
        "\r\n",
        "  elif a == ReLu:\r\n",
        "    return (Z>0).astype(int)\r\n",
        "\r\n",
        "  else:\r\n",
        "    return ValueError(\"unknown activation function\")\r\n",
        "\r\n",
        "\r\n",
        "\r\n",
        "\r\n",
        "\r\n",
        "\r\n",
        "\r\n",
        "\r\n"
      ],
      "execution_count": 9,
      "outputs": []
    },
    {
      "cell_type": "markdown",
      "metadata": {
        "id": "ll1EUcVPpg8J"
      },
      "source": [
        "Neural Net Class"
      ]
    },
    {
      "cell_type": "code",
      "metadata": {
        "id": "mOg-smy2o0r7"
      },
      "source": [
        "class DANN():\r\n",
        "\r\n",
        "  def __init__(self,architecture,activations = None, mode = 0):\r\n",
        "    self.mode = mode\r\n",
        "    self.architecture = architecture\r\n",
        "    self.activations = activations\r\n",
        "    #L is the final layer\r\n",
        "    self.L = len(architecture)+1\r\n",
        "  \r\n",
        "  def fit(self, X, y, eta =1e-3, epochs=1e3,show_curve=False):\r\n",
        "    epochs = int(epochs)\r\n",
        "    if self.mode:\r\n",
        "      Y = y\r\n",
        "    else:\r\n",
        "      Y = one_hot_encode(y)\r\n",
        "\r\n",
        "      N,D = X.shape\r\n",
        "\r\n",
        "      K = Y.shape[1]\r\n",
        "\r\n",
        "      #Weights and Bias initalization(random)\r\n",
        "      #generate empty object to put our wieghts in depending on size \r\n",
        "      self.W = {l:np.random.randn(M[0],M[1]) for l,M in enumerate(zip(([D]+self.architecture),(self.architecture + [K])),1)}\r\n",
        "      self.b = {l: np.random.randn(M) for l,M in enumerate(self.architecture +[K],1)}\r\n",
        "\r\n",
        "      #Activation function loding \r\n",
        "\r\n",
        "      if self.activations is None:\r\n",
        "        self.a = {l: ReLu for l in range(1,self.L)}\r\n",
        "      else:\r\n",
        "        #if a is not empty then take every single one and assign 1 from the activations list for each value layer from 1 to l\r\n",
        "        self.a = {l: act for l,act in enumerate(self.activations, 1)}\r\n",
        "\r\n",
        "\r\n",
        "      #mode set\r\n",
        "\r\n",
        "      if self.mode:\r\n",
        "        #output layer\r\n",
        "        self.a[self.L] = linear\r\n",
        "      else:\r\n",
        "        self.a[self.L] = softmax\r\n",
        "      \r\n",
        "      J = np.zeros(epochs)\r\n",
        "\r\n",
        "      #gradient descent\r\n",
        "      for epoch in range(epochs):\r\n",
        "        self.forward(X)\r\n",
        "        if self.mode:\r\n",
        "          J[epoch]=OLS(Y,self.Z[self.L])\r\n",
        "        else:\r\n",
        "          J[epoch] = cross_entropy(Y,self.Z[self.L])\r\n",
        "        #differential equation of H  \r\n",
        "        dH = (1/N)*(self.Z[self.L]-Y)\r\n",
        "        #update rules for weight and bias  \r\n",
        "        for l in sorted(self.W.keys(),reverse=True):\r\n",
        "          dW = self.Z[l -1].T@dH\r\n",
        "          db = dH.sum(axis=0)\r\n",
        "          self.W[l] -= eta*dW\r\n",
        "          self.b[l] -= eta*db\r\n",
        "          if l > 1:\r\n",
        "            dZ = dH@self.W[l].T\r\n",
        "            dH = dZ*derivatives(self.Z[l-1],self.a[l-1])\r\n",
        "\r\n",
        "    #show training curve  \r\n",
        "    if show_curve:\r\n",
        "      plt.figure()\r\n",
        "      plt.plot(J)\r\n",
        "      plt.xlabel(\"epochs\")\r\n",
        "      plt.ylabel(\"$\\mathcal{J}$\")\r\n",
        "      plt.title(\"Training Curve\")\r\n",
        "      plt.show()\r\n",
        "\r\n",
        "  \r\n",
        "  \r\n",
        "  def forward(self,X):\r\n",
        "    self.Z = {0:X}\r\n",
        "\r\n",
        "    for l in sorted(self.W.keys()):\r\n",
        "      self.Z[l] =self.a[l](self.Z[l-1]@self.W[l] + self.b[l])\r\n",
        "\r\n",
        "  def predict(self,X):\r\n",
        "    self.forward(X)\r\n",
        "\r\n",
        "    if self.mode:\r\n",
        "      return self.Z[self.L]\r\n",
        "    else:\r\n",
        "      return self.Z[self.L].argmax(axis=1)\r\n",
        "    \r\n",
        "\r\n",
        "    \r\n",
        "\r\n",
        "\r\n",
        "\r\n",
        "\r\n",
        "\r\n",
        "\r\n",
        "\r\n",
        "         \r\n",
        "\r\n",
        "\r\n",
        "\r\n",
        "\r\n",
        "\r\n",
        "\r\n",
        "    \r\n",
        "\r\n",
        "\r\n",
        "\r\n",
        "\r\n",
        "\r\n",
        "\r\n",
        "\r\n",
        "\r\n",
        "\r\n",
        "\r\n",
        "    \r\n",
        "\r\n",
        "\r\n"
      ],
      "execution_count": 19,
      "outputs": []
    },
    {
      "cell_type": "code",
      "metadata": {
        "id": "AdjvBoUUA9JM"
      },
      "source": [
        "def main():\r\n",
        "  #number of dimensions and classes \r\n",
        "    D = 2\r\n",
        "    K = 3\r\n",
        "    N = int(K*1e3)\r\n",
        "\r\n",
        "    #make up data\r\n",
        "    X0 = np.random.randn((N//K),D) + np.array([2,2])\r\n",
        "    X1 = np.random.randn((N//K),D) + np.array([0,-2])\r\n",
        "    X2 = np.random.randn((N//K),D) + np.array([-2,2])\r\n",
        "    X = np.vstack((X0,X1,X2))\r\n",
        "    y = np.array([0]*(N//K) + [1]*(N//K) + [2]*(N//K))\r\n",
        "\r\n",
        "    #fit and predict the data\r\n",
        "    myAnn = DANN([8,8,8],[ReLu,np.tanh,np.tanh])\r\n",
        "    myAnn.fit(X,y,eta=3e-2, epochs=2e3, show_curve=True) #show training curve true\r\n",
        "    y_hat = myAnn.predict(X)\r\n",
        "    #print accuracy\r\n",
        "    print(f\"Training Accuracy: {accuracy(y,y_hat):0.4f}\")\r\n",
        "    #draw graphs      \r\n",
        "    x1 = np.linspace(X[:,0].min() -1, X[:,0].max(), 1000)\r\n",
        "    x2 = np.linspace(X[:,1].min() -1, X[:,1].max(), 1000)\r\n",
        "    #preduct the prediction and draw graphs\r\n",
        "    xx1,xx2 = np.meshgrid(x1,x2)\r\n",
        "    Z = myAnn.predict(np.c_[xx1.ravel(), xx2.ravel()]).reshape(*xx1.shape)\r\n",
        "    #draw graphs\r\n",
        "    plt.figure()\r\n",
        "    plt.scatter(X[:,0],X[:,1],c=y, cmap=cmap_bold)\r\n",
        "    plt.title(\" Data \")\r\n",
        "    \r\n",
        "    plt.figure()\r\n",
        "    plt.scatter(X[:,0],X[:,1],c=y_hat, cmap=cmap_bold)\r\n",
        "    plt.title(\" Prediction \")\r\n",
        "    plt.pcolormesh(xx1,xx2,Z, cmap=cmap_light)\r\n",
        "    plt.show()"
      ],
      "execution_count": 20,
      "outputs": []
    },
    {
      "cell_type": "code",
      "metadata": {
        "colab": {
          "base_uri": "https://localhost:8080/",
          "height": 840
        },
        "id": "N92cqK59BBsK",
        "outputId": "aa218e52-3843-4b1e-f1c1-a6cde51241c0"
      },
      "source": [
        "if __name__ == \"__main__\":\r\n",
        "  main()"
      ],
      "execution_count": 21,
      "outputs": [
        {
          "output_type": "display_data",
          "data": {
            "image/png": "[encoded data removed]",
            "text/plain": [
              "<Figure size 432x288 with 1 Axes>"
            ]
          },
          "metadata": {
            "tags": [],
            "needs_background": "light"
          }
        },
        {
          "output_type": "stream",
          "text": [
            "Training Accuracy: 0.9683\n"
          ],
          "name": "stdout"
        },
        {
          "output_type": "display_data",
          "data": {
            "image/png": "[encoded data removed]",
            "text/plain": [
              "<Figure size 432x288 with 1 Axes>"
            ]
          },
          "metadata": {
            "tags": [],
            "needs_background": "light"
          }
        },
        {
          "output_type": "display_data",
          "data": {
            "image/png": "[encoded data removed]",
            "text/plain": [
              "<Figure size 432x288 with 1 Axes>"
            ]
          },
          "metadata": {
            "tags": [],
            "needs_background": "light"
          }
        }
      ]
    },
    {
      "cell_type": "code",
      "metadata": {
        "id": "seXkNiSIBXqD"
      },
      "source": [
        ""
      ],
      "execution_count": null,
      "outputs": []
    }
  ]
}