{
  "nbformat": 4,
  "nbformat_minor": 0,
  "metadata": {
    "colab": {
      "name": "fashion_mnist_keras.ipynb",
      "provenance": [],
      "collapsed_sections": [],
      "authorship_tag": "ABX9TyOC8zzYYYxoIyRpTlb62O/f",
      "include_colab_link": true
    },
    "kernelspec": {
      "name": "python3",
      "display_name": "Python 3"
    }
  },
  "cells": [
    {
      "cell_type": "markdown",
      "metadata": {
        "id": "view-in-github",
        "colab_type": "text"
      },
      "source": [
        "<a href=\"https://colab.research.google.com/github/Jaybhatt216/EIT/blob/main/fashion_mnist_keras.ipynb\" target=\"_parent\"><img src=\"https://colab.research.google.com/assets/colab-badge.svg\" alt=\"Open In Colab\"/></a>"
      ]
    },
    {
      "cell_type": "code",
      "metadata": {
        "id": "7oX_rC9pFI47"
      },
      "source": [
        "import tensorflow as tf\r\n",
        "import numpy as np\r\n",
        "import matplotlib.pyplot as plt"
      ],
      "execution_count": 7,
      "outputs": []
    },
    {
      "cell_type": "code",
      "metadata": {
        "colab": {
          "base_uri": "https://localhost:8080/"
        },
        "id": "C22Noy9RFKek",
        "outputId": "cbf886e2-1dbf-433b-dd25-7fd2541d6bc1"
      },
      "source": [
        "# Load the fashion-mnist pre-shuffled train data and test data\r\n",
        "(x_train, y_train), (x_test, y_test) = tf.keras.datasets.fashion_mnist.load_data()\r\n",
        "print(\"x_train shape:\", x_train.shape, \"y_train shape:\", y_train.shape)"
      ],
      "execution_count": 8,
      "outputs": [
        {
          "output_type": "stream",
          "text": [
            "Downloading data from https://storage.googleapis.com/tensorflow/tf-keras-datasets/train-labels-idx1-ubyte.gz\n",
            "32768/29515 [=================================] - 0s 0us/step\n",
            "Downloading data from https://storage.googleapis.com/tensorflow/tf-keras-datasets/train-images-idx3-ubyte.gz\n",
            "26427392/26421880 [==============================] - 0s 0us/step\n",
            "Downloading data from https://storage.googleapis.com/tensorflow/tf-keras-datasets/t10k-labels-idx1-ubyte.gz\n",
            "8192/5148 [===============================================] - 0s 0us/step\n",
            "Downloading data from https://storage.googleapis.com/tensorflow/tf-keras-datasets/t10k-images-idx3-ubyte.gz\n",
            "4423680/4422102 [==============================] - 0s 0us/step\n",
            "x_train shape: (60000, 28, 28) y_train shape: (60000,)\n"
          ],
          "name": "stdout"
        }
      ]
    },
    {
      "cell_type": "code",
      "metadata": {
        "colab": {
          "base_uri": "https://localhost:8080/"
        },
        "id": "_8KmUi3jFUCx",
        "outputId": "0f828f6f-e249-4c05-a3ba-ae11897bca52"
      },
      "source": [
        "print(\"x_train shape:\", x_train.shape, \"y_train shape:\", y_train.shape)"
      ],
      "execution_count": 17,
      "outputs": [
        {
          "output_type": "stream",
          "text": [
            "x_train shape: (60000, 28, 28) y_train shape: (60000,)\n"
          ],
          "name": "stdout"
        }
      ]
    },
    {
      "cell_type": "code",
      "metadata": {
        "colab": {
          "base_uri": "https://localhost:8080/",
          "height": 350
        },
        "id": "4gkPClQQHBQq",
        "outputId": "9cfe01d8-66be-4dfe-e74a-808d6f205f30"
      },
      "source": [
        "# Print training set shape - note there are 60,000 training data of image size of 28x28, 60,000 train labels)\r\n",
        "print(\"x_train shape:\", x_train.shape, \"y_train shape:\", y_train.shape)\r\n",
        "\r\n",
        "# Print the number of training and test datasets\r\n",
        "print(x_train.shape[0], 'train set')\r\n",
        "print(x_test.shape[0], 'test set')\r\n",
        "\r\n",
        "# Define the text labels\r\n",
        "fashion_mnist_labels = [\"T-shirt/top\",  # index 0\r\n",
        "                        \"Trouser\",      # index 1\r\n",
        "                        \"Pullover\",     # index 2 \r\n",
        "                        \"Dress\",        # index 3 \r\n",
        "                        \"Coat\",         # index 4\r\n",
        "                        \"Sandal\",       # index 5\r\n",
        "                        \"Shirt\",        # index 6 \r\n",
        "                        \"Sneaker\",      # index 7 \r\n",
        "                        \"Bag\",          # index 8 \r\n",
        "                        \"Ankle boot\"]   # index 9\r\n",
        "\r\n",
        "# Image index, you can pick any number between 0 and 59,999\r\n",
        "img_index = 5\r\n",
        "# y_train contains the lables, ranging from 0 to 9\r\n",
        "label_index = y_train[img_index]\r\n",
        "# Print the label, for example 2 Pullover\r\n",
        "print (\"y = \" + str(label_index) + \" \" +(fashion_mnist_labels[label_index]))\r\n",
        "# # Show one of the images from the training dataset\r\n",
        "plt.imshow(x_train[img_index])"
      ],
      "execution_count": 18,
      "outputs": [
        {
          "output_type": "stream",
          "text": [
            "x_train shape: (60000, 28, 28) y_train shape: (60000,)\n",
            "60000 train set\n",
            "10000 test set\n",
            "y = 2 Pullover\n"
          ],
          "name": "stdout"
        },
        {
          "output_type": "execute_result",
          "data": {
            "text/plain": [
              "<matplotlib.image.AxesImage at 0x7f69453427b8>"
            ]
          },
          "metadata": {
            "tags": []
          },
          "execution_count": 18
        },
        {
          "output_type": "display_data",
          "data": {
            "image/png": "[encoded data removed]",
            "text/plain": [
              "<Figure size 432x288 with 1 Axes>"
            ]
          },
          "metadata": {
            "tags": [],
            "needs_background": "light"
          }
        }
      ]
    },
    {
      "cell_type": "code",
      "metadata": {
        "id": "wUGOJq28FXHr"
      },
      "source": [
        "x_train = x_train.astype('float32') / 255\r\n",
        "x_test = x_test.astype('float32') / 255"
      ],
      "execution_count": 19,
      "outputs": []
    },
    {
      "cell_type": "code",
      "metadata": {
        "colab": {
          "base_uri": "https://localhost:8080/"
        },
        "id": "Pse-aV3jHFbv",
        "outputId": "bef21735-83bb-48f4-9101-874645fba518"
      },
      "source": [
        "print(\"Number of train data - \" + str(len(x_train)))\r\n",
        "print(\"Number of test data - \" + str(len(x_test)))"
      ],
      "execution_count": 20,
      "outputs": [
        {
          "output_type": "stream",
          "text": [
            "Number of train data - 60000\n",
            "Number of test data - 10000\n"
          ],
          "name": "stdout"
        }
      ]
    },
    {
      "cell_type": "code",
      "metadata": {
        "colab": {
          "base_uri": "https://localhost:8080/"
        },
        "id": "b8q48Ur0HIbX",
        "outputId": "0c908bc8-d6c1-47b2-f776-0d04f6e5c8e8"
      },
      "source": [
        "# Further break training data into train / validation sets (# put 5000 into validation set and keep remaining 55,000 for train)\r\n",
        "(x_train, x_valid) = x_train[5000:], x_train[:5000] \r\n",
        "(y_train, y_valid) = y_train[5000:], y_train[:5000]\r\n",
        "\r\n",
        "# Reshape input data from (28, 28) to (28, 28, 1)\r\n",
        "w, h = 28, 28\r\n",
        "x_train = x_train.reshape(x_train.shape[0], w, h, 1)\r\n",
        "x_valid = x_valid.reshape(x_valid.shape[0], w, h, 1)\r\n",
        "x_test = x_test.reshape(x_test.shape[0], w, h, 1)\r\n",
        "\r\n",
        "# One-hot encode the labels\r\n",
        "y_train = tf.keras.utils.to_categorical(y_train, 10)\r\n",
        "y_valid = tf.keras.utils.to_categorical(y_valid, 10)\r\n",
        "y_test = tf.keras.utils.to_categorical(y_test, 10)\r\n",
        "\r\n",
        "# Print training set shape\r\n",
        "print(\"x_train shape:\", x_train.shape, \"y_train shape:\", y_train.shape)\r\n",
        "\r\n",
        "# Print the number of training, validation, and test datasets\r\n",
        "print(x_train.shape[0], 'train set')\r\n",
        "print(x_valid.shape[0], 'validation set')\r\n",
        "print(x_test.shape[0], 'test set')"
      ],
      "execution_count": 21,
      "outputs": [
        {
          "output_type": "stream",
          "text": [
            "x_train shape: (55000, 28, 28, 1) y_train shape: (55000, 10)\n",
            "55000 train set\n",
            "5000 validation set\n",
            "10000 test set\n"
          ],
          "name": "stdout"
        }
      ]
    },
    {
      "cell_type": "code",
      "metadata": {
        "colab": {
          "base_uri": "https://localhost:8080/"
        },
        "id": "RsyHT3SuGTOW",
        "outputId": "cd123d8d-8f5b-45fa-af8e-507a275b7429"
      },
      "source": [
        "model = tf.keras.Sequential()\r\n",
        "# Must define the input shape in the first layer of the neural network\r\n",
        "model.add(tf.keras.layers.Conv2D(filters=64, kernel_size=2, padding='same', activation='relu', input_shape=(28,28,1))) \r\n",
        "model.add(tf.keras.layers.MaxPooling2D(pool_size=2))\r\n",
        "model.add(tf.keras.layers.Dropout(0.3))\r\n",
        "model.add(tf.keras.layers.Conv2D(filters=32, kernel_size=2, padding='same', activation='relu'))\r\n",
        "model.add(tf.keras.layers.MaxPooling2D(pool_size=2))\r\n",
        "model.add(tf.keras.layers.Dropout(0.3))\r\n",
        "model.add(tf.keras.layers.Flatten())\r\n",
        "model.add(tf.keras.layers.Dense(256, activation='relu'))\r\n",
        "model.add(tf.keras.layers.Dropout(0.5))\r\n",
        "model.add(tf.keras.layers.Dense(10, activation='softmax'))\r\n",
        "# Take a look at the model summary\r\n",
        "model.summary()"
      ],
      "execution_count": 22,
      "outputs": [
        {
          "output_type": "stream",
          "text": [
            "Model: \"sequential_1\"\n",
            "_________________________________________________________________\n",
            "Layer (type)                 Output Shape              Param #   \n",
            "=================================================================\n",
            "conv2d_2 (Conv2D)            (None, 28, 28, 64)        320       \n",
            "_________________________________________________________________\n",
            "max_pooling2d_2 (MaxPooling2 (None, 14, 14, 64)        0         \n",
            "_________________________________________________________________\n",
            "dropout_3 (Dropout)          (None, 14, 14, 64)        0         \n",
            "_________________________________________________________________\n",
            "conv2d_3 (Conv2D)            (None, 14, 14, 32)        8224      \n",
            "_________________________________________________________________\n",
            "max_pooling2d_3 (MaxPooling2 (None, 7, 7, 32)          0         \n",
            "_________________________________________________________________\n",
            "dropout_4 (Dropout)          (None, 7, 7, 32)          0         \n",
            "_________________________________________________________________\n",
            "flatten_1 (Flatten)          (None, 1568)              0         \n",
            "_________________________________________________________________\n",
            "dense_2 (Dense)              (None, 256)               401664    \n",
            "_________________________________________________________________\n",
            "dropout_5 (Dropout)          (None, 256)               0         \n",
            "_________________________________________________________________\n",
            "dense_3 (Dense)              (None, 10)                2570      \n",
            "=================================================================\n",
            "Total params: 412,778\n",
            "Trainable params: 412,778\n",
            "Non-trainable params: 0\n",
            "_________________________________________________________________\n"
          ],
          "name": "stdout"
        }
      ]
    },
    {
      "cell_type": "code",
      "metadata": {
        "id": "i-8vSSS2HVPT"
      },
      "source": [
        "model.compile(loss='categorical_crossentropy',\r\n",
        "             optimizer='adam',\r\n",
        "             metrics=['accuracy'])"
      ],
      "execution_count": 24,
      "outputs": []
    },
    {
      "cell_type": "code",
      "metadata": {
        "colab": {
          "base_uri": "https://localhost:8080/"
        },
        "id": "3rQnC7wLHX4E",
        "outputId": "29108d80-54e0-41f5-90a8-7c0f25db3ad6"
      },
      "source": [
        "from keras.callbacks import ModelCheckpoint\r\n",
        "\r\n",
        "checkpointer = ModelCheckpoint(filepath='model.weights.best.hdf5', verbose = 1, save_best_only=True)\r\n",
        "model.fit(x_train,\r\n",
        "         y_train,\r\n",
        "         batch_size=64,\r\n",
        "         epochs=10,\r\n",
        "         validation_data=(x_valid, y_valid),\r\n",
        "         callbacks=[checkpointer])"
      ],
      "execution_count": 25,
      "outputs": [
        {
          "output_type": "stream",
          "text": [
            "Epoch 1/10\n",
            "860/860 [==============================] - 73s 85ms/step - loss: 1.8276 - accuracy: 0.3032 - val_loss: 0.6851 - val_accuracy: 0.7570\n",
            "\n",
            "Epoch 00001: val_loss improved from inf to 0.68509, saving model to model.weights.best.hdf5\n",
            "Epoch 2/10\n",
            "860/860 [==============================] - 72s 84ms/step - loss: 0.7448 - accuracy: 0.7189 - val_loss: 0.5716 - val_accuracy: 0.7884\n",
            "\n",
            "Epoch 00002: val_loss improved from 0.68509 to 0.57158, saving model to model.weights.best.hdf5\n",
            "Epoch 3/10\n",
            "860/860 [==============================] - 72s 83ms/step - loss: 0.6566 - accuracy: 0.7483 - val_loss: 0.5363 - val_accuracy: 0.8020\n",
            "\n",
            "Epoch 00003: val_loss improved from 0.57158 to 0.53632, saving model to model.weights.best.hdf5\n",
            "Epoch 4/10\n",
            "860/860 [==============================] - 74s 86ms/step - loss: 0.6178 - accuracy: 0.7652 - val_loss: 0.4961 - val_accuracy: 0.8182\n",
            "\n",
            "Epoch 00004: val_loss improved from 0.53632 to 0.49610, saving model to model.weights.best.hdf5\n",
            "Epoch 5/10\n",
            "860/860 [==============================] - 73s 85ms/step - loss: 0.5850 - accuracy: 0.7819 - val_loss: 0.4787 - val_accuracy: 0.8318\n",
            "\n",
            "Epoch 00005: val_loss improved from 0.49610 to 0.47874, saving model to model.weights.best.hdf5\n",
            "Epoch 6/10\n",
            "860/860 [==============================] - 71s 83ms/step - loss: 0.5711 - accuracy: 0.7865 - val_loss: 0.4621 - val_accuracy: 0.8352\n",
            "\n",
            "Epoch 00006: val_loss improved from 0.47874 to 0.46210, saving model to model.weights.best.hdf5\n",
            "Epoch 7/10\n",
            "860/860 [==============================] - 74s 85ms/step - loss: 0.5521 - accuracy: 0.7916 - val_loss: 0.4486 - val_accuracy: 0.8378\n",
            "\n",
            "Epoch 00007: val_loss improved from 0.46210 to 0.44856, saving model to model.weights.best.hdf5\n",
            "Epoch 8/10\n",
            "860/860 [==============================] - 74s 86ms/step - loss: 0.5384 - accuracy: 0.7987 - val_loss: 0.4262 - val_accuracy: 0.8466\n",
            "\n",
            "Epoch 00008: val_loss improved from 0.44856 to 0.42619, saving model to model.weights.best.hdf5\n",
            "Epoch 9/10\n",
            "860/860 [==============================] - 73s 85ms/step - loss: 0.5302 - accuracy: 0.8018 - val_loss: 0.4234 - val_accuracy: 0.8528\n",
            "\n",
            "Epoch 00009: val_loss improved from 0.42619 to 0.42344, saving model to model.weights.best.hdf5\n",
            "Epoch 10/10\n",
            "860/860 [==============================] - 71s 82ms/step - loss: 0.5266 - accuracy: 0.8014 - val_loss: 0.4023 - val_accuracy: 0.8564\n",
            "\n",
            "Epoch 00010: val_loss improved from 0.42344 to 0.40232, saving model to model.weights.best.hdf5\n"
          ],
          "name": "stdout"
        },
        {
          "output_type": "execute_result",
          "data": {
            "text/plain": [
              "<tensorflow.python.keras.callbacks.History at 0x7f6944e4a400>"
            ]
          },
          "metadata": {
            "tags": []
          },
          "execution_count": 25
        }
      ]
    },
    {
      "cell_type": "code",
      "metadata": {
        "id": "IqA-8sA7Hc_l"
      },
      "source": [
        "# Load the weights with the best validation accuracy\r\n",
        "model.load_weights('model.weights.best.hdf5')"
      ],
      "execution_count": 26,
      "outputs": []
    },
    {
      "cell_type": "code",
      "metadata": {
        "id": "rlAbGdWwGWEA"
      },
      "source": [
        ""
      ],
      "execution_count": 26,
      "outputs": []
    },
    {
      "cell_type": "code",
      "metadata": {
        "colab": {
          "base_uri": "https://localhost:8080/"
        },
        "id": "NA7upJ_qGYNn",
        "outputId": "1023dfee-47c8-4614-8f7d-46d8791a5ee4"
      },
      "source": [
        "# Evaluate the model on test set\r\n",
        "score = model.evaluate(x_test, y_test, verbose=0)\r\n",
        "\r\n",
        "# Print test accuracy\r\n",
        "print('\\n', 'Test accuracy:', score[1])"
      ],
      "execution_count": 27,
      "outputs": [
        {
          "output_type": "stream",
          "text": [
            "\n",
            " Test accuracy: 0.843999981880188\n"
          ],
          "name": "stdout"
        }
      ]
    },
    {
      "cell_type": "code",
      "metadata": {
        "colab": {
          "base_uri": "https://localhost:8080/",
          "height": 485
        },
        "id": "xvoDqM7FGdBf",
        "outputId": "616610ae-b5a0-4e2e-cce1-b8f4914b0f33"
      },
      "source": [
        "y_hat = model.predict(x_test)\r\n",
        "\r\n",
        "# Plot a random sample of 10 test images, their predicted labels and ground truth\r\n",
        "figure = plt.figure(figsize=(20, 8))\r\n",
        "for i, index in enumerate(np.random.choice(x_test.shape[0], size=15, replace=False)):\r\n",
        "    ax = figure.add_subplot(3, 5, i + 1, xticks=[], yticks=[])\r\n",
        "    # Display each image\r\n",
        "    ax.imshow(np.squeeze(x_test[index]))\r\n",
        "    predict_index = np.argmax(y_hat[index])\r\n",
        "    true_index = np.argmax(y_test[index])\r\n",
        "    # Set the title for each image\r\n",
        "    ax.set_title(\"{} ({})\".format(fashion_mnist_labels[predict_index], \r\n",
        "                                  fashion_mnist_labels[true_index]),\r\n",
        "                                  color=(\"green\" if predict_index == true_index else \"red\"))"
      ],
      "execution_count": 28,
      "outputs": [
        {
          "output_type": "display_data",
          "data": {
            "image/png": "[encoded data removed]",
            "text/plain": [
              "<Figure size 1440x576 with 15 Axes>"
            ]
          },
          "metadata": {
            "tags": []
          }
        }
      ]
    },
    {
      "cell_type": "code",
      "metadata": {
        "id": "hUGW7veNKPl-"
      },
      "source": [
        ""
      ],
      "execution_count": null,
      "outputs": []
    }
  ]
}