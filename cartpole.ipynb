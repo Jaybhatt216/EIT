{
  "nbformat": 4,
  "nbformat_minor": 0,
  "metadata": {
    "colab": {
      "name": "cartpole.ipynb",
      "provenance": [],
      "authorship_tag": "ABX9TyN+nrE66Dq+hfICAQolBGlj",
      "include_colab_link": true
    },
    "kernelspec": {
      "name": "python3",
      "display_name": "Python 3"
    },
    "language_info": {
      "name": "python"
    }
  },
  "cells": [
    {
      "cell_type": "markdown",
      "metadata": {
        "id": "view-in-github",
        "colab_type": "text"
      },
      "source": [
        "<a href=\"https://colab.research.google.com/github/Jaybhatt216/EIT/blob/main/cartpole.ipynb\" target=\"_parent\"><img src=\"https://colab.research.google.com/assets/colab-badge.svg\" alt=\"Open In Colab\"/></a>"
      ]
    },
    {
      "cell_type": "code",
      "execution_count": 27,
      "metadata": {
        "id": "nEZWkzihXWs9"
      },
      "outputs": [],
      "source": [
        "import random\n",
        "import gym\n",
        "import numpy as np\n",
        "from collections import deque\n",
        "from keras.models import Sequential\n",
        "from keras.layers import Dense\n",
        "from tensorflow.keras.optimizers import Adam\n",
        "\n",
        "\n",
        "\n",
        "\n",
        "\n"
      ]
    },
    {
      "cell_type": "code",
      "source": [
        "\n",
        "\n",
        "ENV_NAME = \"CartPole-v1\"\n",
        "\n",
        "GAMMA = 0.95\n",
        "LEARNING_RATE = 0.001\n",
        "\n",
        "MEMORY_SIZE = 1000000\n",
        "BATCH_SIZE = 20\n",
        "\n",
        "EXPLORATION_MAX = 1.0\n",
        "EXPLORATION_MIN = 0.01\n",
        "EXPLORATION_DECAY = 0.995\n",
        "\n"
      ],
      "metadata": {
        "id": "1coIQplMXXMU"
      },
      "execution_count": 28,
      "outputs": []
    },
    {
      "cell_type": "code",
      "source": [
        "\n",
        "class DQNSolver:\n",
        "\n",
        "    def __init__(self, observation_space, action_space):\n",
        "        self.exploration_rate = EXPLORATION_MAX\n",
        "\n",
        "        self.action_space = action_space\n",
        "        self.memory = deque(maxlen=MEMORY_SIZE)\n",
        "\n",
        "        self.model = Sequential()\n",
        "        self.model.add(Dense(24, input_shape=(observation_space,), activation=\"relu\"))\n",
        "        self.model.add(Dense(24, activation=\"relu\"))\n",
        "        self.model.add(Dense(self.action_space, activation=\"linear\"))\n",
        "        self.model.compile(loss=\"mse\", optimizer=Adam(lr=LEARNING_RATE))\n",
        "\n",
        "    def remember(self, state, action, reward, next_state, done):\n",
        "        self.memory.append((state, action, reward, next_state, done))\n",
        "\n",
        "    def act(self, state):\n",
        "        if np.random.rand() < self.exploration_rate:\n",
        "            return random.randrange(self.action_space)\n",
        "        q_values = self.model.predict(state)\n",
        "        return np.argmax(q_values[0])\n",
        "\n",
        "    def experience_replay(self):\n",
        "        if len(self.memory) < BATCH_SIZE:\n",
        "            return\n",
        "        batch = random.sample(self.memory, BATCH_SIZE)\n",
        "        for state, action, reward, state_next, terminal in batch:\n",
        "            q_update = reward\n",
        "            if not terminal:\n",
        "                q_update = (reward + GAMMA * np.amax(self.model.predict(state_next)[0]))\n",
        "            q_values = self.model.predict(state)\n",
        "            q_values[0][action] = q_update\n",
        "            self.model.fit(state, q_values, verbose=0)\n",
        "        self.exploration_rate *= EXPLORATION_DECAY\n",
        "        self.exploration_rate = max(EXPLORATION_MIN, self.exploration_rate)\n",
        "\n",
        "\n",
        "def cartpole():\n",
        "    env = gym.make(ENV_NAME)\n",
        "    observation_space = env.observation_space.shape[0]\n",
        "    action_space = env.action_space.n\n",
        "    dqn_solver = DQNSolver(observation_space, action_space)\n",
        "    run = 0\n",
        "    while True:\n",
        "        run += 1\n",
        "        state = env.reset()\n",
        "        state = np.reshape(state, [1, observation_space])\n",
        "        step = 0\n",
        "        while True:\n",
        "            step += 1\n",
        "            #env.render()\n",
        "            action = dqn_solver.act(state)\n",
        "            state_next, reward, terminal, info = env.step(action)\n",
        "            reward = reward if not terminal else -reward\n",
        "            state_next = np.reshape(state_next, [1, observation_space])\n",
        "            dqn_solver.remember(state, action, reward, state_next, terminal)\n",
        "            state = state_next\n",
        "            if terminal:\n",
        "                print( \"Run: \" + str(run) + \", exploration: \" + str(dqn_solver.exploration_rate) + \", score \" + str(step))\n",
        "                \n",
        "                break\n",
        "            dqn_solver.experience_replay()\n",
        "\n",
        "\n",
        "if __name__ == \"__main__\":\n",
        "    cartpole()"
      ],
      "metadata": {
        "colab": {
          "base_uri": "https://localhost:8080/"
        },
        "id": "RI_cDaEQXdzf",
        "outputId": "63dd7fc5-d610-40bc-8125-d4ea4c18ccbf"
      },
      "execution_count": null,
      "outputs": [
        {
          "output_type": "stream",
          "name": "stderr",
          "text": [
            "/usr/local/lib/python3.7/dist-packages/keras/optimizer_v2/adam.py:105: UserWarning: The `lr` argument is deprecated, use `learning_rate` instead.\n",
            "  super(Adam, self).__init__(name, **kwargs)\n"
          ]
        },
        {
          "output_type": "stream",
          "name": "stdout",
          "text": [
            "Run: 1, exploration: 1.0, score 19\n",
            "Run: 2, exploration: 0.9322301194154049, score 15\n",
            "Run: 3, exploration: 0.8348931673187264, score 23\n",
            "Run: 4, exploration: 0.778312557068642, score 15\n",
            "Run: 5, exploration: 0.7219385759785162, score 16\n",
            "Run: 6, exploration: 0.6337242817644086, score 27\n",
            "Run: 7, exploration: 0.5907768628656763, score 15\n",
            "Run: 8, exploration: 0.5562889678716474, score 13\n",
            "Run: 9, exploration: 0.4883155414435353, score 27\n",
            "Run: 10, exploration: 0.46444185833082485, score 11\n",
            "Run: 11, exploration: 0.43952667968844233, score 12\n",
            "Run: 12, exploration: 0.4159480862733536, score 12\n",
            "Run: 13, exploration: 0.3936343764094253, score 12\n",
            "Run: 14, exploration: 0.3706551064126331, score 13\n",
            "Run: 15, exploration: 0.34901730169741024, score 13\n",
            "Run: 16, exploration: 0.3253644408394192, score 15\n",
            "Run: 17, exploration: 0.3125753549412418, score 9\n",
            "Run: 18, exploration: 0.2943280830920294, score 13\n",
            "Run: 19, exploration: 0.2827589419554058, score 9\n",
            "Run: 20, exploration: 0.2702863258025825, score 10\n",
            "Run: 21, exploration: 0.25578670228422234, score 12\n",
            "Run: 22, exploration: 0.22793384675362674, score 24\n",
            "Run: 23, exploration: 0.19513012515638165, score 32\n",
            "Run: 24, exploration: 0.16873052768933355, score 30\n",
            "Run: 25, exploration: 0.15035730121053842, score 24\n",
            "Run: 26, exploration: 0.10909420695870241, score 65\n",
            "Run: 27, exploration: 0.06641813604822402, score 100\n",
            "Run: 28, exploration: 0.05489891379418004, score 39\n",
            "Run: 29, exploration: 0.044924885780066794, score 41\n",
            "Run: 30, exploration: 0.036033175291307735, score 45\n",
            "Run: 31, exploration: 0.027765323199097504, score 53\n"
          ]
        }
      ]
    },
    {
      "cell_type": "code",
      "source": [
        ""
      ],
      "metadata": {
        "id": "XrTg5cXGYApx"
      },
      "execution_count": null,
      "outputs": []
    }
  ]
}