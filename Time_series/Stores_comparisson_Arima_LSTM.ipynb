{
 "cells": [
  {
   "cell_type": "code",
   "execution_count": 1,
   "metadata": {
    "id": "w1Ek4xEtWzrx"
   },
   "outputs": [],
   "source": [
    "import numpy as np\n",
    "import pandas as pd\n",
    "import matplotlib.pyplot as plt\n",
    "\n",
    "import datetime as dt\n",
    "import seaborn as sns\n",
    "\n"
   ]
  },
  {
   "cell_type": "code",
   "execution_count": 2,
   "metadata": {
    "id": "hEH6yr8EYEfa"
   },
   "outputs": [],
   "source": [
    "df_16 = pd.read_csv('store_16.csv')\n",
    "df_27 = pd.read_csv('store_27.csv')\n",
    "df_28 = pd.read_csv('store_28.csv')\n",
    "df_30 = pd.read_csv('store_30.csv')"
   ]
  },
  {
   "cell_type": "code",
   "execution_count": 3,
   "metadata": {
    "colab": {
     "base_uri": "https://localhost:8080/"
    },
    "id": "J7bY3W22YVNb",
    "outputId": "5e070ba9-2769-497b-87ca-432589494ae3"
   },
   "outputs": [],
   "source": [
    "store_16 = df_16[['Date', 'Weekly_Sales']]\n",
    "store_16.columns = ['ds','y']\n",
    "store_27 = df_27[['Date', 'Weekly_Sales']]\n",
    "store_27.columns = ['ds','y']\n",
    "store_28 = df_28[['Date', 'Weekly_Sales']]\n",
    "store_28.columns = ['ds','y']\n",
    "store_30 = df_30[['Date', 'Weekly_Sales']]\n",
    "store_30.columns = ['ds','y']"
   ]
  },
  {
   "cell_type": "code",
   "execution_count": 4,
   "metadata": {},
   "outputs": [],
   "source": [
    "#def log_trans(df,ts):\n",
    "#    return df[ts].apply(lambda x:np.log(x))"
   ]
  },
  {
   "cell_type": "code",
   "execution_count": 5,
   "metadata": {},
   "outputs": [],
   "source": [
    "#train['ts_log']=log_trans(train,'y')\n",
    "#test['ts_log']=log_trans(test,'y')"
   ]
  },
  {
   "cell_type": "code",
   "execution_count": 6,
   "metadata": {
    "colab": {
     "base_uri": "https://localhost:8080/"
    },
    "id": "S2A3t2Eaa7es",
    "outputId": "95e1541b-38a9-4ed4-dddb-180b07f01faa"
   },
   "outputs": [],
   "source": [
    "from statsmodels.tsa.seasonal import seasonal_decompose"
   ]
  },
  {
   "cell_type": "code",
   "execution_count": 7,
   "metadata": {
    "id": "tAk_COZobu6F"
   },
   "outputs": [],
   "source": [
    "decomposition_16 = seasonal_decompose(store_16['y'],period=7,extrapolate_trend=4)\n",
    "decomposition_27 = seasonal_decompose(store_27['y'],period=7,extrapolate_trend=4)\n",
    "decomposition_28 = seasonal_decompose(store_28['y'],period=7,extrapolate_trend=4)\n",
    "decomposition_30 = seasonal_decompose(store_30['y'],period=7,extrapolate_trend=4)"
   ]
  },
  {
   "cell_type": "code",
   "execution_count": 8,
   "metadata": {},
   "outputs": [
    {
     "name": "stderr",
     "output_type": "stream",
     "text": [
      "C:\\Anaconda3\\lib\\site-packages\\pandas\\core\\indexing.py:844: SettingWithCopyWarning: \n",
      "A value is trying to be set on a copy of a slice from a DataFrame.\n",
      "Try using .loc[row_indexer,col_indexer] = value instead\n",
      "\n",
      "See the caveats in the documentation: https://pandas.pydata.org/pandas-docs/stable/user_guide/indexing.html#returning-a-view-versus-a-copy\n",
      "  self.obj[key] = _infer_fill_value(value)\n",
      "C:\\Anaconda3\\lib\\site-packages\\pandas\\core\\indexing.py:965: SettingWithCopyWarning: \n",
      "A value is trying to be set on a copy of a slice from a DataFrame.\n",
      "Try using .loc[row_indexer,col_indexer] = value instead\n",
      "\n",
      "See the caveats in the documentation: https://pandas.pydata.org/pandas-docs/stable/user_guide/indexing.html#returning-a-view-versus-a-copy\n",
      "  self.obj[item] = s\n"
     ]
    }
   ],
   "source": [
    "store_16.loc[:,\"trend\"]= decomposition_16.trend\n",
    "store_16.loc[:,\"seasonal\"]= decomposition_16.seasonal\n",
    "store_16.loc[:,\"residuals\"]= decomposition_16.resid"
   ]
  },
  {
   "cell_type": "code",
   "execution_count": 9,
   "metadata": {},
   "outputs": [],
   "source": [
    "store_27.loc[:,\"trend\"]= decomposition_27.trend\n",
    "store_27.loc[:,\"seasonal\"]= decomposition_27.seasonal\n",
    "store_27.loc[:,\"residuals\"]= decomposition_27.resid"
   ]
  },
  {
   "cell_type": "code",
   "execution_count": 10,
   "metadata": {},
   "outputs": [],
   "source": [
    "store_28.loc[:,\"trend\"]= decomposition_28.trend\n",
    "store_28.loc[:,\"seasonal\"]= decomposition_28.seasonal\n",
    "store_28.loc[:,\"residuals\"]= decomposition_28.resid"
   ]
  },
  {
   "cell_type": "code",
   "execution_count": 11,
   "metadata": {},
   "outputs": [],
   "source": [
    "store_30.loc[:,\"trend\"]= decomposition_30.trend\n",
    "store_30.loc[:,\"seasonal\"]= decomposition_30.seasonal\n",
    "store_30.loc[:,\"residuals\"]= decomposition_30.resid"
   ]
  },
  {
   "cell_type": "code",
   "execution_count": 12,
   "metadata": {
    "id": "Ry4g1Xrhc2nG"
   },
   "outputs": [],
   "source": [
    "def plot_decomposition(df, ts,trend,seasonal, residual):\n",
    "    f, ((ax1, ax2), (ax3, ax4)) = plt.subplots(2,2, figsize = (15, 5), sharex = True)\n",
    "\n",
    "    ax1.plot(df[ts], label = 'Original')\n",
    "    ax1.legend(loc = 'best')\n",
    "    ax1.tick_params(axis = 'x', rotation = 45)\n",
    "\n",
    "    ax2.plot(df[trend], label = 'Trend')\n",
    "    ax2.legend(loc = 'best')\n",
    "    ax2.tick_params(axis = 'x', rotation = 45)\n",
    "\n",
    "    ax3.plot(df[seasonal],label = 'Seasonality')\n",
    "    ax3.legend(loc = 'best')\n",
    "    ax3.tick_params(axis = 'x', rotation = 45)\n",
    "\n",
    "    ax4.plot(df[residual], label = 'Residuals')\n",
    "    ax4.legend(loc = 'best')\n",
    "    ax4.tick_params(axis = 'x', rotation = 45)\n",
    "    plt.tight_layout()\n",
    "\n",
    "    #plt.subtitle('Signal Decomposition of %s' %(ts), x =0.5, y= 1.05, fontsize = 18)\n",
    "    plt.show()"
   ]
  },
  {
   "cell_type": "code",
   "execution_count": 13,
   "metadata": {
    "colab": {
     "base_uri": "https://localhost:8080/",
     "height": 279
    },
    "id": "BBVUZWPOdk4H",
    "outputId": "a45c4bbf-0f81-4609-abe7-51cf3efd2b3c"
   },
   "outputs": [
    {
     "data": {
      "image/png": "iVBORw0KGgoAAAANSUhEUgAABDAAAAFgCAYAAABNIolGAAAABHNCSVQICAgIfAhkiAAAAAlwSFlzAAALEgAACxIB0t1+/AAAADh0RVh0U29mdHdhcmUAbWF0cGxvdGxpYiB2ZXJzaW9uMy4xLjMsIGh0dHA6Ly9tYXRwbG90bGliLm9yZy+AADFEAAAgAElEQVR4nOzdd3hc5Znw4d87Vb3LlmVZlnvv3VQDBgdCDTVLJ2QhJB/plQRIFjY9WTYBAkvvBkJLTG/GuPdeZNmyZMuyehtJ097vjymSbMmSZs7MSNZzX5cu7DNnjt4xo9E5z3mK0lojhBBCCCGEEEII0ZeZYr0AIYQQQgghhBBCiO5IAEMIIYQQQgghhBB9ngQwhBBCCCGEEEII0edJAEMIIYQQQgghhBB9ngQwhBBCCCGEEEII0edZYr2AUGVlZemCgoJYL0MIIYQY0DZs2FCptc6O9TqMIOcWQgghRN/Q1flFvw1gFBQUsH79+lgvQwghhBjQlFLFsV6DUeTcQgghhOgbujq/kBISIYQQQgghhBBC9HkSwBBCCCGEEEIIIUSfJwEMIYQQQgghhBBC9Hn9tgeGEEIIYQSXy0VpaSktLS2xXkqfFhcXR15eHlarNdZLEUIIIU4ZA/08pLfnFxLAEEKIfs7t8fLo5/u5+bQRJNnlY723SktLSU5OpqCgAKVUrJfTJ2mtqaqqorS0lBEjRsR6OUIIIaLgi30V7C5r4NbTR2A2ye/HSBnI5yGhnF9ICYkQQvRzO47U88cP9vLF3opYL6VfamlpITMzc8CdNPSGUorMzMwBe3dICCEGmqe+PMBNT67lgWW7+MYz62hoccV6SaesgXweEsr5hQQwhBCin2tsdQPQ7PLEeCX910A8aegt+TcSQohTn9vj5d63tnP/Ozs5d8Jg7r14Isv3VfK1R1ZSUu2I9fJOWQP5d2xvX7sEMIQQop8LBDBaXN4Yr0QIIYQQ/dm9b+/gmVXF3H7GCB69fha3nDaCZ2+dy9G6Fq58dCVOt5xriNiSAIYQQvRzjS2BAIZkYPRXpaWlXHrppYwZM4ZRo0Zx991343Q6T9jvyJEjXHnlld0e78ILL6S2tjaktdx333388Y9/DOm5Qggh+q9DVQ5eXlfCjQuG84uLJgb7Xpw2Oovffm0q5fWtbCkN7XeL6LuqqqqYPn0606dPJycnh6FDhwb/3tm5SDjy8vJCPj8JkACGEEL0c8EMDLcEMPojrTVXXHEFl112Gfv27WPv3r00Njbyi1/8osN+breb3NxcXnvttW6PuWzZMtLS0iK1ZCGEEKegR5fvx6wUdy0afcJjC0dlohR8WVgZg5WJSMrMzGTz5s1s3ryZO+64g+9973vBv9tsNsB3ruL19o3sGwlgCCFEPyclJP3bJ598QlxcHLfccgsAZrOZv/zlLzz55JM8/PDDXHXVVVx88cWcf/75HDx4kMmTJwPgcDi4+uqrmTp1Ktdccw3z5s1j/fr1ABQUFFBZWcnBgweZMGECt99+O5MmTeL888+nubkZgMcff5w5c+Ywbdo0vva1r+FwSG2zEEIMVEfrWnhtfSlXzs5jcErcCY+nJdiYlJvCyv1VMVidiIXCwkImT57MHXfcwcyZMykrK+Pdd99lwYIFzJw5k2uuuYampibAl1lx3333MWPGDKZOncrevXsBqKioYPHixcycOZM777wTrXXY65J5e0II0c8FAhitUkIStvvf2cHOI/WGHnNibgr3Xjypy8d37NjBrFmzOmxLSUkhPz8ft9vNqlWr2Lp1KxkZGRw8eDC4z8MPP0x6ejpbt25l+/btTJ8+vdPj79u3j5deeonHH3+cq6++mtdff53rr7+eK664gttvvx2Ae+65hyeeeILvfOc74b9gIUTIVuyrxGxSzBuRgUnGVoooevyLIjxac+dZo7rc57RRWTz55QGanR7ibeYorm7giMV5yMns3LmTp556ikcffZRjx47x29/+lo8//piEhAQeeOAB/ud//oef//znAAwePJhNmzbx0EMP8ec//5lHH32Ue++9l0WLFvHzn/+ct956i0cffTTs1yMBDCGE6OcCPTBkCkn/pLXutAN3YPvixYvJyMg44fEVK1Zw9913AzB58mSmTp3a6fFHjBgRDG7MmjUrGATZvn0799xzD7W1tTQ2NnLBBRcY9IqEEKFYU1TFjU+uwashJyWOS6bncutpI8hJPfFuuBBGqm5y8uKaQ1w6LZdhGQld7rdgVCb/WF7E+uJqzhiTHcUVilgZNWoUc+bMAWDlypXs3LmThQsXAuB0Ojn99NOD+15xxRWA71xj2bJlACxfvjz450svvZTk5OSw1yQBDCGE6OeaWqWJp1FCvUMRjkmTJvH666932FZfX09JSQlms5nExMROn9fTNEy73R78s9lsDpaQ3Hzzzbz55ptMmzaNp59+ms8++yy0FyCECFutw8l3X9lMfkYC3z1vLO9sOcKTKw6wtbSWl7+5INbLE6e4p748QIvbw7cWdZ19ATCnIAOLSbFyf5UEMCIkFuchJ9P+HERrzZIlS3juuec63TdwvmE2m3G73cHtRo+IlR4YQgjRzzVID4x+7dxzz8XhcPDss88C4PF4+MEPfsDNN99MQkLXd8JOP/10li5dCvhSPLdt29ar79vQ0MCQIUNwuVy88MILob8AIURYtNb89PVtVDa28tB1M7hsxlCeuHkO31o0mjUHqqloaI31EsUp7u0tRzh7bDajB5387nii3cKM/DTpgzFALVy4kM8//5yioiIAmpqa2Ldv30mfc+aZZwbPMd555x0aGhrCXocEMIQQop+TMar9m1KKN954g1dffZUxY8YwduxY4uLiePDBB0/6vG9961tUVFQwdepUfve73zF16lRSU1N7/H1/85vfMG/ePBYvXsz48ePDfRlCiBC9tLaE93Yc5Yfnj2NqXtv0oCWTctAaPtxZHsPViVNddZOT4ioH80Zm9mj/BaOy2FZaS12zK8IrE33N4MGDeeKJJ7jmmmuYNm0aCxcuDDbr7Mr999/PRx99xMyZM/nss88YOnRo2OtQRnQCjYXZs2frQLd1IYQYyC752wq2ltZx5thsnr11bqyX0+/s2rWLCRMmxHoZvebxeHC5XMTFxbF//37OPfdc9u7dGxx5Fgmd/VsppTZorWdH7JtGkZxbiGgrqXaw+C+fM6cgg2dumduhcafWmrP/+Bn5GQk8d9u8GK5SnMo+3XOMW55ax8vfnM/8HgQxVhdVce1jq3n8xtksnjg4Cis89fXX8xAj9eb8QnpgCCFEPycZGAOTw+Fg0aJFuFwutNY88sgjEQ1eCCGMpbXmnje3Y1aK31859YSpI0oplkzO4YkvDlDncJGaYI3RSsWpbPOhWkwKpgztWQbfjPw04qwmVu6vlACGiAkJYAgRpvoWF1/uq+QrU4bEeiligGqQMaoDUnJyMpItIET/9e9tZXy+t4JffXUiQ1LjO91nyaQc/vF5ER/tKudrs/KivEIxEGwuqWXs4GQS7T27LLRbzMwpyGCV9MEQMSI9MIQI0xsbD3PnCxupapQmWyI2AlNIZIxq6PprOWU0yb+REMapb3Fx/zs7mTw0hZsWFnS537S8NIakxvHejqPRW5wYMLTWbCmtZVq73is9sWBUJruPNlDd5IzQygaegfw7trevXQIYQoSp0h+4kItHEQser8bh9L33ZApJaOLi4qiqqhrQJw/d0VpTVVVFXFxcrJcixCnhj+/voaqxlf++fCpmU9cjBk0mxQWTcli+tyIYrBbCKMVVDmodLqbn9y6AMWFICgBFFY2RWNaAM5DPQ0I5v5ASEiHCVOPwRZ9b3XLxKKKvsd0JrfTACE1eXh6lpaVUVFTEeil9WlxcHHl5ksIuRLgqG1t5bnUxN84fzpS87vsOLJmcw9MrD/LZngoumirlqsI4m0tqAZg+rHcBjOEZvhHfxVUOZhdkGL6ugWagn4f09vxCAhhChKnG4Rsj1Sp3v0UMBO7IxVvNEsAIkdVqZcSIEbFehhBigDhc04zWcMaY7B7tP6cgg8xEG+9uL5MAhjDU5pJa4q1mxgxK6tXz8tITMCkormqK0MoGFjkP6Z1uS0iUUsOUUp8qpXYppXYope72b79PKXVYKbXZ/3Vhu+f8TClVqJTao5S6oN32Jf5thUqpn7bbPkIptUYptU8p9YpSStqoi36jpimQgSEXjyL6AhkYWck2WiQLSAgh+ryKBl/paXayvUf7m02KReMH8cW+SrzegZdiLiJnc0ktU/JSsZh711XAZjGRmxZPcbUjQisToms9ebe6gR9orScA84G7lFIT/Y/9RWs93f+1DMD/2LXAJGAJ8LBSyqyUMgN/B74CTASua3ec3/mPNQaoAW4z6PUJEXHBDAy5eBQx0OAfoZqVZMfp9srJrRBC9HEVjb0LYACcNjqTumYXO8vqI7UsMcC0uj3sPFLf6/KRgOGZCRRXSQBDRF+3AQytdZnWeqP/zw3ALmDoSZ5yKfCy1rpVa30AKATm+r8KtdZFWmsn8DJwqVJKAecAr/mf/wxwWagvSIhoq/X3wHBKAEPEQKCEJDPRdyLcIplAop9QSj2plDqmlNreyWM/VEpppVSW/+9KKfWQP4Nzq1JqZrt9b/JncO5TSt3UbvsspdQ2/3Me8p9vCBFzgQyMrKSeBzAWjsoCkNGVwjC7yxpwerwhBzDyMxKlhETERK/yhZRSBcAMYI1/07f9JxJPKqXS/duGAiXtnlbq39bV9kygVmvtPm57Z9//m0qp9Uqp9QO1yYnoe6SJp4ilQAlJdrKv8k4mkYh+5Gl8mZodKKWGAYuBQ+02fwUY4//6JvCIf98M4F5gHr4bJfe2Ox95xL9v4HknfC8hYqGioZX0BCs2S89PwwenxDEqO5GV+ysjuDIxkAQaeE4LMYBRkJlAjcNFfYvLyGUJ0a0ef3IqpZKA14Hvaq3r8Z0YjAKmA2XAnwK7dvJ0HcL2Ezdq/ZjWerbWenZ2ds8aHwkRSc1OT/CCUXpgiFhobFdCAjKJRPQfWuvlQHUnD/0F+DEdzwUuBZ7VPquBNKXUEOAC4EOtdbXWugb4EFjifyxFa71K++bSPYtkd4o+4lhDS6/KRwIWjspi7YFqXB4JVIvwbS6pJTvZTm5qaOOxh2f6JpEckjISEWU9CmAopaz4ghcvaK3/CaC1Ltdae7TWXuBxfHc+wJdBMazd0/OAIyfZXonvRMRy3HYh+rxA9gXIFBIRG8EmnhLAEKcApdQlwGGt9ZbjHuptdudQ/5+P397Z95TsThFVFQ2tIQYwMmlyethaWhuBVYmBZktpLdPy0gi1ui4/IxGAg1JGIqKsJ1NIFPAEsEtr/ed229vPcbocCNSwvg1cq5SyK6VG4EvbXAusA8b4J47Y8DX6fNt/Z+RT4Er/828C3grvZQkRHR0CGFJCImIgEMDITJISEtG/KaUSgF8Av+rs4U62SXan6JcqGlvJ7kX/i4D5IzMBWFkofTBEeLTWlNY0Myo7MeRjBDIwpJGniLaeZGCcBtwAnHPcyNTf+5tjbQUWAd8D0FrvAJYCO4H3gLv8mRpu4NvA+/gagS717wvwE+D7SqlCfD0xnjDuJQoRObWOtro/p5SQiBhobHUTZzWRaPclsUkTT9GPjQJGAFuUUgfxZWRuVErl0PvszlL/n4/fLkRMaa1DzsBIT7QxcUgKK6WRpwhTjcOF0+1lcEpo5SMAiXYLWUl2KSERUWfpbget9Qo6v5Ox7CTPeQB4oJPtyzp7nta6iLYSFCH6jeomycAQsdXY6ibJbiXOYgakhET0X1rrbcCgwN/9QYzZWutKpdTb+BqHv4yvYWed1rpMKfU+8GC7xp3nAz/TWlcrpRqUUvPxNR6/EfjfaL4eozW2utlYXMPI7ETy0hNivRwRosZWNy0uL4OSQ7twPG10Js+sKqbF5SHOajZ4dWKgKKtrBmBIiP0vAoZnJkgJiYi6bgMYQoiu1UoJiYixxhY3SXYzcVZfQp0EMER/oZR6CTgbyFJKlQL3aq27ysBcBlyIbzS7A7gFwB+o+A2+MlWAX2utA41B78Q36SQeeNf/1e+8uOYQr24oYWtpHR6vZlR2Iu/efWavJliIvuOYf4RqKBkY4Gvk+fgXB9hYXMPC0VlGLk0MIOX1LQAMNiCAIaN9RbRJAEOIMNT4S0hMSqaQiNhobHWTFGcJ3omTHhiiv9BaX9fN4wXt/qyBu7rY70ngyU62rwcmh7fK2Co81sjP39jG+Jxk7jhrJOkJNv7r37t4/Isi7lo0OtbLEyGoCDOAMWdEBmaTYuX+KglgiJCV1fkCGGFnYGQk8s+NhyUjSESVBDCECEN1k5NkuwWP1jglA0PEgK+EpH0AQwJpQpwqnll5EJvZxPPfmBecNLShuIaHPt7HJdNyGZYhpST9TbgBjCS7hWl5qXy5v5IfMs7IpYkBpLyuBZMipGay7RVk+T6DSqodjBmcbMTShOiW5B8KEYZah5O0RCt2i0lKSERM+EpILMRLBoYQp5Q6h4vXNpRyyfTcYPAC4FcXT8RiUtz79g58iSmiPwkGMMK4cJxdkMGOI/W4PfJ5L0JTVtdCdrIdizm8S8H8DJlEIqJPAhhChKHG4SI9wYbdYqZVLhxFDDQ5AxkY0gNDiFPJK+sP0ezycMtpBR22D0mN53uLx/LJ7mN8sLM8NosTIatobMVqVqQlWEM+xrjByTjdXmmeKEJ2tL6FnDAmkAQMz/SNYS2ulgCGiB4JYAgRhlqH0xfAsJqkB4aIicaW43pgyPtQiH7P7fHyzMpi5o7IYFJu6gmP37ywgPE5yfzu3d14vZKF0Z8cq28lO8mOUp0N+OuZcTm+VP3dRxuMWpYYYI7WtZATZv8LgPQEK8lxFoolmCaiSAIYQoSh2uEkPUFKSETsNLS6SbRbsPsnErQ4JYAhRH/30a5yDtc2c+tpIzp93GI2cefZoyiqbOLzvRVRXp0IR0Vja8j9LwJGD0rCbFLskQCGCJFRGRhKKYZnJkgJiYgqCWAIEYbaJhdpCTZsFpM08RRR53R7cbq9JNstKKWwW0y0yPtQiH6tvsXFY8uLyEuPZ/HEwV3ud+GUIQxOsfPklweiuDoRroqG8AMYcVYzBZkJkoEhQtLU6qahxU1OarwhxxuekSgZGCKqJIAhRIhcHi8Nre62Hhhy4SiirKnVDfi60oPvpFZ6YAjRv7g8Xo7Vt7D+YDU/fX0r8x74mI2HarnjrFGYTV2XGVjNJm5cUMAX+yrZVy4Xsv2FEQEMgPE5KZKBIUJytN6YEaoBwzMTKK1plqayImpkjKoQIap1uADICE4hkQtHEV2N/gBGoj+AES8BDCH6hYYWF0+sOMALaw4Fp1IAxFlNXDptKF+fl8+0YWndHue6ufk89PE+nlp5kAcvnxLJJQ9IXq/mt+/tZmRWItfOzQ/7eB6vprqplezk8C8cx+Uk8+9tZTT5ywiF6Kmjdb4AxmADSkjAF8BwezVldS0y2llEhXziCRGiGocTgLQEG3aLKXgxKUS0BN5zyXGBDAyTjFEVog9rcXl4dtVBHvlsPzUOF+dNGMTkoalkJtrISrKzcHQWqfE9n06RkWjjsulD+efGUn58wTjSEmyRW/wA9IcP9vDY8iLSEqxcPnModos5rONVNbbi1RiSgRFo5Lm3vIEZ+elhH08MHIEAhlEZGEPTfEGLI7XNEsAQUSEBDCFCVNPkC2Ck+3tgyBhVEW3HZ2BICYkQfZPT7eWV9SX878f7ONbQypljs/nh+WOZmtd9lkV3bjm9gFfWl/DS2hLuPHuUAasVAEvXl/DIZ/uZmZ/GxkO1fLCjnIun5YZ1zGP+bJvsJCNKSHwBjD1HJYAheidQQmLEFBIgOBK4xp+ZLESkSQ8MIUIU+KBOT7Rit5hxSu2fiLLGlo49MOxWM80SwBCiT/l4Vznn/OkzfvnmdoZnJrD0Pxfw7K1zDQlegK8XwoKRmTy36iAeGalqiNVFVfzijW2cPjqLl745n6Fp8byyriTs41Y0+gMYBmRgDEtPIMFmlkaeoteO1rWQlmANjl8PV3qiL/Or1p+ZLESkSQBDiBAFPqjT/SUkrXLhKKLshBISyQQSos/R2neH8ulb5rD0Pxcwd0SG4d/jpoXDOVLXwqe7jxl+7IHoh69uYVhGAn//j5nYLWaump3HisJKSqrDGxUZ6HcyyIAAhsmkGDs4WRp5il4rqzNmhGpAumRgiCiTAIYQIapuH8CwmmQKiYi6TktIpJmsEH3KuRMG8c63T+fscYNQquupIuF9j8EMSrbzwpriiBx/IGlqdVNa08yVs/KC/Uiumj0MpeDVDaVhHTsQwDAiAwN8ZSS7j9ajtWTeiJ4rr28xrHwEfA3EbRaTZGCIqJEAhhAhqnW4sFtMxNvMMkZVxMTxJSS+Jp4SwBCiL1FKRSxwEWA1m7h2zjA+21sRdpbAQFdS4/v3G5be1oxwaFo8Z4zJ5rX1JWGV6VQ0tJIcZzEsdX9cTjI1DleHSTZCdMfoDAylFOkJ1mBzeyEiTQIYUaS15sOd5XilRvWUUNPkJMNf92eTMaoiBoIZGLb2Y1QlkCbEQHTt3HwU8OLaQ7FeSr9WUt0MQP5x0xSumT2MI3UtfLGvIuRjVzS0GpZ9AW2TSKQPhugpp9tLVVOroRkY4MtGlhISES0SwIiijYdquP3Z9awqqor1UoQBahzO4Mg6u8WEy6MlOCWiqrHVTaLNjMnku7srU0iEGLhy0+I5Z/xglq4rwSkZgSE75M9gOT6Acd7EQaQnWHkpjABRRUOrIRNIAsbnpABIHwzRY8caWtAaQzMwwNfnR0pIRLRIACOKqhp9P9iVjZLqdyqocbiCjYsCs+FlEomIpsYWN0lxbdOwJYAhxMB2/fx8qpqcvLfjaKyX0m+VVDtIsluCoyED7BYz188fzvs7ytlxpC6kY1c0GpuBkZFoIzvZLhkYosfKDR6hGiAZGCKaJIARRXXNrg7/Ff1bjcNJersMDEAmQIioanS6g/0vAOxWk5SQCDGAnTkmm2EZ8Ty/Wpp5hqqk2sGwjIRO+5bcfuZI0hKs/OH9PT061sr9lVzwl+V8usc3HcboEhLwNfLcU14f1jG01izfW8GNT67lLx/ulWzSPqax1W1Yb5uyusgEMNISbJKBIaJGAhhRVO9vuFcrEcpTQq3DRXqiPwPD6g9gSB8MEUWNLR0DGHEWM06PN6wmc0KI/stkUlw9axhrD1RzrKEl1svplw5VOxiWHt/pYylxVr519ig+21PB6m7KgWsdTr73ymb2lDdw29Pr+PunhTS2uhmUbOyF47jByewrbwwp6KC15uNd5Vz29y+58cm1bD5Uw/98vI9vPLue+pbQz1W11mwrrZPpKAb5zTs7OfdPn7NiX2XYxzrqD2AMSen8PR6q9AQrtQ6X/D8XUSEBjCiq92deSAAjeqqbnFzzj1UcqW029Lher6a2XQaGzRwIYMjdbxE9ja0nlpCABNKEGMjOmTAIgM/3hN5scqDSWlNS4zih/0V7Ny4oICcljt+9t7vLizWtNb94YztVjU6W/ucCFk8cHMzaMDoDY3hWIq1uL8d6OYmk8FgjNz65ltueWU+1w8l/XzGFdfecx28um8zyvRVc9vcvKapoDGlNr64v5eK/reCx5UUhPV+00VqzfF8FTo+Xbz63ns0ltWEd72hdC3FWEynxlu537oX0BBtur6bB31xciEjqNoChlBqmlPpUKbVLKbVDKXW3f3uGUupDpdQ+/3/T/duVUuohpVShUmqrUmpmu2Pd5N9/n1LqpnbbZymltvmf85CK9LyxGAlEs2ubJcUqWnYcqWPNgWq2hPmBf7z6FhdeTVsTz+CFowQwRPQ0tbqDE0jAN0YVkDISIQawiUNSGJRs57O9EsDorYrGVlpcXvIzuw5gxFnNfPe8MWw6VMuHO8s73eeNTYf597Yyvrd4LHNHZPDIf8zi24tGAzAiK9HQNQeyRQ71sMSgtMbBb/61kyV/Xc7mklruvXgin/zgbK6bm4/dYuaG+cN58fb5VDc5ufftHSGtaen6EgB+//4e1h6oDukYwudglYOyuhbuPncMWUl2bn5qLfvKQ+95crS+hSGp8YaPdk7194ypbZKbtCLyepKB4QZ+oLWeAMwH7lJKTQR+CnystR4DfOz/O8BXgDH+r28Cj4Av4AHcC8wD5gL3BoIe/n2+2e55S8J/aX1PfbMvKlknGRhRE2goFE4q5MmO29bEU0pIRPQ1HNfEM94fSJNGnkIMXEopzh6XzfK9FbilsXSvBPoMDEvvOoABcOWsPEZmJ/Lbd3cHx1m3P8a9b+1gTkE6d5w1CvCV9vzwgnFsufd8Zg1P7+yQIQtkixzfI6G0xsENT6zhh69u4bHl+3l9Qym3PLWWM37/KU9+eYCvzczj0x+ezS2njcBq7ng5MHdEBpfPGMq6g9W9Pq85WNnE+uIa7lo0imHp8XznpY3SvD4MK/f7ykYumzGU52+bh9Vs4sYn14bcb+JoXQuDU4zNAgKCGck10gdDREG3AQytdZnWeqP/zw3ALmAocCnwjH+3Z4DL/H++FHhW+6wG0pRSQ4ALgA+11tVa6xrgQ2CJ/7EUrfUq7cvFe7bdsU4pbRkYEsCIlpom3wdpIHhk2HH9H9Dpicc18ZQMDBFFja1uku0nlpBIAEOIgW3RuEE0tLjZeMjY7MNTXSCLYdhJSkgALGYT/3XZZA5WNfHj17YES0lqmpzc/NRaUPDnq6djNnW8y50ab+3scGEZmh6PUlBS0zGA8fneCr7YV8lne47x4LLd/ODVLewsq+c7i0bzxY8X8bsrp5J1kpGu80dm0uLysrW0dxNX/rmxFJOCG+YX8PB/zKLW4eLulzdJb6YQrdpfRU5KHAWZCeRnJvDETbM51tDKr9/ZGdLxAhkYRgvc0JNrHBENveqBoZQqAGYAa4DBWusy8AU5gEH+3YYCJe2eVurfdrLtpZ1s7+z7f1MptV4ptb6iov+lRsoUkugLBBoMz8DwB0aCPTBkComIMq21r4TEfmIJSbMEMIQY0E4bk4XFpPjMP/1C9ExJta9fVl4XTTzbWzgqi58sGc+ybUf5x/Iimp0ebn1mHSU1zfzfjRqDQw4AACAASURBVLO7DYIYxW4xMzg57oQSkqKKJuKsJtb+/Dw2/2ox//5/p/PlT87h++ePI6+bDBOAeSMyUApW7z95s9L2vF7N6xsPc9roLHJS45iYm8KvL53El4VVvL6htPsD9AFrD1Tz/OpiNhRX02DwuWNvaa1Ztb+KhaMygyUfU/PSuOvsUfxz02E+6qKEqSvFVU0crWshN83YRrLQVlItk0hENPQ4gKGUSgJeB76rtT7ZvKbOiqp0CNtP3Kj1Y1rr2Vrr2dnZ2d0tuc+RJp7RFwg0GB00OrGExHfn2ynpuiJKWt1e3F7doYTEHszAkPehEANZSpyVWcPT+VQaefbKoWoHg1PswWy27nzzzJFcNHUIv39vN9c+vpotJbU8dO105o3MjPBKO8rPSKC0umOz8gOVTYzISsJkUqQl2JiUm4rF3PP7lmkJNsbnpLD6QM8DGGsOVHO4tpkrZ+UFt109exgThqTwj+X7+/x41uV7K7ju8dXc8+Z2vvbIKqbc9wHfe2VzzNazt7yRqiYnC0Z1fD99+5wxjM9J5mdvbOtxwKDV7eGuFzeSYDNz3dx8w9caOB8OnHcLEUk9+iRTSlnxBS9e0Fr/07+53F/+gf+/gTB/KTCs3dPzgCPdbM/rZPspp8E/RrWu2SljhqIk2APD4ABGbVclJHLnW0RJ4PMk+bgxqiDvQ9E/KKWeVEodU0ptb7ftD0qp3f4m4G8opdLaPfYzf7PvPUqpC9ptX+LfVqiU+mm77SOUUmv8jcNfUUrZovfqYm/R+EHsKqsPjk0U3TtUffIJJMdTSvH7r01l9KAktpTU8utLJ7Nk8pAIrrBzeRnxJ5SQFFU0MjLMhqHzR2awobimx30wXt9YSpLdwvkTc4LblFLccdZI9lc08fHuvpsRtPtoPd96YSNjBiXx0ffP4ombZnP17Dze2HSY5TFqiLvK3//i+ACGzWLij1dNo6bJyf09LCV58N+72H64nj9dPb1HGTi9FSiPqpGbtCIKejKFRAFPALu01n9u99DbQGCSyE3AW+223+ifRjIfqPOXmLwPnK+USvc37zwfeN//WINSar7/e93Y7linlPpmF0qBy6NxOOUCIxraSkiM7YFR0diK1ayCF4+B1H3pgSGipcnfOK6zEpIWaSYr+oenObFp94fAZK31VGAv8DMAf/Pwa4FJ/uc8rJQyK6XMwN/xNRCfCFzn3xfgd8Bf/M3Ga4DbIvty+pazx/kyVT/f23cvGvua0mpHtw08j5dot/D8N+bxzK1zuX7+8Ait7OSGpSdwtL4lGGhwur2U1DQzMjvcAEbP+2A0tbpZtq2Mi6YMId7WMYPloilDGJoWzz8+3x/WeiKlvL6FW55aR6LdzFO3zGH0oCTOnTCY31w2mWEZ8fz23d0xyR5Zub+K/IyETgMOk4em8q1Fo3lj02He2nz4pMd5d1sZz6wq5rbTR7B44uCIrNViNpESZ5ESEhEVPcnAOA24AThHKbXZ/3Uh8FtgsVJqH7DY/3eAZUARUAg8DnwLQGtdDfwGWOf/+rV/G8CdwP/5n7MfeNeA19anePyzkXNSfHVn0uQmOoIBDIP/vUurm8lLTwjWJAZKSCSAIaIl0Pk+qV0AI3DSKCUkoj/QWi8Hqo/b9oHWOhBxXk1bhualwMta61at9QF85wtz/V+FWusirbUTeBm41H9D5BzgNf/z2zcbHxDGDU5mSGocn+6WMpKeaHV7KKtvCal3xaDkOM4aG7vS5mEZCWgNh2t8ZSSHqpvweHXYAYze9MH4aFc5DqeHr83KO+Exi9nE7WeMYH1xDesP9q2xqi6Pl9ufXU99s4snb57TocGl3WLmh+ePY2dZPW9viW5yuMerWV3k63/Rle+cM5rZw9P52T+3UXis8YTHW1weHlu+nx++uoVpw9L4yZLxkVwy6Yk2ycAQUdGTKSQrtNZKaz1Vaz3d/7VMa12ltT5Xaz3G/99q//5aa32X1nqU1nqK1np9u2M9qbUe7f96qt329Vrryf7nfFufgvUVgUZAgdREiVBGR01TZBqnFlc3dUgztckYVRFlgRKSpE5KSGQKiThF3ErbDY3eNgjPBGrbBUNO2QbhXfGNUx3EisJK+d3UA0dqW9C6+wkkfVFwlKo/gFFU0QTAiKyksI4b6IOx5kD3QYcV+ypJS7Ayu4sxsVfPGUZagpVHPy8Ka01Ge/Sz/WwtreNPV09jUm7qCY9fPDWXSbkp/PGDPVH9Odp5pJ76FvcJ5SPtWc0m/vfrM4izmrnrhY00+7O7W1weXll3iEV//IwHl+1mdkEGj14/M3iuGilpCTYZoyqiIrLvZBEUGOMZ+MUok0iiI1JTSA5VdayTDfTAcEoGhoiSumbfezul3Vi+uH7YxNPt8crPjTiBUuoXgBt4IbCpk92kQXg3vjI5h8ZWN+9tPxrrpfR5gSkevemB0VcMy/BlDZT4X0NRpS+AEW4GBvj6YKwvru72c3r1gSrmjcjAZOrsRw8SbBZuXFDAR7vKKTzWEPa6jLCvvIH//aSQi6YO6bJ3icmk+OlXxlNa08xzq4qjtrZVRf7+F900hB2SGs9fr5nO3mMN3P3yJr6/dDOzfvMhP3l9G4NS4njp9vk8c+vciIxOPV56gjXqgwr2ljdw0UNfsOlQTVS/r4gtCWBESf1xGRh1kmIVcS0uDw6nB6XaAkhGqHU4qW9xMzyzfQBDSkhEdB2p9TXmy01rOynpj2NU739nJ7c+vS7WyxB9iFLqJuCrwH+0y8jsbYPwSiBNKWU5bvuAcvroLIZnJvD86uhdePVX/TmAMTg5DpvZ1BbAqGgkK8lOSpy1m2d2r60PRm2X+xyubaakupn53Vxs37RgODaLiadXHgx7XeHyeDU/em0riXYz918y6aT7njEmmzPGZPHQx/s4Utt80n2NsnJ/FaMHJTEopfuRp2eOzeY7i0bzwc5yPtxZzlen5vLiN+bx5rcWnjSDw2jpMcjAeG5VMTuO1HPH8xs4Vi8NiwcKCWBESaAHQ7CERDIwIi4QBR6SEkezy2PYXd7ASc6wzkpI+tGdb9G/HaltJs5qCo4ug/YZGP0ngLG/opHdR/vG3TgRe0qpJcBPgEu01u3HKrwNXKuUsiulRgBjgLX4emqN8U8cseFr9Pm2P/DxKXCl//ntm40PGCaT4vp5w1l3sIZdZfWxXk6fVlrtwGYxMSjZHuul9JrJpMhLb5tEUlTRFPYEkoBgH4yirvtgrPE/Nm/EyS+WM5PsXDw1lzc2Hg72cYqVp748wOaSWu67ZBJZSd3/P//NpZPxeDXfe2Uzngg39HR5vKw9UN1t9kV73z1vLG98ayHr7zmP3105lYWjs4J92qIlLcoZGE63l3e2HmFmfhr1zW7ufGGjZHQOEBLA6EJJtcPQD9dABsawYA8MCWBEWiAKPDzT90vcqDKS4iqH/7htAQyzSWExKakzFlFzpK6Z3NT4Dico/XGcb32Li+qm1oifEIq+Ryn1ErAKGKeUKlVK3Qb8DUgGPvQ3DX8UQGu9A1gK7ATeA+7SWnv8PS6+jW/S2S5gqX9f8AVCvq+UKsTXE+OJKL68PuPKWXnYLSbJwujGoWoHeenxXZZA9HV5GQmUVPuyAw5UNhlSPgJtfTBWF3XdB2N1URWp8VbG5yR3e7wbFgynyenhjU0nn5wRSccaWvjTB3s5d/wgLpmW26PnFGQlct8lk1hzoJp/LI/sNJWtpXU4nJ6TNvA8nsmkmJGfHswIjoX0BBuNre6oBRE+31tBrcPFt88ZzR+umsqG4hrue2dH908U/Z4EMLpwxSMr+dsnhYYdL9DzYnCKHZvFRG2zNLmJtJom379xQZYv0GDUJJJgBsZxY63sFpOUkIioOVLb0qF8BHxN++wWEy396H1Y3+zGq5HGXwOQ1vo6rfUQrbVVa52ntX7C3+R7WLum4Xe02/8Bf7PvcVrrd9ttX6a1Hut/7IF224u01nP9x7xKa90a7dfYF6Qn2rh4Wi5vbDocbCguTnQohBGqfckwfwZGncNFVZPTsAAGwKzhaWwpqe1ylOjqouqT9r9ob1peKlOGpvL8qmJi1bP/0c+KcHq8/PKrE3uVpXDlrDwumjKEP3+wt0NJjdGvY9V+X/+L7kpy+ppARmi0rnHe2FRKZqKNM8Zk89Wpudx59iheXHOIT3aXR+X7i9iRAEYnmp0eKhpaOVB54kiiUAV6MKTGW0mLt0oPjCgIjHLKzwhkYBiTUXOoykFWkp3EdtMfAOxWc8Siziv3V/Kc3D0T7RypbSY37cTa2HibuV+VkAQyo6oaJYAhRKTcMH84jhjf9e5Ms9PDkysO8Njy/SxdV8KHO8tj9vlVUu3ol/0vAoZlJFDrcLHZf2Ed7gSS9qYOTaOh1c3BqqYTHjtc28yhakePL7aVUtwwfzh7yhtYdzD6jRfL61t4YU0xl88YSkEvy2yUUjx4+RSyk+1c+9hqZv7mQ8be8y7T7v+ARz/fb1gW7sr9VUwYkkJ6os2Q40VLWoJvvdHIMq9rdvHRrmNcPC0Xq9l3OfuDxWMZlGznhdWHIv79RWxZut9l4Kls9N2kOVpnXDOY+hYXJgWJNgup8VaZQhIF1f47ugWZxk5+OVTtID/jxG7OvgyMyJx4/eXDveyvaOKG+cMjcnzRvzjdXioaW0/IwADfKNX+EsDQWgczoyobWxlH9+nHQojemzYsjal5qTy3qpgb5g+Pem18Z/aVN3DXixvZW97xZtGCkZk8feucqKbCbymppb7FzYQhKVH7nkYLBF+W7/WNAjYyA2PqMN940a2ldYzM7hgYCfS/6E22wMXTcvmvf+/kudXFzB2RYdg6e+KRz/bj9mr+3zljQnp+aoKVx2+czTMrD2KzmEiyW9hb3sBv393NS2sP8cuLJnLexMEhr6/F5WFDcQ3X98PzvXR/ACOQAR1J724rw+n2cvmMtunYFrOJq2bn8chn+zla10JOavcNUEX/JBkYnajwBzDKjAxgNLtIjrNiMqmoN7kZqGr9H6D5mcaXkAT6arQXqRKSOoeLDcU1NLS4YpZuKfqW8voWtIbcTsaixVlNNPeTZrKNrb7yEWgLHAshIuPaOfnsO9bIvmPGZZeGaum6Ei7+2wqqm5w8e+tctt9/ASt+soj/umwyq4qq+NGrW7ssV4iEZ1cVk2gzc/G0zkdp9geB8pfP91ZgMSlDs0lGZycRZzWxtbTuhMd60/8iIN5m5qrZw3hvexnHGqI3OeJoXQsvrj3ElTPzgueGoZg8NJU/XDWNBy6fws8unMBTt8zl2VvnYjOb+Maz60/a8LQ7mw7V0ur29qr/RV+R5i8hqYnCNc4/Nx1mZHYiU/NSO2y/evYwvBpe21AS8TWI2JEARicqG3wn0hWNrbg8xlwI1Le4SYn3JbykxttkCkkUVDucJNktwe7SRjTxbHV7OFLX3OmJgc1iisgUkuX7KvBqcHm09NgQgC9lF+g8A8PafzIw2pd1VTRIAEOISBqX47tzfjhKYyC78t72o/z49a3MGp7OsrvP4Myx2STZLeSlJ3D9/OH8eMk43t5yhN+9tzsq66lucvLO1iNcPnMoyQaMHY2VYf7M0MJjjeRnJATT6o1gMZuYnJva6SjV3vS/aO8/5uXj8miWrovehebDnxXi9Wq+fc5ow4995ths3vnO6aQnWHnqywMhH2fV/kpMCuZEOTPFCIGSl9oI97QqrXGw9kA1V8wYekI22fDMRBaOyuSV9SVRDYKK6JIARicCGRhawzGDTqrrm12kxvt+MaYlWKmThnURV+twkZ5oDc5BN6KE5HBNM1p3PifebjFHpITk0z3Hgn82apKK6N+OBAMYJ6ZH2iMUwDhU5eBn/9xmWFAXOmZFVUoPDCEiaog/Y8vI8tjeanV7eHDZLsYOTuKZW+YyKPnEz7A7zxrFDfOH84/lRfz908KIZx4uXV+C0+3lhvkFEf0+kZYabyU5znejbIRBI1Tbm5KXyo4j9bjb/Q4I9L+YF0KzyZHZSSwYGb0LzcrGVl5eW8JVs/OCEwGNFmc1c+3cfD7cWU5pjaP7J3RiVVEVU/LSgueu/Ul6FDIwmp0evr90CxaT4rJ25SPtXTNnGCXVzawKIxNG9G0SwOhEZUPbifTROmPuVNQ1u4IfRmnxVsnAiILqJifpCTbirCasZhVspBqO4uoTR6gG2C0mnAZe3AF4vZrP91QQb/XVAjcY1IhURI/WmuseW81La41rKhUobxvSWQlJhDKBPtldzktrDwWn8BihYwBDMjCEiKTsZDsmBWUxzMB4ZuVBDlU7uOeiiVi6yBBQSnHfJZO4ZFouf3h/D/e8ub3DRbORPF7N8/4+DON6UQLRFymlgmUkRva/CJial0qzy8P+irZGnm39L0LLFrh2ru9Cc+X+yF9ovrPlCE6Pl1tOGxHR7xPoXfHCmt7/znc43Ww6VNsvy0cA4q1m36TFCN2kdbq93PnCBtYdrObP10wnr4upQRdMyiE13srLUczuEdElAYxOtD+RNqoPRn1LWwAjNd6Kw+mJ2pzkgarW4QtgKKVIjbcakr1Q4r946zQDw2r8heO2w3VUNTmDDaEkgNH/HGtoZVVRFfe9vYP9FcbUnh+ubSYj0Ua87cQmd/E2My0RyASq9veUMaqXDLSVkFhMSgIYQkSY1WwiO9luaH+v3qhqbOV/Py7k7HHZnDk2+6T7mk2Kv14znTvOGsULaw5x+7PraWw1/vffZ3uOUVrTzI0L+l/DxM4EykiOb7RphKl5aQBsaVdGsmxbGVlJdibkhNb89IJJOaQlWHlpXeSnRryx6TCTclMYOziygaqhafGcPzGHl9ce6nU25LqDNbi9mgX9bHxqgFKK9ASrIWPRdxyp47an13HG7z/hx69t4d9by/j+0s18tqeCBy6bwiXTcrt8bpzVzOUzhvL+9qNRaSgqok8CGJ2oaGhlULKvb4JRqZb1zW09MAJNbmQSSWRVO5zBdLaUOKshF17FVQ7irL6TwOP5SkiMDWB8uucYSsFFU3yNxRqkhKTfCQQtnB4vP3p1Cx4DUmW7GqEKkZtCUuU/CTDycyvwM5mfmSABDCGiICc1nqP1sQlg/PWjfThcHn5x4YQe7W8yKX76lfE8ePkUlu+r5JK/rWBLyYk9GMLx7KpiBiXbuWBSjqHHjZXAzZVIlJCMyEwk2W5hm7+RZ1ldM5/sPsbVs/N63f8iIHCh+cGOo8EgeSQUHmtka2ldh4kVkXTjwuHUOFy8veVIr563an8VVrNidkF6hFYWeekJtg4lJHUOV69KhEqqHXznpU1c9NAK1h2sZtzgZN7dfpS7XtzIv7aW8fMLx/P1efndHueaOcNwery8ublvjY4WxpAARicqG1sZmZ1Igs0cmQwM/5ihumaJCkZSbZMr2FAo2aDRtYf8c+I7G0FnMxs/RvXTPRVMH5YWLFmRDIz+50ClL932RxeMY+OhWp5YURT2MctqWzotHwHfFJKWCJSQBO6o1Bv4Hgz8TI7MSupQuieEiIwhKXExycAoPNbIi2sP8fW5+Yzp5R3wr8/L57nb5tLs9HDFIyv560d7DenF886WI3y+t4Lr5uYb2vAylsbnpGCzmCKSZWAyKSYPbWvkuXRdKV7tm24Tjmvn+Jp5/nNjqRHL7NRbmw9jUpz0rr2RFozMZNzgZJ5ZebBXPVyW7/Wd8yXYLBFcXWT5Ji36fp+XVDuY++BHfP3/VlPWg5L8raW1XPr3L/loZzl3LRrFFz85h/+7aQ6bfrmY1+5YwBM3zeabZ47q0TomDElhwpAU3trcuyCS6B9OjU9sg1U2tpKVZCcnNc6QDAyXx4vD6SElvq0HBiCjVCPI5fHS0OoOzqT2lZCEf+F1qMpBfkbndzbsVmPHqFY1trK1tJZF4wYFG3NJBkb/U1TRRJzVxB1njuL8iYP54wd7KQxzjOGR2maGdjKBBHx3tJojkYHRGIEMDP/7eWR2IlVNrTImWIgIG5IWR1ltc9R/1p5fXYxZKe4+b0xIz184Kov3vnsml0zL5a8f7ePmp9aGVYb76voS7n55E3MLMvjmmSNDPk5fc9mMoXzx40Vk+G/eGG1qXiq7yhpocXlYur6EM8ZkhTWOFGBcTjIz8tN4ae2hiLwvvV7NG5sOc9roLAaldJ65aDSlFDcuHM6OI/U9biS552gDO8vquXBK/x3lC5AW35aB8fyaYtxezdbSOpb89Qve3VbW5fO+LKzkusdWk2Azs+zuM/jRBeODww8sZhOzCzI4d8LgXq3lsum5bC6ppbiqqfudRb8iAYxOVDY6yU62MyQ1rkcRw+4E0qTbTyEBCWBEUuBucVsJiYWGMC+8tNbBDIzO2C0mQ/uaLN9Xgdb4Axi+1yEZGP1PUUUjBZmJmEyKBy6fgtWkeDKMEWv1LS4aWt1dl5BEaApJMAPD0BISN8l2C4OS7bg82pBGu0KIrg1JjaPJ6aEhAv0kutLq9vDm5sMsnjQ4ONY8FKnxVv5yzXR+e8UUviys4ldvbQ/pgve5VQf50WtbOW10Fs/cOpdEe/+92308s0kxOIIX6VPz0nB6vDy+vIjDtc1cNze87IuA6+bks7+iiQ3FNYYcr70Nh2oorWnmipnRKR8JuGJGHkPT4rnv7R09yhh6fWMpFpOKWpZIpKQn+jIwWlwelq4rYfGEwSz7f2dQkJXInS9sZNKv3mPGrz9g3oMfceH/fMEdz23gnje3cctT68hLT+D1OxcaVgJ1sf/f8m3JwjjlSADjOM1OD42tbl8GRkq8IRkYgTv/wR4Y8f45ydIDI2ICwaFACUmKASUkFY2tNLs8nU4gAeN7YHy+p4KsJBuTclNI8p9gGZm+L6LjQGUTo/wN1bKT7QxNj6c6jJGhbSNUO8/AiEQzWYhUE08XKfHW4EVNhfTBECKicmIwSvXDneXUOlxcM3uYIce7dm4+dy0axcvrSnjyy4O9eu6r60v45Vs7OG/CIB6/cXanjZBF16bmpQLwt08LyUqycV4v74h35avThpBkt/DqeuPLSN7YdJh4q5nzJ0a3z0m8zcz9l0xib3kjT6w4+U0Lt8fLG5sOs2j8IDLDCPL1BWkJNmodLv61tYwah4sbFwynICuR1+5YwP2XTOLaufl8dWouZ43NZnCKnX3HGnh1fSmzC9JZ+p8LDA3A5abFM3dEBm9uPiwZnqeYUyfsbJBAI7nsJDsOp5vyhlY8Xo05xAZF0HbC334KCRCxMUOi7WIrUEKSEuebQqK17rR/RU+cbAIJgM1iotXAO9+FFY1MHpoabI6VbLdICUk/43R7KalpDt4FgLb3YqjKarseoQq+Jp5Ojzfsz632vF4dTAk1uolncpwlGMCobGxl9CDju+cLIXyGpPouDsrqWiI+jSHglXUl5KbGcdroLMOO+YPF4yg81sgD/97J4BRfE87u+lisLKzkZ//cxumjs3j4P2Zhs8g9vN7KS4/3T5lwccusYYb9GybYLJwzfhAf7irnAY+3yxG7vdXq9vDvrWUsmZwTk0yb8yYO5vyJg/nrR3u5aMoQhnVx/vhFYSUVDa18bWZelFdovPQEK26v5h+f72dUdiIL/CNhrWYTNy0s6PQ54Zybd+fS6bn84o3t7CyrZ1JuakS+h4g++fQ+TuAOYFayjZzUeDxeHXZ3/MDFSqAHRnKcBaVkCkkk1To6BjBS4624PDqs5obFVf4ARpcZGMb2wDhc07HPQXKcRVLs+5lD1Q48Xt0hHTI5zhJWKdBhfwZGVz0wAncUjWwoW9/iCk5PMWIccUBdsz8DI9n3cyqTSISIrEAA46gB5bE9cbi2mRWFlVw5e5hhAVXwNZT889XTGZ+Twrdf3MSke9/nsr9/yS/f3M7zq4tZd7C6wzlW4bEG/vP5DYzISuTh62dK8CJESimm+MepXjvHmIyagCWTc6hucrLuoHFlJJ/vqaCu2cWl02NXlnHvJZMwKcV9b+/oMgvg9Q2lpCdYOWf8oCivznhp/vPufccauWH+8B4FJiIVvAC4cPIQLCYlZSSnGMnAOE5lQyADIw6v/1q0rK4lrJSmwEVnIAPDZFKkGjQVQ3SuuilQQuLvgREfKMFwhZwyWlzlQCnfHYjO2C1m3F5tyJ3vplY3NQ4XQ9PbBzCskoHRzxT5R6iOzG7LKkiJt1JUGXpDqSO1zVhMqtNRvgBx/hPzFpeXBIP6uFW1G29nbBNPN0PT4tsyMBokgCFEJA1KjkMpOFIbnRKS19aXojVcNcv4O8uJdguv/Od8PttTwbbDdWwpqeXNTYc79PcYkhrH2MHJ7CtvwG4x89Qtc4LnYiI0t50+gnkjMigweFTrWWOzsVtMvL/jaPCufbj+tbWM9ASrodk/vTU0LZ7vnTeWB5bt4qkvD3Lr6SM6PF7X7OKDneVcN8e4jJZYCtw4TLCZuSICP/e9lZ5o46yx2by95Qg/WTI+5JG/om+RAMZx2mdgBAKCR+uaYVhayMcM3LEMlI6AbxKJNPGMnBrHiSUk4PtFEWowat+xBnJT47FbOg+A2K2+XzxOtzfsutrAXfa89LZsj3Dv3IvoCwQq2mdgpMRZw+ojEQiodhUki7P63ntGTiIJlGTZzCZDs4Dqm11MGJJMeoINk/I1UBZCRI7NYiIryR6VHhher+bVDSWcNjqzy9T5cCXHWbl4Wm6wTE9rTVldC3vKG9hztIG9RxvYU96A3Wrmkeund/idKkJz1thszhqbbfhxE+0WzhiTzfs7jnLvxRPDvivf7PTw0a5yLpsxNOZjcm8+rYA1B6r49b92cqCyiV9dPDG4pmXbynC6vVxxCpSPQFvz/MtmDO0zwcJLpufy8e5jrDtYzbyRxgTHRGxJAOM4lQ2+E+jMRDs2/4dLuDPTA3csA1kAAKkJNmniGUE1TU7irebgxVwgeBTqhaPXq1m1v4pzxnfdsMruj5y3uj3hBzBqTiwTSI6zSJPDfuZARRNZSbYOwcuUeAv1Le6QwY5ZXQAAIABJREFUaz4Pn2SEKrQFMIycRBIIYORnJhg+RjU13orZpMhItEsJiRBRMCQ1jrL6yAcwviispLSmmR9dMC7i3ytAKUVuWjy5afEsGtf/0/EHmiWTc/hoVzlbS+uYFsaNQ4BPdh/D4fTw1amxH0tqNZv4xw2z+d17u3lseRFFlY0snjCYA5VNfLiznNGDkoINUvu7ibkpXDItlzvPGhXrpQQtnjiYRJuZ1zaUSgDjFNFtSFIp9aRS6phSanu7bfcppQ4rpTb7vy5s99jPlFKFSqk9SqkL2m1f4t9WqJT6abvtI5RSa5RS+5RSryilIjO8uocqG1tJjbdis5jISLRhM5vCvlNR3+zCYlLEW9suatPirdRJE8+IqXG4OsxBD/QfCbV+f8eRemocLk4f0/UHny0YwAi/D0ZpMAPj+BISycDoT4oqGxmZ1bEpZXKcFY9Xh5whcaS2ucsRqgBx1kAJifEBjILMRMN6YHi9msZWd/AOTVaSTQIYQkRBTkpcxHtg1DW7+MUb2xiaFs8Fk6I7/UH0X+dNGITZpHh/x9Gwj/WvrUfITrYzb0TfuGA1mxQ/v3ACf7hyKmsPVHPfOzt5feNhMpJs/PKr4Wec9BUJNgsPXTcjYllXoUiwWbhkei7vbD0i5funiJ7kVD0NLOlk+1+01tP9X8sAlFITgWuBSf7nPKyUMiulzMDfga8AE4Hr/PsC/M5/rDFADXBbOC8oXJWNrcHacqUUOalxHA3zTkVgVGD7D6fUeKtkYERQjcNJWkK7u95x/h4YIaa/ryisBDhpHWWgtMSIEZalNQ5sZhPZ7cZpRbOE5IkVB/jvd3dF5XudyooqmhiZ3bFOOHDBHsp70ePVlNe3MOQkGRj2YAaGcQ1lAwGMEVkJ1De78HrDH0fW0OJG67bgYnaynQopIREi4nLT4oPTjCJBa82PX9vC0boW/vfrM4JZYUJ0Jy3BxvyRGby3/WhYYy8bW918svsYF07OMbR5rBGumj2MVT87l3W/OI9t953Pv75zRkRKckRHX587nBaXlzc3HY71UoQBug1gaK2XA9U9PN6lwMta61at9QGgEJjr/yrUWhdprZ3Ay8ClyndFfw7wmv/5zwCX9fI1GKqioZWspLY79zmpcWGXkNQ3u4MX0AFpCdIDI5JqHM5g/wtou0gKNfK6orCC8TnJDEru+s53oITE6Qn/zvfhGt9d9vbNhgJNPKMxy/qFNcX84/MiCo81RPx7narqHC6qmpwd+l9Ax4ayvVXZ2IrLo8k9SQAjkOll5Ejf6iYniTYzg5Lj8GpocoYfSAtOZ/J/NmYl2aWJpxBRkJMaR0OrO2JNoZ9ZeZD3d5Tz4yXjmJmfHpHvIU5dSyblUFTZROGxxpCP8dHOclrd3g4jzPuSrCQ72cn2Uybroj+YkpfK1LxUXlhTHJXzaBFZ4XS1+bZSaqu/xCTwG2ooUNJun1L/tq62ZwK1Wmv3cds7pZT6plJqvVJqfUVFRRhL71plY2uwIz74akXDLiHx13m3lxZvpb7FmDuZ4kS1Dhfp7UtI4kLvgdHi8rDuYE23Xazt7aY/hOtwbXOHCSTgy8BwebSho1o709DioqjC13zyH58XRfR7ncqKKk+cQALhvRfbRqierITEn4Fh4BjV6iYn6Ym2YPDFiBTMtt5AHUtI5MRCiMgKjFItj0AfjO2H63hw2W7OHT+Ib5w+0vDji1Pf4om+kqNwykj+tfUIQ1LjJIAmOvj63Hz2ljeyodi4Ub0iNkINYDwCjAKmA2XAn/zbOwsl6hC2d0pr/ZjWerbWenZ2dmTSrSobnR0CGDn+AEY4J9V1za7gSXpAaoINrZGeBhFS3eQMdkIGX3+KeKs5pLve6w5W43R7OX1MNwGMwJ1vI3pg1JzYqDFYBhPhUarbDtcBMHZwEm9uPkxZhGulT1UHOplAAr5AFIT2s3/EH8A4WQZGWw8M4wJdVU1OMhNt7ZrhGpmBEQhg2Gl1e2lyGhd4EUKcKMc/iSvc7NLO/Ne/d5ISb+WPV02TcYUiJDmpcUzLS+XTPaHdqKxrdvH53goumjJE3oOig4un5ZJst/DimkOxXooIU0gBDK11udbao7X2Ao/jKxEBXwbFsHa75gFHTrK9EkhTSlmO2x4TzU4Pja3uYA8MgCEpcTg93mANeCjqm10njBJK818I1DZLzbfR3B4v9S2uDiUk4EvdD+XO8Yp9lVjNinkjMk66X2BqTWuYd75bXB4qGlpPGPeW7H8PRTrota3UF8D401XT8Wp4csWBiH6/U1VRRRNmkyL/uEZW4TSULak+cTrN8eL8vViaDQwE1AQyMOLCK8VqLxAESY1vC2AAUkYiRIQNSfV9fhgdwNhQXM3qomruOGtkhwxIIXpr3shMtpXWhdSM+tPdx3B5NBf1gekjom9JtFu4bMZQ/rWtjJowrusGiqXrSljw3x9HrNwwHCEFMJRS7T8VLgcCE0reBq5VStmVUiOAMcBaYB0wxj9xxIav0efb2pfW8Clwpf/5NwFvhbImIwQ64Gd3yMAI/xd9fYu7wwhVINhgUvpgGK+u2YXWdMjAAN+FUih3jlcUVjIzP50E28mnDtutxkwhCbzXjr9IDefOfW9sLa1jWEY8U/JSuXjqEF5cc4g6eZ/2WlFlI/kZCcHpNAHhlJAcqm4iM9EWDGZ1JlBCEuqUk85UNznJSLSF3UumvWAGhv+zMcsfOJZJJEJE1uBU38+a0Y08//ZJIRmJNr4+L9/Q44qBZ05BBk6Pl63+Gyq9sXxfBekJVqblhTeGVZyavj4vH6fby+sbS2O9lD5Na83/rSiirK6FN/pg49OejFF9CVgFjFNKlSqlbgN+r5TappTaCiwCvgegtd4BLAV2Au8Bd/kzNdzAt4H3gV3AUv++AD8Bvq+UKuT/s3ff4W2V58PHv0eWLHmv2I4dO7YTx9mDxJkQSIAEAoGwwyh7/QqUQltaaMtLGW1poQvKKHuUFfbeI6EkZO/p2HG895CXbFl63j8kOXYs25Isr/j+XFeuJMfS0ZEs2ee5zz0cPTGe9esz9EK588R5RNiRKweuWtHe9MFwl4ER0ZaBIQtDf6t2LraPvgIUbjJ4fdW7sr6Z3UVmFvZQPgLtmnj2MoBRWO28yt6pB4YrA6Nv3zM7CmuYNsrxi//Gk8bS0GLj5R9z+/Qxj0U55Q2dykfgSCDK7EMgKreikZSY7keTRYUY0DRHQ2J/qTq6hMQP70Gzmx4YIAEMIfqaUR/AiNBASsz+Kw/cVVjLt/vLueb41B6D/UL0JDPF0btiY66nMwQclFL8L6uCE8bFSvmIcGtiQjjTkyJ4b9vgW5QPJtvyazhQWk9ggI6X13Xf+HQgepd5MoXkEqVUglLKoJRKUko9q5S6XCk1VSk1TSl1tlKquN3t/6iUGquUGq+U+rTd9k+UUhnOr/2x3fYcpdQcpVS6UupCpdSAnb26UpePbuIJUOxjsyuL1UZzq71TD4wjGRiSwuRv1c7XtHMJifcBjB+yKwE4YVzPPVfaxqj2MoBRUN0IQJKbJp7QtxkY1Q0t5Fc1MTUpAnD8oD8xI5bXN+b3cE/Rnt2uyK1sYIybAIbJEECgXudTEOBwZQOpMZ332Z5RH0BCuIn8qkav9+9OU4uNJqvN2cTT9+yRo5mbrGgahDoXO67MNxmlOnw4m4CXaZq2q922aE3TvtQ0Lcv5d5Rzu6Zp2iOaph10NhCf2e4+Vzpvn6Vp2pXtts9yXmw56LyvrGic/DFhrb3HvztImEnPFQtS/bZPMXxFhQQyLi7U6wDGgdJ6yuqaPbroJIavs6YnsqvQTK6zV5nobNWmfIIMAdx1xgSyyupZf8j9Z3FXYS1n//sH9pWY+/X4ejOF5JhT4Txxbt8DIybUiF6nUeJjI0PXYvPoAEZbvbecrPudK1smulMGhvc9MH7IqiDcpGfqqIgeb+vKwOjt+MrCmiYCdFpbozWXIwGMvsvA2OFs4Dkt6cjznZEcSWFNE1Zb304/OZYU1TZhsdo7TSBxCTd5X85ksdooqrWQ0kMAAyA5Opj8av8EMCobHIHdmJBAwox6NM1PAQxLK2FGfdtVsuiQQDRNemAMMy8Apx+17U7ga6XUOOBr5/8BluEoSx0H3ICjmTiapkUD9wBzcfTjuqfdZLQnnLd13e/oxxq2RoYH9XrCmsvBsjo+3VXClfNTO2WbCuGrzNRoNudWY