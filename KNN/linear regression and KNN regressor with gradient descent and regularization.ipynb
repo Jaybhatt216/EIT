{
 "cells": [
  {
   "cell_type": "markdown",
   "metadata": {},
   "source": [
    "## Linear Regression"
   ]
  },
  {
   "cell_type": "code",
   "execution_count": 41,
   "metadata": {},
   "outputs": [],
   "source": [
    "import numpy as np\n",
    "import pandas as pd\n",
    "import matplotlib.pyplot as plt\n",
    "%matplotlib inline"
   ]
  },
  {
   "cell_type": "code",
   "execution_count": 3,
   "metadata": {},
   "outputs": [],
   "source": [
    "#y_hat = wX\n",
    "#@ in numpy means matrix multiplication\n",
    "#self.w is a numpy array\n",
    "\n",
    "class Linear_Regression():\n",
    "    def fit(self,X,y):\n",
    "        self.w = np.linalg.solve(XT@X,XT@y)\n",
    "    def predict(self,X):\n",
    "        return np.matmul(X,self.w)\n",
    "        \n",
    "        \n",
    "        \n",
    "        \n",
    "        "
   ]
  },
  {
   "cell_type": "markdown",
   "metadata": {},
   "source": [
    "# Creating a Linear Regression Class\n",
    "https://towardsdatascience.com/linear-regression-with-python-and-numpy-25d0e1dd220d"
   ]
  },
  {
   "cell_type": "code",
   "execution_count": 6,
   "metadata": {},
   "outputs": [],
   "source": [
    "\n",
    "class LinearRegression:\n",
    "    def fit(self,X,Y):\n",
    "            X=np.array(X).reshape(-1,1)\n",
    "            Y=np.array(Y).reshape(-1,1)\n",
    "            x_shape = X.shape\n",
    "            self.parameter_cache = []\n",
    "            num_var = x_shape[1]       #the shape corresponds to number of input variable dimensions. There’s only one for this dataset i.e weight of person\n",
    "            self.weight_matrix = np.random.normal(-1,1,(num_var,1))\n",
    "            self.intercept = np.random.rand(1)\n",
    "            for i in range(50):\n",
    "                    self.dcostdm = np.sum(np.multiply(((np.matmul(X,self.weight_matrix)+self.intercept)-Y),X))*2/x_shape[0] #w.r.t to the weight\n",
    "                    self.dcostdc = np.sum(((np.matmul(X,self.weight_matrix)+self.intercept)-Y))*2/x_shape[0]          #partial derivative of cost w.r.t the intercept\n",
    "                    self.weight_matrix -= 0.1*self.dcostdm                                                                  #updating the weights with the calculated gradients\n",
    "                    self.intercept -= 0.1*self.dcostdc                                                                      #updating the weights with the calculated gradients\n",
    "                    self.parameter_cache.append(np.array((self.weight_matrix,self.intercept)))                             #the parameters are cached just to track the progress\n",
    "            return self.weight_matrix,self.intercept,self.parameter_cache\n",
    "    def predict(self,X):\n",
    "        product = np.matmul(np.array(X).reshape(-1,1),self.weight_matrix)+self.intercept\n",
    "        return product"
   ]
  },
  {
   "cell_type": "markdown",
   "metadata": {},
   "source": [
    "## KNN regressor\n",
    "\n"
   ]
  },
  {
   "cell_type": "code",
   "execution_count": 4,
   "metadata": {},
   "outputs": [],
   "source": [
    "#y_hat_sub_i is our prediction, and the function(x_sub_i) is the fucntion  \n",
    "# y_sub_i = function(x_sub_i) + error\n",
    "# error_sub_i = y_sub_i - y_hat_sub_of_i\n",
    "#y_hat_sub_i = function(X_sub_I)\n",
    "\n",
    "class KNN_regressor():\n",
    "    \n",
    "    def fit(self,X,y):\n",
    "        self.X = X\n",
    "        self.y = y\n",
    "        \n",
    "    def predict(self,X,K,epsilon=1e-3):\n",
    "        N=len(X)\n",
    "        y_hat = np.zeros(N)\n",
    "        \n",
    "        for i in range(N): #going just once to every point\n",
    "            \n",
    "            dist2 = np.sum((self.X - X[i])**2,axis=1) #distance squared is sum of X - X_sub_i squared\n",
    "            idxt = np.argsort(dist2)[:K] #top case\n",
    "            gamma_k = np.exp(-dist2[idxt])/np.exp(-dist2[idxt]).sum()#gamma sub k negative dist2 over -dist2 index .sum\n",
    "            y_hat[i] = gamma_k.dot(self.y[idxt]) #y_hat_sub_i .dot product, multiply gamma with top y\n",
    "            \n",
    "        return y_hat\n",
    "            \n",
    "            \n",
    "            \n",
    "        \n",
    "        \n",
    "        \n",
    "    "
   ]
  },
  {
   "cell_type": "code",
   "execution_count": 5,
   "metadata": {},
   "outputs": [],
   "source": [
    "#fake data generator for testing\n",
    "class data_gen():\n",
    "    \n",
    "    def create(self,D,N,r=20):\n",
    "        self.X = np.linspace(0,r,N).reshape(N,D)\n",
    "        self.y = np.sqrt(self.X)+np.exp(-(self.X-5)**2)-2*(np.exp(-(self.X-12.5)**2)+np.random.randn(N,1)*0.2)\n",
    "        return self.X,self.y\n",
    "    \n",
    "    def show(self):\n",
    "        plt.figure()\n",
    "        plt.scatter(self.X,self.y)\n",
    "        \n",
    "     \n",
    "        \n",
    "        \n",
    "    \n",
    "    "
   ]
  },
  {
   "cell_type": "code",
   "execution_count": 6,
   "metadata": {},
   "outputs": [],
   "source": [
    "myDat = data_gen()\n"
   ]
  },
  {
   "cell_type": "code",
   "execution_count": 7,
   "metadata": {},
   "outputs": [],
   "source": [
    "X,y = myDat.create(1,200)"
   ]
  },
  {
   "cell_type": "code",
   "execution_count": 8,
   "metadata": {},
   "outputs": [
    {
     "data": {
      "image/png": "[encoded data removed]",
      "text/plain": [
       "<Figure size 432x288 with 1 Axes>"
      ]
     },
     "metadata": {},
     "output_type": "display_data"
    }
   ],
   "source": [
    "myTestDat = data_gen()\n",
    "X1,y1 = myTestDat.create(1,200)\n",
    "myTestDat.show()"
   ]
  },
  {
   "cell_type": "code",
   "execution_count": 9,
   "metadata": {},
   "outputs": [],
   "source": [
    "knn2 = KNN_regressor()"
   ]
  },
  {
   "cell_type": "code",
   "execution_count": 10,
   "metadata": {},
   "outputs": [],
   "source": [
    "knn2.fit(X1,y1)"
   ]
  },
  {
   "cell_type": "code",
   "execution_count": 20,
   "metadata": {},
   "outputs": [],
   "source": [
    "y_hat1 = knn.predict(X1,10,epsilon=1e-2)"
   ]
  },
  {
   "cell_type": "code",
   "execution_count": 21,
   "metadata": {},
   "outputs": [
    {
     "data": {
      "text/plain": [
       "[<matplotlib.lines.Line2D at 0x1abf068e0f0>]"
      ]
     },
     "execution_count": 21,
     "metadata": {},
     "output_type": "execute_result"
    },
    {
     "data": {
      "image/png": "[encoded data removed]",
      "text/plain": [
       "<Figure size 432x288 with 1 Axes>"
      ]
     },
     "metadata": {},
     "output_type": "display_data"
    }
   ],
   "source": [
    "plt.figure()\n",
    "plt.scatter(X1,y1)\n",
    "plt.plot(X1,y_hat1,color='#FF0070')"
   ]
  },
  {
   "cell_type": "code",
   "execution_count": 13,
   "metadata": {},
   "outputs": [
    {
     "data": {
      "image/png": "[encoded data removed]",
      "text/plain": [
       "<Figure size 432x288 with 1 Axes>"
      ]
     },
     "metadata": {},
     "output_type": "display_data"
    }
   ],
   "source": [
    "myDat.show()"
   ]
  },
  {
   "cell_type": "code",
   "execution_count": 14,
   "metadata": {},
   "outputs": [],
   "source": [
    "knn = KNN_regressor()"
   ]
  },
  {
   "cell_type": "code",
   "execution_count": 15,
   "metadata": {},
   "outputs": [],
   "source": [
    "knn.fit(X,y)"
   ]
  },
  {
   "cell_type": "code",
   "execution_count": 16,
   "metadata": {},
   "outputs": [],
   "source": [
    "y_hat = knn.predict(X,10,epsilon=1e-2)\n",
    "#smaller k overfits "
   ]
  },
  {
   "cell_type": "code",
   "execution_count": 17,
   "metadata": {
    "scrolled": true
   },
   "outputs": [
    {
     "data": {
      "text/plain": [
       "[<matplotlib.lines.Line2D at 0x1abf06f10b8>]"
      ]
     },
     "execution_count": 17,
     "metadata": {},
     "output_type": "execute_result"
    },
    {
     "data": {
      "image/png": "[encoded data removed]",
      "text/plain": [
       "<Figure size 432x288 with 1 Axes>"
      ]
     },
     "metadata": {},
     "output_type": "display_data"
    }
   ],
   "source": [
    "plt.figure()\n",
    "plt.scatter(X,y)\n",
    "plt.plot(X,y_hat,color='#FF0070')"
   ]
  },
  {
   "cell_type": "code",
   "execution_count": 18,
   "metadata": {},
   "outputs": [],
   "source": [
    "y_hat2 = knn.predict(X1,200,epsilon=1e-2)"
   ]
  },
  {
   "cell_type": "code",
   "execution_count": 19,
   "metadata": {},
   "outputs": [
    {
     "data": {
      "text/plain": [
       "[<matplotlib.lines.Line2D at 0x1abf06e18d0>]"
      ]
     },
     "execution_count": 19,
     "metadata": {},
     "output_type": "execute_result"
    },
    {
     "data": {
      "image/png": "[encoded data removed]",
      "text/plain": [
       "<Figure size 432x288 with 1 Axes>"
      ]
     },
     "metadata": {},
     "output_type": "display_data"
    }
   ],
   "source": [
    "plt.figure()\n",
    "plt.scatter(X,y)\n",
    "plt.plot(X,y_hat,color='#FF0070')\n",
    "plt.plot(X1,y_hat2,color='#00FF00')"
   ]
  },
  {
   "cell_type": "markdown",
   "metadata": {},
   "source": [
    "## definitions in python"
   ]
  },
  {
   "cell_type": "markdown",
   "metadata": {},
   "source": [
    "R2 =  1 - np.sum((y-y_hat)**2)/np.sum((y-np.mean(y))**2)"
   ]
  },
  {
   "cell_type": "markdown",
   "metadata": {},
   "source": [
    "## Regularization"
   ]
  },
  {
   "cell_type": "markdown",
   "metadata": {},
   "source": [
    "regularization: have models fit to functions to respond better to training data and avoid overfitting\n",
    "higher variance has a higher bias, higer variance low accuracy \n",
    "\n",
    "L1 regularization  is lasso regression\n",
    "lasso regression : Lasso regression is a type of linear regression that uses shrinkage. Shrinkage is where data values are shrunk towards a central point, like the mean. The lasso procedure encourages simple, sparse models (i.e. models with fewer parameters).\n",
    "\n",
    "Lasso stands for least absolute shrinkage selection operator\n",
    "Lassio is a cheap method of dimesionality reduction\n",
    "\n",
    "L2 is called Ridge: Ridge regression adds “squared magnitude” of coefficient as penalty term to the loss function. Here the highlighted part represents L2 regularization element.\n",
    "\n",
    "L1 = for a lot of features\n",
    "L2 = for a lot of outliers\n",
    "Ln(2): add lambda from L1 and lambda from L2 together\n",
    "\n",
    "https://www.statisticshowto.com/lasso-regression/#:~:text=Lasso%20regression%20is%20a%20type,i.e.%20models%20with%20fewer%20parameters).\n",
    "\n",
    "\n",
    "https://towardsdatascience.com/regularization-an-important-concept-in-machine-learning-5891628907ea#:~:text=Regularization%20is%20a%20technique%20used,don%27t%20take%20extreme%20values.\n",
    "\n",
    "https://towardsdatascience.com/l1-and-l2-regularization-methods-ce25e7fc831c\n",
    "\n",
    "https://towardsdatascience.com/intuitions-on-l1-and-l2-regularisation-235f2db4c261"
   ]
  },
  {
   "cell_type": "markdown",
   "metadata": {},
   "source": [
    "## Graident Descent "
   ]
  },
  {
   "cell_type": "markdown",
   "metadata": {},
   "source": [
    "Jw = F(w,x,hyperparameter) = your error will be a function of your weights your data and hyperparameter\n",
    "\n",
    "what we want to find out is what will produce the lowest error\n",
    "\n",
    "how it works:\n",
    "pick a random point\n",
    "go up\n",
    "take the gradiant of the error\n",
    "find a direction where the error is smaller and move towards that direction\n",
    "check and move at each iteration until you cant move that direction anymore\n",
    "\n",
    "optimizers = modify gradiant descent, example nesterov momentum\n",
    "\n",
    "https://dominikschmidt.xyz/nesterov-momentum/\n",
    "\n",
    "https://www.geeksforgeeks.org/gradient-descent-in-linear-regression/\n",
    "\n",
    "https://www.jefkine.com/general/2018/05/21/2018-05-21-vanishing-and-exploding-gradient-problems/\n"
   ]
  },
  {
   "cell_type": "markdown",
   "metadata": {},
   "source": [
    "## ALWAYS NORMALIZE DATA"
   ]
  },
  {
   "cell_type": "markdown",
   "metadata": {},
   "source": [
    "## Get geographic information from an address"
   ]
  },
  {
   "cell_type": "code",
   "execution_count": 3,
   "metadata": {},
   "outputs": [],
   "source": [
    "#import geo py\n",
    "from geopy import Nominatim"
   ]
  },
  {
   "cell_type": "code",
   "execution_count": 4,
   "metadata": {},
   "outputs": [],
   "source": [
    "geo_locator = Nominatim(user_agent=\"AmericasNTM\")"
   ]
  },
  {
   "cell_type": "code",
   "execution_count": 14,
   "metadata": {},
   "outputs": [],
   "source": [
    "location = geo_locator.geocode(\"1202 W irvington rd Tucson \")"
   ]
  },
  {
   "cell_type": "code",
   "execution_count": 15,
   "metadata": {},
   "outputs": [
    {
     "name": "stdout",
     "output_type": "stream",
     "text": [
      "1202, West Irvington Road, Tucson, Pima County, Arizona, 85714, United States\n"
     ]
    }
   ],
   "source": [
    "print(location)"
   ]
  },
  {
   "cell_type": "code",
   "execution_count": 19,
   "metadata": {},
   "outputs": [
    {
     "data": {
      "text/plain": [
       "Point(32.16327358031235, -110.99063172188059, 0.0)"
      ]
     },
     "execution_count": 19,
     "metadata": {},
     "output_type": "execute_result"
    }
   ],
   "source": [
    "location.point"
   ]
  },
  {
   "cell_type": "code",
   "execution_count": 35,
   "metadata": {},
   "outputs": [
    {
     "data": {
      "text/plain": [
       "dict"
      ]
     },
     "execution_count": 35,
     "metadata": {},
     "output_type": "execute_result"
    }
   ],
   "source": [
    "raw_loc = location.raw\n",
    "type(raw_loc)"
   ]
  },
  {
   "cell_type": "markdown",
   "metadata": {},
   "source": [
    "## Linear regression with graident descent and LP Regularization"
   ]
  },
  {
   "cell_type": "code",
   "execution_count": 40,
   "metadata": {},
   "outputs": [],
   "source": [
    "#golbal helper function\n",
    "def OLS(Y,Y_hat,N):\n",
    "    return (1/(2*N))*np.sum((Y-Y_hat)**2)\n",
    "\n",
    "def R_squared(Y,Y_hat):\n",
    "    return (1 - (np.sum((Y-Y_hat)**2)/np.sum((Y - np.mean(Y))**2)))\n",
    "    "
   ]
  },
  {
   "cell_type": "code",
   "execution_count": 44,
   "metadata": {},
   "outputs": [],
   "source": [
    "class Our_Linear_Regression():\n",
    "    \n",
    "    def fit(self,X,y,epochs = 1e3,eta=1e-3,show_curve = False,lambd = 0,p = 1):\n",
    "        \n",
    "        #define epoch, epoch is the number of repeations we will use\n",
    "        epoch = int(epochs)\n",
    "        \n",
    "        N,D = X.shape\n",
    "        Y = y\n",
    "        \n",
    "        self.W = np.random.randn(D)\n",
    "        J = np.zeros(epochs) #numpy array to plot later\n",
    "        \n",
    "        for epoch in range(epochs):\n",
    "            Y_hat = self.predict(X)\n",
    "            #objective calculation\n",
    "            J[epoch] = OLS(Y,Y_hat,N)+(lambd/(p*N))*np.linalg.norm(self.W,ord=p,keepdims=True)\n",
    "            #weight update rule, what happens to the weights every iteration\n",
    "            self.W -= eta*(1/N)*(X.T@(Y_hat - Y) + (1/N)*(lambd*np.abs(self.W)**(p-1)*np.sign(self.W)))\n",
    "            \n",
    "        if show_curve:\n",
    "            plt.figure()\n",
    "            plt.plot(J)\n",
    "            plt.xlabel(\"epochs\")\n",
    "            plt.ylabel(\"$\\mathcal(J)$\")\n",
    "            plt.title(\"Training Curve\")\n",
    "            plt.show()\n",
    "            \n",
    "    def predict(self,X):\n",
    "        return X@self.W\n",
    "        \n",
    "            \n",
    "            \n",
    "        \n",
    "        \n",
    "    \n",
    "    "
   ]
  },
  {
   "cell_type": "code",
   "execution_count": 45,
   "metadata": {},
   "outputs": [],
   "source": []
  },
  {
   "cell_type": "raw",
   "metadata": {},
   "source": []
  },
  {
   "cell_type": "code",
   "execution_count": null,
   "metadata": {},
   "outputs": [],
   "source": []
  },
  {
   "cell_type": "code",
   "execution_count": null,
   "metadata": {},
   "outputs": [],
   "source": []
  }
 ],
 "metadata": {
  "kernelspec": {
   "display_name": "Python 3",
   "language": "python",
   "name": "python3"
  },
  "language_info": {
   "codemirror_mode": {
    "name": "ipython",
    "version": 3
   },
   "file_extension": ".py",
   "mimetype": "text/x-python",
   "name": "python",
   "nbconvert_exporter": "python",
   "pygments_lexer": "ipython3",
   "version": "3.6.5"
  }
 },
 "nbformat": 4,
 "nbformat_minor": 2
}
