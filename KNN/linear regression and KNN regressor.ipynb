{
 "cells": [
  {
   "cell_type": "markdown",
   "metadata": {},
   "source": [
    "## linear regression"
   ]
  },
  {
   "cell_type": "code",
   "execution_count": 1,
   "metadata": {},
   "outputs": [],
   "source": [
    "import numpy as np\n",
    "import pandas as pd\n",
    "import matplotlib.pyplot as plt\n",
    "%matplotlib inline"
   ]
  },
  {
   "cell_type": "code",
   "execution_count": 14,
   "metadata": {},
   "outputs": [],
   "source": [
    "#y_hat = wX\n",
    "#@ in numpy means matrix multiplication\n",
    "#self.w is a numpy array\n",
    "\n",
    "class Linear_Regression():\n",
    "    def fit(self,X,y):\n",
    "        self.w = np.linalg.solve(XT@X,XT@y)\n",
    "    def predict(self,X):\n",
    "        return np.matmul(X,self.w)\n",
    "        \n",
    "        \n",
    "        \n",
    "        \n",
    "        "
   ]
  },
  {
   "cell_type": "markdown",
   "metadata": {},
   "source": [
    "## KNN regressor\n",
    "\n"
   ]
  },
  {
   "cell_type": "code",
   "execution_count": 12,
   "metadata": {},
   "outputs": [],
   "source": [
    "#y_hat_sub_i is our prediction, and the function(x_sub_i) is the fucntion  \n",
    "# y_sub_i = function(x_sub_i) + error\n",
    "# error_sub_i = y_sub_i - y_hat_sub_of_i\n",
    "#y_hat_sub_i = function(X_sub_I)\n",
    "\n",
    "class KNN_regressor():\n",
    "    \n",
    "    def fit(self,X,y):\n",
    "        self.X = X\n",
    "        self.y = y\n",
    "        \n",
    "    def predict(self,X,K,epsilon=1e-3):\n",
    "        N=len(X)\n",
    "        y_hat = np.zeros(N)\n",
    "        \n",
    "        for i in range(N): #going just once to every point\n",
    "            \n",
    "            dist2 = np.sum((self.X - X[i])**2,axis=1) #distance squared is sum of X - X_sub_i squared\n",
    "            idxt = np.argsort(dist2)[:K] #top case\n",
    "            gamma_k = np.exp(-dist2[idxt])/np.exp(-dist2[idxt]).sum()#gamma sub k negative dist2 over -dist2 index .sum\n",
    "            y_hat[i] = gamma_k.dot(self.y[idxt]) #y_hat_sub_i .dot product, multiply gamma with top y\n",
    "            \n",
    "        return y_hat\n",
    "            \n",
    "            \n",
    "            \n",
    "        \n",
    "        \n",
    "        \n",
    "    "
   ]
  },
  {
   "cell_type": "code",
   "execution_count": 31,
   "metadata": {},
   "outputs": [],
   "source": [
    "#fake data generator for testing\n",
    "class data_gen():\n",
    "    \n",
    "    def create(self,D,N,r=20):\n",
    "        self.X = np.linspace(0,r,N).reshape(N,D)\n",
    "        self.y = np.sqrt(self.X)+np.exp(-(self.X-5)**2)-2*(np.exp(-(self.X-12.5)**2)+np.random.randn(N,1)*0.2)\n",
    "        return self.X,self.y\n",
    "    \n",
    "    def show(self):\n",
    "        plt.figure()\n",
    "        plt.scatter(self.X,self.y)\n",
    "        \n",
    "     \n",
    "        \n",
    "        \n",
    "    \n",
    "    "
   ]
  },
  {
   "cell_type": "code",
   "execution_count": 32,
   "metadata": {},
   "outputs": [],
   "source": [
    "myDat = data_gen()\n"
   ]
  },
  {
   "cell_type": "code",
   "execution_count": 33,
   "metadata": {},
   "outputs": [],
   "source": [
    "X,y = myDat.create(1,200)"
   ]
  },
  {
   "cell_type": "code",
   "execution_count": 36,
   "metadata": {},
   "outputs": [],
   "source": [
    "#print(X)"
   ]
  },
  {
   "cell_type": "code",
   "execution_count": 35,
   "metadata": {},
   "outputs": [],
   "source": [
    "#print(y)"
   ]
  },
  {
   "cell_type": "code",
   "execution_count": 34,
   "metadata": {},
   "outputs": [
    {
     "data": {
      "image/png": "[encoded data removed]",
      "text/plain": [
       "<Figure size 432x288 with 1 Axes>"
      ]
     },
     "metadata": {},
     "output_type": "display_data"
    }
   ],
   "source": [
    "myDat.show()"
   ]
  },
  {
   "cell_type": "code",
   "execution_count": 42,
   "metadata": {},
   "outputs": [],
   "source": [
    "knn = KNN_regressor()"
   ]
  },
  {
   "cell_type": "code",
   "execution_count": 43,
   "metadata": {},
   "outputs": [],
   "source": [
    "knn.fit(X,y)"
   ]
  },
  {
   "cell_type": "code",
   "execution_count": 79,
   "metadata": {},
   "outputs": [],
   "source": [
    "y_hat = knn.predict(X,10,epsilon=1e-2)\n",
    "#smaller k overfits "
   ]
  },
  {
   "cell_type": "code",
   "execution_count": 80,
   "metadata": {},
   "outputs": [
    {
     "data": {
      "text/plain": [
       "[<matplotlib.lines.Line2D at 0x1ee7f9a17b8>]"
      ]
     },
     "execution_count": 80,
     "metadata": {},
     "output_type": "execute_result"
    },
    {
     "data": {
      "image/png": "[encoded data removed]",
      "text/plain": [
       "<Figure size 432x288 with 1 Axes>"
      ]
     },
     "metadata": {},
     "output_type": "display_data"
    }
   ],
   "source": [
    "plt.figure()\n",
    "plt.scatter(X,y)\n",
    "plt.plot(X,y_hat,color='#FF0070')"
   ]
  },
  {
   "cell_type": "code",
   "execution_count": 50,
   "metadata": {},
   "outputs": [],
   "source": []
  },
  {
   "cell_type": "code",
   "execution_count": null,
   "metadata": {},
   "outputs": [],
   "source": []
  },
  {
   "cell_type": "code",
   "execution_count": null,
   "metadata": {},
   "outputs": [],
   "source": []
  }
 ],
 "metadata": {
  "kernelspec": {
   "display_name": "Python 3",
   "language": "python",
   "name": "python3"
  },
  "language_info": {
   "codemirror_mode": {
    "name": "ipython",
    "version": 3
   },
   "file_extension": ".py",
   "mimetype": "text/x-python",
   "name": "python",
   "nbconvert_exporter": "python",
   "pygments_lexer": "ipython3",
   "version": "3.6.5"
  }
 },
 "nbformat": 4,
 "nbformat_minor": 2
}
