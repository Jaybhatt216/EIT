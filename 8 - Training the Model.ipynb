{
 "cells": [
  {
   "cell_type": "code",
   "execution_count": 1,
   "metadata": {},
   "outputs": [],
   "source": [
    "import numpy as np\n",
    "import pandas as pd\n",
    "import cv2\n",
    "import matplotlib.pyplot as plt\n",
    "import pickle\n",
    "\n",
    "from sklearn.decomposition import PCA\n",
    "from sklearn.model_selection import train_test_split\n",
    "from sklearn.svm import SVC\n",
    "from sklearn import metrics\n",
    "from PIL import Image\n",
    "from glob import glob\n",
    "%matplotlib inline"
   ]
  },
  {
   "cell_type": "code",
   "execution_count": 2,
   "metadata": {},
   "outputs": [],
   "source": [
    "data = np.load('data_pca_50_y_mean.pickle.npz')"
   ]
  },
  {
   "cell_type": "code",
   "execution_count": 3,
   "metadata": {},
   "outputs": [
    {
     "data": {
      "text/plain": [
       "['arr_0', 'arr_1', 'arr_2']"
      ]
     },
     "execution_count": 3,
     "metadata": {},
     "output_type": "execute_result"
    }
   ],
   "source": [
    "data.files"
   ]
  },
  {
   "cell_type": "code",
   "execution_count": 4,
   "metadata": {},
   "outputs": [],
   "source": [
    "X = data['arr_0']\n",
    "y = data['arr_1']\n",
    "mean = data['arr_2']"
   ]
  },
  {
   "cell_type": "code",
   "execution_count": 5,
   "metadata": {},
   "outputs": [
    {
     "data": {
      "text/plain": [
       "(5456, 50)"
      ]
     },
     "execution_count": 5,
     "metadata": {},
     "output_type": "execute_result"
    }
   ],
   "source": [
    "X.shape"
   ]
  },
  {
   "cell_type": "code",
   "execution_count": 6,
   "metadata": {},
   "outputs": [],
   "source": [
    "# stratify = maintain train proportion, in this case 60-40\n",
    "x_train, x_test, y_train, y_test = train_test_split(X,y,test_size=0.2,stratify=y)\n"
   ]
  },
  {
   "cell_type": "code",
   "execution_count": 7,
   "metadata": {},
   "outputs": [],
   "source": [
    "#A support vector machine (SVM) is a supervised machine learning model \n",
    "#that uses classification algorithms for two-group classification problems. \n",
    "#After giving an SVM model sets of labeled training data for each category, \n",
    "#they're able to categorize new data."
   ]
  },
  {
   "cell_type": "code",
   "execution_count": 8,
   "metadata": {},
   "outputs": [],
   "source": [
    "model = SVC(C=1.0,kernel='rbf', gamma=0.01, probability=True)"
   ]
  },
  {
   "cell_type": "code",
   "execution_count": 9,
   "metadata": {},
   "outputs": [
    {
     "data": {
      "text/plain": [
       "SVC(gamma=0.01, probability=True)"
      ]
     },
     "execution_count": 9,
     "metadata": {},
     "output_type": "execute_result"
    }
   ],
   "source": [
    "model.fit(x_train, y_train)"
   ]
  },
  {
   "cell_type": "code",
   "execution_count": 10,
   "metadata": {},
   "outputs": [
    {
     "data": {
      "text/plain": [
       "0.8572410632447296"
      ]
     },
     "execution_count": 10,
     "metadata": {},
     "output_type": "execute_result"
    }
   ],
   "source": [
    "# training data score\n",
    "model.score(x_train,y_train)"
   ]
  },
  {
   "cell_type": "code",
   "execution_count": 11,
   "metadata": {},
   "outputs": [
    {
     "data": {
      "text/plain": [
       "0.8086080586080586"
      ]
     },
     "execution_count": 11,
     "metadata": {},
     "output_type": "execute_result"
    }
   ],
   "source": [
    "model.score(x_test,y_test)"
   ]
  },
  {
   "cell_type": "code",
   "execution_count": 12,
   "metadata": {},
   "outputs": [],
   "source": [
    "pickle.dump(model, open('svc80%.pickle', 'wb'))"
   ]
  },
  {
   "cell_type": "markdown",
   "metadata": {},
   "source": [
    "# Model Evaluation\n",
    "- Confusion Matrix\n",
    "- Classification Report\n",
    "- Kappa Score\n",
    "- ROC and AUC\n"
   ]
  },
  {
   "cell_type": "code",
   "execution_count": 13,
   "metadata": {},
   "outputs": [],
   "source": [
    "y_pred = model.predict(x_test)\n",
    "y_prob = model.predict_proba(x_test)"
   ]
  },
  {
   "cell_type": "code",
   "execution_count": 14,
   "metadata": {},
   "outputs": [],
   "source": [
    "cm = metrics.confusion_matrix(y_test,y_pred)"
   ]
  },
  {
   "cell_type": "code",
   "execution_count": 15,
   "metadata": {},
   "outputs": [],
   "source": [
    "cm = np.concatenate((cm, cm.sum(axis=0).reshape(1,-1)), axis=0)"
   ]
  },
  {
   "cell_type": "code",
   "execution_count": 16,
   "metadata": {},
   "outputs": [],
   "source": [
    "cm = np.concatenate((cm, cm.sum(axis=1).reshape(-1,1)), axis=1)"
   ]
  },
  {
   "cell_type": "code",
   "execution_count": 17,
   "metadata": {},
   "outputs": [
    {
     "data": {
      "text/plain": [
       "array([[ 307,  134,  441],\n",
       "       [  75,  576,  651],\n",
       "       [ 382,  710, 1092]], dtype=int64)"
      ]
     },
     "execution_count": 17,
     "metadata": {},
     "output_type": "execute_result"
    }
   ],
   "source": [
    "cm"
   ]
  },
  {
   "cell_type": "code",
   "execution_count": 18,
   "metadata": {},
   "outputs": [
    {
     "data": {
      "image/png": "[encoded data removed]",
      "text/plain": [
       "<Figure size 432x288 with 1 Axes>"
      ]
     },
     "metadata": {
      "needs_background": "light"
     },
     "output_type": "display_data"
    }
   ],
   "source": [
    "plt.imshow(cm)\n",
    "for i in range(3):\n",
    "    for j in range(3):\n",
    "        plt.text(i,j, '%d'%cm[i,j], color='white', fontweight ='bold')\n",
    "plt.xticks([0,1])\n",
    "plt.yticks([0,1])\n",
    "plt.xlabel('Predicted Values')\n",
    "plt.ylabel('True Values')\n",
    "plt.show()"
   ]
  },
  {
   "cell_type": "code",
   "execution_count": 19,
   "metadata": {},
   "outputs": [
    {
     "data": {
      "text/html": [
       "<div>\n",
       "<style scoped>\n",
       "    .dataframe tbody tr th:only-of-type {\n",
       "        vertical-align: middle;\n",
       "    }\n",
       "\n",
       "    .dataframe tbody tr th {\n",
       "        vertical-align: top;\n",
       "    }\n",
       "\n",
       "    .dataframe thead th {\n",
       "        text-align: right;\n",
       "    }\n",
       "</style>\n",
       "<table border=\"1\" class=\"dataframe\">\n",
       "  <thead>\n",
       "    <tr style=\"text-align: right;\">\n",
       "      <th></th>\n",
       "      <th>precision</th>\n",
       "      <th>recall</th>\n",
       "      <th>f1-score</th>\n",
       "      <th>support</th>\n",
       "    </tr>\n",
       "  </thead>\n",
       "  <tbody>\n",
       "    <tr>\n",
       "      <th>male</th>\n",
       "      <td>0.803665</td>\n",
       "      <td>0.696145</td>\n",
       "      <td>0.746051</td>\n",
       "      <td>441.000000</td>\n",
       "    </tr>\n",
       "    <tr>\n",
       "      <th>female</th>\n",
       "      <td>0.811268</td>\n",
       "      <td>0.884793</td>\n",
       "      <td>0.846436</td>\n",
       "      <td>651.000000</td>\n",
       "    </tr>\n",
       "    <tr>\n",
       "      <th>accuracy</th>\n",
       "      <td>0.808608</td>\n",
       "      <td>0.808608</td>\n",
       "      <td>0.808608</td>\n",
       "      <td>0.808608</td>\n",
       "    </tr>\n",
       "    <tr>\n",
       "      <th>macro avg</th>\n",
       "      <td>0.807466</td>\n",
       "      <td>0.790469</td>\n",
       "      <td>0.796244</td>\n",
       "      <td>1092.000000</td>\n",
       "    </tr>\n",
       "    <tr>\n",
       "      <th>weighted avg</th>\n",
       "      <td>0.808197</td>\n",
       "      <td>0.808608</td>\n",
       "      <td>0.805896</td>\n",
       "      <td>1092.000000</td>\n",
       "    </tr>\n",
       "  </tbody>\n",
       "</table>\n",
       "</div>"
      ],
      "text/plain": [
       "              precision    recall  f1-score      support\n",
       "male           0.803665  0.696145  0.746051   441.000000\n",
       "female         0.811268  0.884793  0.846436   651.000000\n",
       "accuracy       0.808608  0.808608  0.808608     0.808608\n",
       "macro avg      0.807466  0.790469  0.796244  1092.000000\n",
       "weighted avg   0.808197  0.808608  0.805896  1092.000000"
      ]
     },
     "execution_count": 19,
     "metadata": {},
     "output_type": "execute_result"
    }
   ],
   "source": [
    "# Classification Report\n",
    "cr = metrics.classification_report(y_test,y_pred,target_names=['male','female'], output_dict=True)\n",
    "pd.DataFrame(cr).T"
   ]
  },
  {
   "cell_type": "code",
   "execution_count": 20,
   "metadata": {},
   "outputs": [
    {
     "data": {
      "text/plain": [
       "0.59375"
      ]
     },
     "execution_count": 20,
     "metadata": {},
     "output_type": "execute_result"
    }
   ],
   "source": [
    "# Kappa Score good > 60, great > 80\n",
    "metrics.cohen_kappa_score(y_test,y_pred)"
   ]
  },
  {
   "cell_type": "code",
   "execution_count": 21,
   "metadata": {},
   "outputs": [
    {
     "data": {
      "image/png": "[encoded data removed]",
      "text/plain": [
       "<Figure size 720x432 with 1 Axes>"
      ]
     },
     "metadata": {
      "needs_background": "light"
     },
     "output_type": "display_data"
    }
   ],
   "source": [
    "# An ROC curve (receiver operating characteristic curve) is a graph showing \n",
    "# the performance of a classification model at all classification thresholds.\n",
    "# False Positive Rate, True Positive Rate\n",
    "# Female\n",
    "fpr, tpr, thresh = metrics.roc_curve(y_test,y_prob[:,1])\n",
    "auc_s = metrics.auc(fpr,tpr)\n",
    "plt.figure(figsize=(10,6))\n",
    "plt.plot(fpr, tpr, '-.')\n",
    "plt.plot([0,1],[0,1], 'b--')\n",
    "for i in range(0, len(thresh), 20):\n",
    "    plt.plot(fpr[i], tpr[i],'^')\n",
    "    plt.text(fpr[i],tpr[i],\"%0.2f\"%thresh[i])\n",
    "    \n",
    "plt.legend(['AUC Score = %0.2f'%auc_s])\n",
    "\n",
    "plt.xlabel('False Positive Rate')\n",
    "plt.ylabel('True Positive Rate')\n",
    "plt.title('Receiver Operating Characteristics')\n",
    "plt.show()"
   ]
  },
  {
   "cell_type": "code",
   "execution_count": 22,
   "metadata": {},
   "outputs": [],
   "source": [
    "#if you see the mark 0.57 the false positive rate is 20 and the true is 80\n",
    "# since the default probability is 50% the threshhold \n",
    "\n",
    "# AUC stands for \"Area under the ROC Curve.\" That is, AUC measures the \n",
    "#entire two-dimensional area underneath the entire ROC curve"
   ]
  },
  {
   "cell_type": "code",
   "execution_count": 23,
   "metadata": {},
   "outputs": [],
   "source": [
    "model_tune = SVC()"
   ]
  },
  {
   "cell_type": "code",
   "execution_count": 24,
   "metadata": {},
   "outputs": [],
   "source": [
    "from sklearn.model_selection import GridSearchCV"
   ]
  },
  {
   "cell_type": "code",
   "execution_count": 25,
   "metadata": {},
   "outputs": [],
   "source": [
    "param_grid = {'C':[1,10,20,30,50,100], \n",
    "              'kernel':['rbf', 'poly'], \n",
    "              'gamma':[0.1,0.05,0.01,0.001,0.002,0.005],\n",
    "              'coef0':[0,1]}"
   ]
  },
  {
   "cell_type": "code",
   "execution_count": 27,
   "metadata": {},
   "outputs": [],
   "source": [
    "#cv = crossvalidation\n",
    "model_grid = GridSearchCV(model_tune,param_grid=param_grid,scoring='accuracy', cv=5, verbose=1)"
   ]
  },
  {
   "cell_type": "code",
   "execution_count": 28,
   "metadata": {},
   "outputs": [
    {
     "name": "stdout",
     "output_type": "stream",
     "text": [
      "Fitting 5 folds for each of 144 candidates, totalling 720 fits\n"
     ]
    },
    {
     "name": "stderr",
     "output_type": "stream",
     "text": [
      "[Parallel(n_jobs=1)]: Using backend SequentialBackend with 1 concurrent workers.\n",
      "[Parallel(n_jobs=1)]: Done 720 out of 720 | elapsed: 10.6min finished\n"
     ]
    },
    {
     "data": {
      "text/plain": [
       "GridSearchCV(cv=5, estimator=SVC(),\n",
       "             param_grid={'C': [1, 10, 20, 30, 50, 100], 'coef0': [0, 1],\n",
       "                         'gamma': [0.1, 0.05, 0.01, 0.001, 0.002, 0.005],\n",
       "                         'kernel': ['rbf', 'poly']},\n",
       "             scoring='accuracy', verbose=1)"
      ]
     },
     "execution_count": 28,
     "metadata": {},
     "output_type": "execute_result"
    }
   ],
   "source": [
    "model_grid.fit(X,y)"
   ]
  },
  {
   "cell_type": "code",
   "execution_count": 29,
   "metadata": {},
   "outputs": [
    {
     "data": {
      "text/plain": [
       "{'C': 1, 'coef0': 0, 'gamma': 0.05, 'kernel': 'rbf'}"
      ]
     },
     "execution_count": 29,
     "metadata": {},
     "output_type": "execute_result"
    }
   ],
   "source": [
    "model_grid.best_params_"
   ]
  },
  {
   "cell_type": "code",
   "execution_count": 41,
   "metadata": {},
   "outputs": [],
   "source": [
    "model_best = SVC(C=1, gamma=0.05, kernel='rbf', coef0=0, probability=True )"
   ]
  },
  {
   "cell_type": "code",
   "execution_count": 42,
   "metadata": {},
   "outputs": [
    {
     "data": {
      "text/plain": [
       "SVC(C=1, coef0=0, gamma=0.05, probability=True)"
      ]
     },
     "execution_count": 42,
     "metadata": {},
     "output_type": "execute_result"
    }
   ],
   "source": [
    "model_best.fit(x_train, y_train)"
   ]
  },
  {
   "cell_type": "code",
   "execution_count": 43,
   "metadata": {},
   "outputs": [
    {
     "data": {
      "text/plain": [
       "0.9862511457378552"
      ]
     },
     "execution_count": 43,
     "metadata": {},
     "output_type": "execute_result"
    }
   ],
   "source": [
    "model_best.score(x_train,y_train)"
   ]
  },
  {
   "cell_type": "code",
   "execution_count": 44,
   "metadata": {},
   "outputs": [
    {
     "data": {
      "text/plain": [
       "0.8141025641025641"
      ]
     },
     "execution_count": 44,
     "metadata": {},
     "output_type": "execute_result"
    }
   ],
   "source": [
    "model_best.score(x_test,y_test)"
   ]
  },
  {
   "cell_type": "code",
   "execution_count": 45,
   "metadata": {},
   "outputs": [],
   "source": [
    "y_pred = model_best.predict(x_test)\n",
    "y_prob = model_best.predict_proba(x_test)"
   ]
  },
  {
   "cell_type": "code",
   "execution_count": 46,
   "metadata": {},
   "outputs": [
    {
     "data": {
      "text/plain": [
       "array([[ 301,  140,  441],\n",
       "       [  63,  588,  651],\n",
       "       [ 364,  728, 1092]], dtype=int64)"
      ]
     },
     "execution_count": 46,
     "metadata": {},
     "output_type": "execute_result"
    }
   ],
   "source": [
    "cm = metrics.confusion_matrix(y_test,y_pred)\n",
    "\n",
    "cm = np.concatenate((cm, cm.sum(axis=0).reshape(1,-1)), axis=0)\n",
    "\n",
    "cm = np.concatenate((cm, cm.sum(axis=1).reshape(-1,1)), axis=1)\n",
    "\n",
    "cm"
   ]
  },
  {
   "cell_type": "code",
   "execution_count": 47,
   "metadata": {},
   "outputs": [
    {
     "data": {
      "image/png": "[encoded data removed]",
      "text/plain": [
       "<Figure size 432x288 with 1 Axes>"
      ]
     },
     "metadata": {
      "needs_background": "light"
     },
     "output_type": "display_data"
    }
   ],
   "source": [
    "plt.imshow(cm)\n",
    "for i in range(3):\n",
    "    for j in range(3):\n",
    "        plt.text(i,j, '%d'%cm[i,j], color='white', fontweight ='bold')\n",
    "plt.xticks([0,1])\n",
    "plt.yticks([0,1])\n",
    "plt.xlabel('Predicted Values')\n",
    "plt.ylabel('True Values')\n",
    "plt.show()"
   ]
  },
  {
   "cell_type": "code",
   "execution_count": 50,
   "metadata": {},
   "outputs": [
    {
     "data": {
      "text/html": [
       "<div>\n",
       "<style scoped>\n",
       "    .dataframe tbody tr th:only-of-type {\n",
       "        vertical-align: middle;\n",
       "    }\n",
       "\n",
       "    .dataframe tbody tr th {\n",
       "        vertical-align: top;\n",
       "    }\n",
       "\n",
       "    .dataframe thead th {\n",
       "        text-align: right;\n",
       "    }\n",
       "</style>\n",
       "<table border=\"1\" class=\"dataframe\">\n",
       "  <thead>\n",
       "    <tr style=\"text-align: right;\">\n",
       "      <th></th>\n",
       "      <th>precision</th>\n",
       "      <th>recall</th>\n",
       "      <th>f1-score</th>\n",
       "      <th>support</th>\n",
       "    </tr>\n",
       "  </thead>\n",
       "  <tbody>\n",
       "    <tr>\n",
       "      <th>male</th>\n",
       "      <td>0.826923</td>\n",
       "      <td>0.682540</td>\n",
       "      <td>0.747826</td>\n",
       "      <td>441.000000</td>\n",
       "    </tr>\n",
       "    <tr>\n",
       "      <th>female</th>\n",
       "      <td>0.807692</td>\n",
       "      <td>0.903226</td>\n",
       "      <td>0.852792</td>\n",
       "      <td>651.000000</td>\n",
       "    </tr>\n",
       "    <tr>\n",
       "      <th>accuracy</th>\n",
       "      <td>0.814103</td>\n",
       "      <td>0.814103</td>\n",
       "      <td>0.814103</td>\n",
       "      <td>0.814103</td>\n",
       "    </tr>\n",
       "    <tr>\n",
       "      <th>macro avg</th>\n",
       "      <td>0.817308</td>\n",
       "      <td>0.792883</td>\n",
       "      <td>0.800309</td>\n",
       "      <td>1092.000000</td>\n",
       "    </tr>\n",
       "    <tr>\n",
       "      <th>weighted avg</th>\n",
       "      <td>0.815459</td>\n",
       "      <td>0.814103</td>\n",
       "      <td>0.810402</td>\n",
       "      <td>1092.000000</td>\n",
       "    </tr>\n",
       "  </tbody>\n",
       "</table>\n",
       "</div>"
      ],
      "text/plain": [
       "              precision    recall  f1-score      support\n",
       "male           0.826923  0.682540  0.747826   441.000000\n",
       "female         0.807692  0.903226  0.852792   651.000000\n",
       "accuracy       0.814103  0.814103  0.814103     0.814103\n",
       "macro avg      0.817308  0.792883  0.800309  1092.000000\n",
       "weighted avg   0.815459  0.814103  0.810402  1092.000000"
      ]
     },
     "execution_count": 50,
     "metadata": {},
     "output_type": "execute_result"
    }
   ],
   "source": [
    "# Classification Report\n",
    "cr = metrics.classification_report(y_test,y_pred,target_names=['male','female'], output_dict=True)\n",
    "pd.DataFrame(cr).T"
   ]
  },
  {
   "cell_type": "code",
   "execution_count": 51,
   "metadata": {},
   "outputs": [
    {
     "data": {
      "text/plain": [
       "0.6027397260273972"
      ]
     },
     "execution_count": 51,
     "metadata": {},
     "output_type": "execute_result"
    }
   ],
   "source": [
    "# Kappa Score good > 60, great > 80\n",
    "metrics.cohen_kappa_score(y_test,y_pred)"
   ]
  },
  {
   "cell_type": "code",
   "execution_count": 67,
   "metadata": {},
   "outputs": [
    {
     "data": {
      "image/png": "[encoded data removed]",
      "text/plain": [
       "<Figure size 720x432 with 1 Axes>"
      ]
     },
     "metadata": {
      "needs_background": "light"
     },
     "output_type": "display_data"
    }
   ],
   "source": [
    "# An ROC curve (receiver operating characteristic curve) is a graph showing \n",
    "# the performance of a classification model at all classification thresholds.\n",
    "# False Positive Rate, True Positive Rate\n",
    "# Female\n",
    "fpr, tpr, thresh = metrics.roc_curve(y_test,y_prob[:,1])\n",
    "auc_s = metrics.auc(fpr,tpr)\n",
    "plt.figure(figsize=(10,6))\n",
    "plt.plot(fpr, tpr, '-.')\n",
    "plt.plot([0,1],[0,1], 'b--')\n",
    "for i in range(0, len(thresh), 25):\n",
    "    plt.plot(fpr[i], tpr[i],'^')\n",
    "    plt.text(fpr[i],tpr[i],\"%0.2f\"%thresh[i], size='large')\n",
    "    \n",
    "plt.legend(['AUC Score = %0.2f'%auc_s])\n",
    "\n",
    "plt.xlabel('False Positive Rate')\n",
    "plt.ylabel('True Positive Rate')\n",
    "plt.title('Receiver Operating Characteristics')\n",
    "plt.show()"
   ]
  },
  {
   "cell_type": "code",
   "execution_count": 66,
   "metadata": {},
   "outputs": [
    {
     "name": "stdout",
     "output_type": "stream",
     "text": [
      "1 :  0.0\n",
      "2 :  0.0015360983102918587\n",
      "3 :  0.053763440860215055\n",
      "4 :  0.059907834101382486\n",
      "5 :  0.08141321044546851\n",
      "6 :  0.08141321044546851\n",
      "7 :  0.10906298003072197\n",
      "8 :  0.10906298003072197\n",
      "9 :  0.11213517665130568\n",
      "10 :  0.1152073732718894\n",
      "11 :  0.1443932411674347\n",
      "12 :  0.14746543778801843\n",
      "13 :  0.1597542242703533\n",
      "14 :  0.1597542242703533\n",
      "15 :  0.17204301075268819\n",
      "16 :  0.17204301075268819\n",
      "17 :  0.17357910906298002\n",
      "18 :  0.17665130568356374\n",
      "19 :  0.1858678955453149\n",
      "20 :  0.1889400921658986\n",
      "21 :  0.19508448540706605\n",
      "22 :  0.19815668202764977\n",
      "23 :  0.22427035330261136\n",
      "24 :  0.2304147465437788\n",
      "25 :  0.261136712749616\n",
      "26 :  0.2642089093701997\n",
      "27 :  0.27035330261136714\n",
      "28 :  0.27342549923195086\n",
      "29 :  0.2749615975422427\n",
      "30 :  0.29339477726574503\n",
      "31 :  0.2964669738863287\n",
      "32 :  0.2980030721966206\n",
      "33 :  0.3010752688172043\n",
      "34 :  0.3195084485407066\n",
      "35 :  0.3225806451612903\n",
      "36 :  0.3271889400921659\n",
      "37 :  0.3302611367127496\n",
      "38 :  0.35023041474654376\n",
      "39 :  0.3533026113671275\n",
      "40 :  0.36251920122887865\n",
      "41 :  0.3655913978494624\n",
      "42 :  0.3763440860215054\n",
      "43 :  0.3794162826420891\n",
      "44 :  0.3932411674347158\n",
      "45 :  0.39631336405529954\n",
      "46 :  0.4500768049155146\n",
      "47 :  0.4500768049155146\n",
      "48 :  0.46236559139784944\n",
      "49 :  0.46236559139784944\n",
      "50 :  0.47465437788018433\n",
      "51 :  0.47772657450076805\n",
      "52 :  0.4915514592933948\n",
      "53 :  0.4946236559139785\n",
      "54 :  0.5038402457757296\n",
      "55 :  0.5038402457757296\n",
      "56 :  0.5192012288786483\n",
      "57 :  0.5192012288786483\n",
      "58 :  0.5299539170506913\n",
      "59 :  0.5299539170506913\n",
      "60 :  0.5345622119815668\n",
      "61 :  0.5345622119815668\n",
      "62 :  0.5560675883256528\n",
      "63 :  0.5591397849462365\n",
      "64 :  0.5668202764976958\n",
      "65 :  0.5668202764976958\n",
      "66 :  0.6006144393241167\n",
      "67 :  0.6036866359447005\n",
      "68 :  0.6113671274961597\n",
      "69 :  0.6113671274961597\n",
      "70 :  0.6159754224270353\n",
      "71 :  0.6190476190476191\n",
      "72 :  0.6328725038402457\n",
      "73 :  0.6359447004608295\n",
      "74 :  0.6390168970814132\n",
      "75 :  0.642089093701997\n",
      "76 :  0.642089093701997\n",
      "77 :  0.65284178187404\n",
      "78 :  0.65284178187404\n",
      "79 :  0.6543778801843319\n",
      "80 :  0.6543778801843319\n",
      "81 :  0.6605222734254992\n",
      "82 :  0.6605222734254992\n",
      "83 :  0.6651305683563749\n",
      "84 :  0.6651305683563749\n",
      "85 :  0.6682027649769585\n",
      "86 :  0.6682027649769585\n",
      "87 :  0.6774193548387096\n",
      "88 :  0.6774193548387096\n",
      "89 :  0.6789554531490015\n",
      "90 :  0.6789554531490015\n",
      "91 :  0.6804915514592934\n",
      "92 :  0.6804915514592934\n",
      "93 :  0.6820276497695853\n",
      "94 :  0.6820276497695853\n",
      "95 :  0.6835637480798771\n",
      "96 :  0.6835637480798771\n",
      "97 :  0.685099846390169\n",
      "98 :  0.685099846390169\n",
      "99 :  0.695852534562212\n",
      "100 :  0.695852534562212\n",
      "101 :  0.7004608294930875\n",
      "102 :  0.7004608294930875\n",
      "103 :  0.7050691244239631\n",
      "104 :  0.7050691244239631\n",
      "105 :  0.7081413210445469\n",
      "106 :  0.7096774193548387\n",
      "107 :  0.7096774193548387\n",
      "108 :  0.7127496159754224\n",
      "109 :  0.7127496159754224\n",
      "110 :  0.7204301075268817\n",
      "111 :  0.7204301075268817\n",
      "112 :  0.7311827956989247\n",
      "113 :  0.7311827956989247\n",
      "114 :  0.7327188940092166\n",
      "115 :  0.7327188940092166\n",
      "116 :  0.7342549923195084\n",
      "117 :  0.7342549923195084\n",
      "118 :  0.738863287250384\n",
      "119 :  0.738863287250384\n",
      "120 :  0.7480798771121352\n",
      "121 :  0.7480798771121352\n",
      "122 :  0.7496159754224271\n",
      "123 :  0.7496159754224271\n",
      "124 :  0.7511520737327189\n",
      "125 :  0.7511520737327189\n",
      "126 :  0.7603686635944701\n",
      "127 :  0.7603686635944701\n",
      "128 :  0.7634408602150538\n",
      "129 :  0.7634408602150538\n",
      "130 :  0.7649769585253456\n",
      "131 :  0.7649769585253456\n",
      "132 :  0.7665130568356375\n",
      "133 :  0.7665130568356375\n",
      "134 :  0.7788018433179723\n",
      "135 :  0.7788018433179723\n",
      "136 :  0.7803379416282642\n",
      "137 :  0.7803379416282642\n",
      "138 :  0.7818740399385561\n",
      "139 :  0.7818740399385561\n",
      "140 :  0.783410138248848\n",
      "141 :  0.783410138248848\n",
      "142 :  0.7926267281105991\n",
      "143 :  0.7926267281105991\n",
      "144 :  0.794162826420891\n",
      "145 :  0.794162826420891\n",
      "146 :  0.7956989247311828\n",
      "147 :  0.7956989247311828\n",
      "148 :  0.8018433179723502\n",
      "149 :  0.8018433179723502\n",
      "150 :  0.8095238095238095\n",
      "151 :  0.8095238095238095\n",
      "152 :  0.815668202764977\n",
      "153 :  0.815668202764977\n",
      "154 :  0.8187403993855606\n",
      "155 :  0.8187403993855606\n",
      "156 :  0.8202764976958525\n",
      "157 :  0.8202764976958525\n",
      "158 :  0.8218125960061444\n",
      "159 :  0.8218125960061444\n",
      "160 :  0.8233486943164362\n",
      "161 :  0.8233486943164362\n",
      "162 :  0.8248847926267281\n",
      "163 :  0.8248847926267281\n",
      "164 :  0.8294930875576036\n",
      "165 :  0.8294930875576036\n",
      "166 :  0.8341013824884793\n",
      "167 :  0.8341013824884793\n",
      "168 :  0.8387096774193549\n",
      "169 :  0.8387096774193549\n",
      "170 :  0.8402457757296466\n",
      "171 :  0.8402457757296466\n",
      "172 :  0.8417818740399385\n",
      "173 :  0.8417818740399385\n",
      "174 :  0.8463901689708141\n",
      "175 :  0.8463901689708141\n",
      "176 :  0.8494623655913979\n",
      "177 :  0.8494623655913979\n",
      "178 :  0.8525345622119815\n",
      "179 :  0.8525345622119815\n",
      "180 :  0.8556067588325653\n",
      "181 :  0.8556067588325653\n",
      "182 :  0.8571428571428571\n",
      "183 :  0.8571428571428571\n",
      "184 :  0.858678955453149\n",
      "185 :  0.858678955453149\n",
      "186 :  0.8617511520737328\n",
      "187 :  0.8617511520737328\n",
      "188 :  0.8632872503840245\n",
      "189 :  0.8632872503840245\n",
      "190 :  0.8663594470046083\n",
      "191 :  0.8663594470046083\n",
      "192 :  0.8678955453149002\n",
      "193 :  0.8678955453149002\n",
      "194 :  0.869431643625192\n",
      "195 :  0.8786482334869432\n",
      "196 :  0.880184331797235\n",
      "197 :  0.880184331797235\n",
      "198 :  0.8817204301075269\n",
      "199 :  0.8817204301075269\n",
      "200 :  0.8847926267281107\n",
      "201 :  0.8847926267281107\n",
      "202 :  0.8863287250384024\n",
      "203 :  0.8863287250384024\n",
      "204 :  0.8878648233486943\n",
      "205 :  0.8878648233486943\n",
      "206 :  0.8894009216589862\n",
      "207 :  0.8894009216589862\n",
      "208 :  0.8955453149001537\n",
      "209 :  0.8955453149001537\n",
      "210 :  0.8970814132104454\n",
      "211 :  0.8970814132104454\n",
      "212 :  0.8986175115207373\n",
      "213 :  0.8986175115207373\n",
      "214 :  0.9032258064516129\n",
      "215 :  0.9032258064516129\n",
      "216 :  0.9078341013824884\n",
      "217 :  0.9078341013824884\n",
      "218 :  0.9093701996927803\n",
      "219 :  0.9093701996927803\n",
      "220 :  0.9109062980030722\n",
      "221 :  0.9109062980030722\n",
      "222 :  0.9124423963133641\n",
      "223 :  0.9124423963133641\n",
      "224 :  0.9139784946236559\n",
      "225 :  0.9139784946236559\n",
      "226 :  0.9185867895545314\n",
      "227 :  0.9185867895545314\n",
      "228 :  0.9201228878648233\n",
      "229 :  0.9201228878648233\n",
      "230 :  0.9216589861751152\n",
      "231 :  0.9216589861751152\n",
      "232 :  0.9231950844854071\n",
      "233 :  0.9231950844854071\n",
      "234 :  0.9247311827956989\n",
      "235 :  0.9247311827956989\n",
      "236 :  0.9262672811059908\n",
      "237 :  0.9262672811059908\n",
      "238 :  0.9278033794162827\n",
      "239 :  0.9278033794162827\n",
      "240 :  0.9293394777265745\n",
      "241 :  0.9293394777265745\n",
      "242 :  0.9324116743471582\n",
      "243 :  0.9324116743471582\n",
      "244 :  0.9370199692780338\n",
      "245 :  0.9370199692780338\n",
      "246 :  0.9385560675883257\n",
      "247 :  0.9385560675883257\n",
      "248 :  0.9416282642089093\n",
      "249 :  0.9416282642089093\n",
      "250 :  0.9431643625192012\n",
      "251 :  0.9431643625192012\n",
      "252 :  0.9447004608294931\n",
      "253 :  0.9447004608294931\n",
      "254 :  0.946236559139785\n",
      "255 :  0.946236559139785\n",
      "256 :  0.9477726574500768\n",
      "257 :  0.9477726574500768\n",
      "258 :  0.9493087557603687\n",
      "259 :  0.9493087557603687\n",
      "260 :  0.9508448540706606\n",
      "261 :  0.9508448540706606\n",
      "262 :  0.9523809523809523\n",
      "263 :  0.9523809523809523\n",
      "264 :  0.9554531490015361\n",
      "265 :  0.9554531490015361\n",
      "266 :  0.956989247311828\n",
      "267 :  0.956989247311828\n",
      "268 :  0.9585253456221198\n",
      "269 :  0.9585253456221198\n",
      "270 :  0.9600614439324117\n",
      "271 :  0.9600614439324117\n",
      "272 :  0.9615975422427036\n",
      "273 :  0.9615975422427036\n",
      "274 :  0.9631336405529954\n",
      "275 :  0.9631336405529954\n",
      "276 :  0.9646697388632872\n",
      "277 :  0.9646697388632872\n",
      "278 :  0.9646697388632872\n",
      "279 :  0.9646697388632872\n",
      "280 :  0.9662058371735791\n",
      "281 :  0.9662058371735791\n",
      "282 :  0.967741935483871\n",
      "283 :  0.967741935483871\n",
      "284 :  0.9692780337941628\n",
      "285 :  0.9692780337941628\n",
      "286 :  0.9708141321044547\n",
      "287 :  0.9708141321044547\n",
      "288 :  0.9723502304147466\n",
      "289 :  0.9723502304147466\n",
      "290 :  0.9723502304147466\n",
      "291 :  0.9723502304147466\n",
      "292 :  0.9754224270353302\n",
      "293 :  0.9754224270353302\n",
      "294 :  0.9769585253456221\n",
      "295 :  0.9769585253456221\n",
      "296 :  0.978494623655914\n",
      "297 :  0.978494623655914\n",
      "298 :  0.9800307219662059\n",
      "299 :  0.9800307219662059\n",
      "300 :  0.9815668202764977\n",
      "301 :  0.9815668202764977\n",
      "302 :  0.9831029185867896\n",
      "303 :  0.9831029185867896\n",
      "304 :  0.9846390168970814\n",
      "305 :  0.9846390168970814\n",
      "306 :  0.9861751152073732\n",
      "307 :  0.9861751152073732\n",
      "308 :  0.9907834101382489\n",
      "309 :  0.9907834101382489\n",
      "310 :  0.9923195084485407\n",
      "311 :  0.9923195084485407\n",
      "312 :  0.9938556067588326\n",
      "313 :  0.9938556067588326\n",
      "314 :  0.9953917050691244\n",
      "315 :  0.9953917050691244\n",
      "316 :  0.9969278033794163\n",
      "317 :  0.9969278033794163\n",
      "318 :  0.9969278033794163\n",
      "319 :  0.9969278033794163\n",
      "320 :  0.9984639016897081\n",
      "321 :  0.9984639016897081\n",
      "322 :  1.0\n",
      "323 :  1.0\n"
     ]
    }
   ],
   "source": [
    "count = 0\n",
    "for i in tpr:\n",
    "    count += 1\n",
    "    print(count, ': ', i)"
   ]
  },
  {
   "cell_type": "code",
   "execution_count": 52,
   "metadata": {},
   "outputs": [],
   "source": [
    "pickle.dump(model_best, open('model_svm.pickle','wb'))"
   ]
  },
  {
   "cell_type": "code",
   "execution_count": 53,
   "metadata": {},
   "outputs": [],
   "source": [
    "pickle.dump(model_best, open('mean_preprocess.pickle','wb'))"
   ]
  },
  {
   "cell_type": "code",
   "execution_count": null,
   "metadata": {},
   "outputs": [],
   "source": []
  }
 ],
 "metadata": {
  "kernelspec": {
   "display_name": "Python 3",
   "language": "python",
   "name": "python3"
  },
  "language_info": {
   "codemirror_mode": {
    "name": "ipython",
    "version": 3
   },
   "file_extension": ".py",
   "mimetype": "text/x-python",
   "name": "python",
   "nbconvert_exporter": "python",
   "pygments_lexer": "ipython3",
   "version": "3.7.6"
  }
 },
 "nbformat": 4,
 "nbformat_minor": 4
}
